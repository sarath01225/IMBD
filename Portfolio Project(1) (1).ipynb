{
 "cells": [
  {
   "cell_type": "code",
   "execution_count": 6,
   "id": "5c672940",
   "metadata": {},
   "outputs": [],
   "source": [
    "#Important python libraries are brought\n",
    "\n",
    "import pandas as pd\n",
    "import sqlite3\n",
    "import seaborn as sns\n",
    "import numpy as np\n",
    "import matplotlib.pyplot as plt\n",
    "import seaborn as sns"
   ]
  },
  {
   "cell_type": "code",
   "execution_count": 7,
   "id": "48502981",
   "metadata": {},
   "outputs": [],
   "source": [
    "#The db dataset is connected to notebook using sqlite3\n",
    "\n",
    "cnx = sqlite3.connect('Db-IMDB-Assignment.db')"
   ]
  },
  {
   "cell_type": "markdown",
   "id": "ad5ccec8",
   "metadata": {},
   "source": [
    "MOVIE TABLE"
   ]
  },
  {
   "cell_type": "code",
   "execution_count": 8,
   "id": "e1b71d32",
   "metadata": {},
   "outputs": [
    {
     "data": {
      "text/html": [
       "<div>\n",
       "<style scoped>\n",
       "    .dataframe tbody tr th:only-of-type {\n",
       "        vertical-align: middle;\n",
       "    }\n",
       "\n",
       "    .dataframe tbody tr th {\n",
       "        vertical-align: top;\n",
       "    }\n",
       "\n",
       "    .dataframe thead th {\n",
       "        text-align: right;\n",
       "    }\n",
       "</style>\n",
       "<table border=\"1\" class=\"dataframe\">\n",
       "  <thead>\n",
       "    <tr style=\"text-align: right;\">\n",
       "      <th></th>\n",
       "      <th>index</th>\n",
       "      <th>MID</th>\n",
       "      <th>title</th>\n",
       "      <th>year</th>\n",
       "      <th>rating</th>\n",
       "      <th>num_votes</th>\n",
       "    </tr>\n",
       "  </thead>\n",
       "  <tbody>\n",
       "    <tr>\n",
       "      <th>0</th>\n",
       "      <td>0</td>\n",
       "      <td>tt2388771</td>\n",
       "      <td>Mowgli</td>\n",
       "      <td>2018</td>\n",
       "      <td>6.6</td>\n",
       "      <td>21967</td>\n",
       "    </tr>\n",
       "    <tr>\n",
       "      <th>1</th>\n",
       "      <td>1</td>\n",
       "      <td>tt5164214</td>\n",
       "      <td>Ocean's Eight</td>\n",
       "      <td>2018</td>\n",
       "      <td>6.2</td>\n",
       "      <td>110861</td>\n",
       "    </tr>\n",
       "    <tr>\n",
       "      <th>2</th>\n",
       "      <td>2</td>\n",
       "      <td>tt1365519</td>\n",
       "      <td>Tomb Raider</td>\n",
       "      <td>2018</td>\n",
       "      <td>6.4</td>\n",
       "      <td>142585</td>\n",
       "    </tr>\n",
       "    <tr>\n",
       "      <th>3</th>\n",
       "      <td>3</td>\n",
       "      <td>tt0848228</td>\n",
       "      <td>The Avengers</td>\n",
       "      <td>2012</td>\n",
       "      <td>8.1</td>\n",
       "      <td>1137529</td>\n",
       "    </tr>\n",
       "    <tr>\n",
       "      <th>4</th>\n",
       "      <td>4</td>\n",
       "      <td>tt8239946</td>\n",
       "      <td>Tumbbad</td>\n",
       "      <td>2018</td>\n",
       "      <td>8.5</td>\n",
       "      <td>7483</td>\n",
       "    </tr>\n",
       "  </tbody>\n",
       "</table>\n",
       "</div>"
      ],
      "text/plain": [
       "   index        MID          title  year  rating  num_votes\n",
       "0      0  tt2388771         Mowgli  2018     6.6      21967\n",
       "1      1  tt5164214  Ocean's Eight  2018     6.2     110861\n",
       "2      2  tt1365519    Tomb Raider  2018     6.4     142585\n",
       "3      3  tt0848228   The Avengers  2012     8.1    1137529\n",
       "4      4  tt8239946        Tumbbad  2018     8.5       7483"
      ]
     },
     "execution_count": 8,
     "metadata": {},
     "output_type": "execute_result"
    }
   ],
   "source": [
    "#Movie Table is imported\n",
    "\n",
    "df1 = pd.read_sql_query(\"SELECT * FROM Movie\", cnx)\n",
    "df1.head()"
   ]
  },
  {
   "cell_type": "code",
   "execution_count": 9,
   "id": "19084e17",
   "metadata": {},
   "outputs": [],
   "source": [
    "#The index column is removed from the table\n",
    "\n",
    "df1.drop(['index'], axis=1,inplace=True)"
   ]
  },
  {
   "cell_type": "code",
   "execution_count": 10,
   "id": "ce84d2e0",
   "metadata": {},
   "outputs": [
    {
     "name": "stdout",
     "output_type": "stream",
     "text": [
      "The shape of the Movie table :  (3473, 5)\n",
      "The columns of the Movie table :  Index(['MID', 'title', 'year', 'rating', 'num_votes'], dtype='object')\n",
      "The size of the Movie table :  17365\n"
     ]
    }
   ],
   "source": [
    "#Basic analysis is done on the table .\n",
    "\n",
    "print('The shape of the Movie table : ',df1.shape)\n",
    "print('The columns of the Movie table : ',df1.columns)\n",
    "print('The size of the Movie table : ',df1.size)"
   ]
  },
  {
   "cell_type": "code",
   "execution_count": 11,
   "id": "8d9ee3b9",
   "metadata": {},
   "outputs": [
    {
     "data": {
      "text/html": [
       "<div>\n",
       "<style scoped>\n",
       "    .dataframe tbody tr th:only-of-type {\n",
       "        vertical-align: middle;\n",
       "    }\n",
       "\n",
       "    .dataframe tbody tr th {\n",
       "        vertical-align: top;\n",
       "    }\n",
       "\n",
       "    .dataframe thead th {\n",
       "        text-align: right;\n",
       "    }\n",
       "</style>\n",
       "<table border=\"1\" class=\"dataframe\">\n",
       "  <thead>\n",
       "    <tr style=\"text-align: right;\">\n",
       "      <th></th>\n",
       "      <th>rating</th>\n",
       "      <th>num_votes</th>\n",
       "    </tr>\n",
       "  </thead>\n",
       "  <tbody>\n",
       "    <tr>\n",
       "      <th>count</th>\n",
       "      <td>3473.000000</td>\n",
       "      <td>3.473000e+03</td>\n",
       "    </tr>\n",
       "    <tr>\n",
       "      <th>mean</th>\n",
       "      <td>6.037115</td>\n",
       "      <td>4.547316e+03</td>\n",
       "    </tr>\n",
       "    <tr>\n",
       "      <th>std</th>\n",
       "      <td>1.402919</td>\n",
       "      <td>2.958851e+04</td>\n",
       "    </tr>\n",
       "    <tr>\n",
       "      <th>min</th>\n",
       "      <td>1.300000</td>\n",
       "      <td>5.100000e+01</td>\n",
       "    </tr>\n",
       "    <tr>\n",
       "      <th>25%</th>\n",
       "      <td>5.100000</td>\n",
       "      <td>1.200000e+02</td>\n",
       "    </tr>\n",
       "    <tr>\n",
       "      <th>50%</th>\n",
       "      <td>6.200000</td>\n",
       "      <td>3.890000e+02</td>\n",
       "    </tr>\n",
       "    <tr>\n",
       "      <th>75%</th>\n",
       "      <td>7.100000</td>\n",
       "      <td>1.859000e+03</td>\n",
       "    </tr>\n",
       "    <tr>\n",
       "      <th>max</th>\n",
       "      <td>9.600000</td>\n",
       "      <td>1.137529e+06</td>\n",
       "    </tr>\n",
       "  </tbody>\n",
       "</table>\n",
       "</div>"
      ],
      "text/plain": [
       "            rating     num_votes\n",
       "count  3473.000000  3.473000e+03\n",
       "mean      6.037115  4.547316e+03\n",
       "std       1.402919  2.958851e+04\n",
       "min       1.300000  5.100000e+01\n",
       "25%       5.100000  1.200000e+02\n",
       "50%       6.200000  3.890000e+02\n",
       "75%       7.100000  1.859000e+03\n",
       "max       9.600000  1.137529e+06"
      ]
     },
     "execution_count": 11,
     "metadata": {},
     "output_type": "execute_result"
    }
   ],
   "source": [
    "#Describe function is used to computes a summary of statistics pertaining to the DataFrame columns.\n",
    "\n",
    "df1.describe()"
   ]
  },
  {
   "cell_type": "code",
   "execution_count": 12,
   "id": "c89e7081",
   "metadata": {},
   "outputs": [
    {
     "name": "stdout",
     "output_type": "stream",
     "text": [
      "<class 'pandas.core.frame.DataFrame'>\n",
      "RangeIndex: 3473 entries, 0 to 3472\n",
      "Data columns (total 5 columns):\n",
      " #   Column     Non-Null Count  Dtype  \n",
      "---  ------     --------------  -----  \n",
      " 0   MID        3473 non-null   object \n",
      " 1   title      3473 non-null   object \n",
      " 2   year       3473 non-null   object \n",
      " 3   rating     3473 non-null   float64\n",
      " 4   num_votes  3473 non-null   int64  \n",
      "dtypes: float64(1), int64(1), object(3)\n",
      "memory usage: 135.8+ KB\n"
     ]
    }
   ],
   "source": [
    "df1.info()"
   ]
  },
  {
   "cell_type": "code",
   "execution_count": 13,
   "id": "a539f690",
   "metadata": {},
   "outputs": [
    {
     "data": {
      "text/plain": [
       "MID          0\n",
       "title        0\n",
       "year         0\n",
       "rating       0\n",
       "num_votes    0\n",
       "dtype: int64"
      ]
     },
     "execution_count": 13,
     "metadata": {},
     "output_type": "execute_result"
    }
   ],
   "source": [
    "df1.isna().sum()"
   ]
  },
  {
   "cell_type": "markdown",
   "id": "804596d2",
   "metadata": {},
   "source": [
    "There's no null values in the table."
   ]
  },
  {
   "cell_type": "code",
   "execution_count": 14,
   "id": "c0a96d2d",
   "metadata": {},
   "outputs": [
    {
     "data": {
      "text/plain": [
       "MID           object\n",
       "title         object\n",
       "year          object\n",
       "rating       float64\n",
       "num_votes      int64\n",
       "dtype: object"
      ]
     },
     "execution_count": 14,
     "metadata": {},
     "output_type": "execute_result"
    }
   ],
   "source": [
    "#The datatype of the columns are checked.\n",
    "\n",
    "df1.dtypes"
   ]
  },
  {
   "cell_type": "code",
   "execution_count": 15,
   "id": "01280e01",
   "metadata": {},
   "outputs": [
    {
     "data": {
      "text/html": [
       "<div>\n",
       "<style scoped>\n",
       "    .dataframe tbody tr th:only-of-type {\n",
       "        vertical-align: middle;\n",
       "    }\n",
       "\n",
       "    .dataframe tbody tr th {\n",
       "        vertical-align: top;\n",
       "    }\n",
       "\n",
       "    .dataframe thead th {\n",
       "        text-align: right;\n",
       "    }\n",
       "</style>\n",
       "<table border=\"1\" class=\"dataframe\">\n",
       "  <thead>\n",
       "    <tr style=\"text-align: right;\">\n",
       "      <th></th>\n",
       "      <th>MID</th>\n",
       "      <th>title</th>\n",
       "      <th>year</th>\n",
       "      <th>rating</th>\n",
       "      <th>num_votes</th>\n",
       "    </tr>\n",
       "  </thead>\n",
       "  <tbody>\n",
       "    <tr>\n",
       "      <th>0</th>\n",
       "      <td>tt2388771</td>\n",
       "      <td>Mowgli</td>\n",
       "      <td>2018</td>\n",
       "      <td>6.6</td>\n",
       "      <td>21967</td>\n",
       "    </tr>\n",
       "    <tr>\n",
       "      <th>1</th>\n",
       "      <td>tt5164214</td>\n",
       "      <td>Ocean's Eight</td>\n",
       "      <td>2018</td>\n",
       "      <td>6.2</td>\n",
       "      <td>110861</td>\n",
       "    </tr>\n",
       "    <tr>\n",
       "      <th>2</th>\n",
       "      <td>tt1365519</td>\n",
       "      <td>Tomb Raider</td>\n",
       "      <td>2018</td>\n",
       "      <td>6.4</td>\n",
       "      <td>142585</td>\n",
       "    </tr>\n",
       "    <tr>\n",
       "      <th>3</th>\n",
       "      <td>tt0848228</td>\n",
       "      <td>The Avengers</td>\n",
       "      <td>2012</td>\n",
       "      <td>8.1</td>\n",
       "      <td>1137529</td>\n",
       "    </tr>\n",
       "    <tr>\n",
       "      <th>4</th>\n",
       "      <td>tt8239946</td>\n",
       "      <td>Tumbbad</td>\n",
       "      <td>2018</td>\n",
       "      <td>8.5</td>\n",
       "      <td>7483</td>\n",
       "    </tr>\n",
       "    <tr>\n",
       "      <th>...</th>\n",
       "      <td>...</td>\n",
       "      <td>...</td>\n",
       "      <td>...</td>\n",
       "      <td>...</td>\n",
       "      <td>...</td>\n",
       "    </tr>\n",
       "    <tr>\n",
       "      <th>3468</th>\n",
       "      <td>tt0090611</td>\n",
       "      <td>Allah-Rakha</td>\n",
       "      <td>1986</td>\n",
       "      <td>6.2</td>\n",
       "      <td>96</td>\n",
       "    </tr>\n",
       "    <tr>\n",
       "      <th>3469</th>\n",
       "      <td>tt0106270</td>\n",
       "      <td>Anari</td>\n",
       "      <td>1993</td>\n",
       "      <td>4.7</td>\n",
       "      <td>301</td>\n",
       "    </tr>\n",
       "    <tr>\n",
       "      <th>3470</th>\n",
       "      <td>tt0852989</td>\n",
       "      <td>Come December</td>\n",
       "      <td>2006</td>\n",
       "      <td>5.7</td>\n",
       "      <td>57</td>\n",
       "    </tr>\n",
       "    <tr>\n",
       "      <th>3471</th>\n",
       "      <td>tt0375882</td>\n",
       "      <td>Kala Jigar</td>\n",
       "      <td>1939</td>\n",
       "      <td>3.3</td>\n",
       "      <td>174</td>\n",
       "    </tr>\n",
       "    <tr>\n",
       "      <th>3472</th>\n",
       "      <td>tt0375890</td>\n",
       "      <td>Kanoon</td>\n",
       "      <td>1994</td>\n",
       "      <td>3.2</td>\n",
       "      <td>103</td>\n",
       "    </tr>\n",
       "  </tbody>\n",
       "</table>\n",
       "<p>3473 rows × 5 columns</p>\n",
       "</div>"
      ],
      "text/plain": [
       "            MID          title  year  rating  num_votes\n",
       "0     tt2388771         Mowgli  2018     6.6      21967\n",
       "1     tt5164214  Ocean's Eight  2018     6.2     110861\n",
       "2     tt1365519    Tomb Raider  2018     6.4     142585\n",
       "3     tt0848228   The Avengers  2012     8.1    1137529\n",
       "4     tt8239946        Tumbbad  2018     8.5       7483\n",
       "...         ...            ...   ...     ...        ...\n",
       "3468  tt0090611    Allah-Rakha  1986     6.2         96\n",
       "3469  tt0106270          Anari  1993     4.7        301\n",
       "3470  tt0852989  Come December  2006     5.7         57\n",
       "3471  tt0375882     Kala Jigar  1939     3.3        174\n",
       "3472  tt0375890         Kanoon  1994     3.2        103\n",
       "\n",
       "[3473 rows x 5 columns]"
      ]
     },
     "execution_count": 15,
     "metadata": {},
     "output_type": "execute_result"
    }
   ],
   "source": [
    "#The duplicates values are checked\n",
    "\n",
    "df1.drop_duplicates()"
   ]
  },
  {
   "cell_type": "code",
   "execution_count": 16,
   "id": "fdaa2956",
   "metadata": {},
   "outputs": [
    {
     "data": {
      "text/plain": [
       "MID          3473\n",
       "title        3342\n",
       "year          125\n",
       "rating         82\n",
       "num_votes    1763\n",
       "dtype: int64"
      ]
     },
     "execution_count": 16,
     "metadata": {},
     "output_type": "execute_result"
    }
   ],
   "source": [
    "df1.nunique()"
   ]
  },
  {
   "cell_type": "markdown",
   "id": "a3f9ea12",
   "metadata": {},
   "source": [
    "There's no duplicate values in the Movie table."
   ]
  },
  {
   "cell_type": "code",
   "execution_count": 17,
   "id": "8344b3c9",
   "metadata": {},
   "outputs": [
    {
     "data": {
      "text/plain": [
       "array(['2018', '2012', '2016', '2017', '2008', 'I 2009', '1977', '2013',\n",
       "       '2015', '2007', '2002', '1951', '2009', '2014', '2004', '1997',\n",
       "       '1983', '1994', '2011', '1996', '2001', '2010', '2006', '1971',\n",
       "       'I 2018', 'XVII 2016', '1958', 'I 2017', '1984', '1987', 'II 2018',\n",
       "       '2005', 'I 2002', 'III 2016', '2003', '1995', '1998', 'I 2015',\n",
       "       '1975', '1939', '2000', '1988', 'I 2016', 'I 2006', 'I 2010',\n",
       "       'I 2013', 'I 2014', 'II 2017', '1991', '1993', '1981', '1989',\n",
       "       '1976', '1959', '1970', 'VI 2015', '1979', 'I 1964', '1999',\n",
       "       'I 2003', 'III 2017', 'I 2005', 'I 2008', '1990', '1992', 'I 2007',\n",
       "       'I 2011', '1957', '1980', '1966', '1967', '1973', 'I 1997', '1968',\n",
       "       '1969', '1982', 'III 2015', '1978', '1965', '1972', '1956', '1974',\n",
       "       '1960', '1985', 'II 2012', '1986', '1949', '1964', 'III 2007',\n",
       "       '1955', 'II 2010', '1961', '1962', 'II 2013', 'I 1986', 'I 1968',\n",
       "       '1954', 'I 1980', '1941', 'II 2008', 'I 1983', 'V 2015', '1963',\n",
       "       '1931', '1953', 'I 2001', 'I 1989', '1948', '1952', 'II 1998',\n",
       "       '1947', 'I 1992', 'I 2012', '1936', 'I 1996', '1946', 'IV 2011',\n",
       "       'II 1983', 'IV 2010', 'II 2011', 'IV 2017', '1943', '1950',\n",
       "       'I 1969', 'II 2009'], dtype=object)"
      ]
     },
     "execution_count": 17,
     "metadata": {},
     "output_type": "execute_result"
    }
   ],
   "source": [
    "#The unique values of the year columns are found.\n",
    "df1['year'].unique()\n",
    "\n"
   ]
  },
  {
   "cell_type": "code",
   "execution_count": 18,
   "id": "95c7dfb9",
   "metadata": {},
   "outputs": [],
   "source": [
    "#The values in the year column in unstructured and the datatype is object which needs to be corrected.\n",
    "\n",
    "df1['year'] = df1['year'].str.split(\" \")"
   ]
  },
  {
   "cell_type": "code",
   "execution_count": 19,
   "id": "23c35480",
   "metadata": {},
   "outputs": [],
   "source": [
    "year = df1['year'].values"
   ]
  },
  {
   "cell_type": "code",
   "execution_count": 20,
   "id": "2127f7b8",
   "metadata": {},
   "outputs": [],
   "source": [
    "y = []\n",
    "for i in year:\n",
    "    if len(i) > 1:\n",
    "        y.append(i[1])\n",
    "    else:\n",
    "        y.append(i[0])"
   ]
  },
  {
   "cell_type": "code",
   "execution_count": 21,
   "id": "7f657977",
   "metadata": {},
   "outputs": [],
   "source": [
    "df1['year'] = y"
   ]
  },
  {
   "cell_type": "code",
   "execution_count": 22,
   "id": "f9aff0ad",
   "metadata": {},
   "outputs": [
    {
     "data": {
      "text/plain": [
       "array(['2018', '2012', '2016', '2017', '2008', '2009', '1977', '2013',\n",
       "       '2015', '2007', '2002', '1951', '2014', '2004', '1997', '1983',\n",
       "       '1994', '2011', '1996', '2001', '2010', '2006', '1971', '1958',\n",
       "       '1984', '1987', '2005', '2003', '1995', '1998', '1975', '1939',\n",
       "       '2000', '1988', '1991', '1993', '1981', '1989', '1976', '1959',\n",
       "       '1970', '1979', '1964', '1999', '1990', '1992', '1957', '1980',\n",
       "       '1966', '1967', '1973', '1968', '1969', '1982', '1978', '1965',\n",
       "       '1972', '1956', '1974', '1960', '1985', '1986', '1949', '1955',\n",
       "       '1961', '1962', '1954', '1941', '1963', '1931', '1953', '1948',\n",
       "       '1952', '1947', '1936', '1946', '1943', '1950'], dtype=object)"
      ]
     },
     "execution_count": 22,
     "metadata": {},
     "output_type": "execute_result"
    }
   ],
   "source": [
    "df1['year'].unique()"
   ]
  },
  {
   "cell_type": "code",
   "execution_count": 23,
   "id": "08feaddc",
   "metadata": {},
   "outputs": [],
   "source": [
    "df1['year'] = pd.to_datetime(df1['year'])"
   ]
  },
  {
   "cell_type": "code",
   "execution_count": 24,
   "id": "46a67e8b",
   "metadata": {},
   "outputs": [
    {
     "data": {
      "text/plain": [
       "MID                  object\n",
       "title                object\n",
       "year         datetime64[ns]\n",
       "rating              float64\n",
       "num_votes             int64\n",
       "dtype: object"
      ]
     },
     "execution_count": 24,
     "metadata": {},
     "output_type": "execute_result"
    }
   ],
   "source": [
    "df1.dtypes"
   ]
  },
  {
   "cell_type": "code",
   "execution_count": 25,
   "id": "6415fd41",
   "metadata": {},
   "outputs": [
    {
     "data": {
      "text/html": [
       "<div>\n",
       "<style scoped>\n",
       "    .dataframe tbody tr th:only-of-type {\n",
       "        vertical-align: middle;\n",
       "    }\n",
       "\n",
       "    .dataframe tbody tr th {\n",
       "        vertical-align: top;\n",
       "    }\n",
       "\n",
       "    .dataframe thead th {\n",
       "        text-align: right;\n",
       "    }\n",
       "</style>\n",
       "<table border=\"1\" class=\"dataframe\">\n",
       "  <thead>\n",
       "    <tr style=\"text-align: right;\">\n",
       "      <th></th>\n",
       "      <th>MID</th>\n",
       "      <th>title</th>\n",
       "      <th>year</th>\n",
       "      <th>rating</th>\n",
       "      <th>num_votes</th>\n",
       "    </tr>\n",
       "  </thead>\n",
       "  <tbody>\n",
       "    <tr>\n",
       "      <th>3</th>\n",
       "      <td>tt0848228</td>\n",
       "      <td>The Avengers</td>\n",
       "      <td>2012-01-01</td>\n",
       "      <td>8.1</td>\n",
       "      <td>1137529</td>\n",
       "    </tr>\n",
       "    <tr>\n",
       "      <th>11</th>\n",
       "      <td>tt1010048</td>\n",
       "      <td>Slumdog Millionaire</td>\n",
       "      <td>2008-01-01</td>\n",
       "      <td>8.0</td>\n",
       "      <td>729879</td>\n",
       "    </tr>\n",
       "    <tr>\n",
       "      <th>6</th>\n",
       "      <td>tt3498820</td>\n",
       "      <td>Captain America: Civil War</td>\n",
       "      <td>2016-01-01</td>\n",
       "      <td>7.8</td>\n",
       "      <td>536641</td>\n",
       "    </tr>\n",
       "    <tr>\n",
       "      <th>16</th>\n",
       "      <td>tt0454876</td>\n",
       "      <td>Life of Pi</td>\n",
       "      <td>2012-01-01</td>\n",
       "      <td>7.9</td>\n",
       "      <td>518138</td>\n",
       "    </tr>\n",
       "    <tr>\n",
       "      <th>12</th>\n",
       "      <td>tt1190080</td>\n",
       "      <td>2012</td>\n",
       "      <td>2009-01-01</td>\n",
       "      <td>5.8</td>\n",
       "      <td>320472</td>\n",
       "    </tr>\n",
       "    <tr>\n",
       "      <th>33</th>\n",
       "      <td>tt1187043</td>\n",
       "      <td>3 Idiots</td>\n",
       "      <td>2009-01-01</td>\n",
       "      <td>8.4</td>\n",
       "      <td>287848</td>\n",
       "    </tr>\n",
       "    <tr>\n",
       "      <th>17</th>\n",
       "      <td>tt1606378</td>\n",
       "      <td>A Good Day to Die Hard</td>\n",
       "      <td>2013-01-01</td>\n",
       "      <td>5.3</td>\n",
       "      <td>184585</td>\n",
       "    </tr>\n",
       "    <tr>\n",
       "      <th>8</th>\n",
       "      <td>tt3741834</td>\n",
       "      <td>Lion</td>\n",
       "      <td>2016-01-01</td>\n",
       "      <td>8.1</td>\n",
       "      <td>170216</td>\n",
       "    </tr>\n",
       "    <tr>\n",
       "      <th>32</th>\n",
       "      <td>tt0366551</td>\n",
       "      <td>Harold &amp; Kumar Go to White Castle</td>\n",
       "      <td>2004-01-01</td>\n",
       "      <td>7.1</td>\n",
       "      <td>169683</td>\n",
       "    </tr>\n",
       "    <tr>\n",
       "      <th>14</th>\n",
       "      <td>tt0075860</td>\n",
       "      <td>Close Encounters of the Third Kind</td>\n",
       "      <td>1977-01-01</td>\n",
       "      <td>7.7</td>\n",
       "      <td>163278</td>\n",
       "    </tr>\n",
       "  </tbody>\n",
       "</table>\n",
       "</div>"
      ],
      "text/plain": [
       "          MID                               title       year  rating  \\\n",
       "3   tt0848228                        The Avengers 2012-01-01     8.1   \n",
       "11  tt1010048                 Slumdog Millionaire 2008-01-01     8.0   \n",
       "6   tt3498820          Captain America: Civil War 2016-01-01     7.8   \n",
       "16  tt0454876                          Life of Pi 2012-01-01     7.9   \n",
       "12  tt1190080                                2012 2009-01-01     5.8   \n",
       "33  tt1187043                            3 Idiots 2009-01-01     8.4   \n",
       "17  tt1606378              A Good Day to Die Hard 2013-01-01     5.3   \n",
       "8   tt3741834                                Lion 2016-01-01     8.1   \n",
       "32  tt0366551   Harold & Kumar Go to White Castle 2004-01-01     7.1   \n",
       "14  tt0075860  Close Encounters of the Third Kind 1977-01-01     7.7   \n",
       "\n",
       "    num_votes  \n",
       "3     1137529  \n",
       "11     729879  \n",
       "6      536641  \n",
       "16     518138  \n",
       "12     320472  \n",
       "33     287848  \n",
       "17     184585  \n",
       "8      170216  \n",
       "32     169683  \n",
       "14     163278  "
      ]
     },
     "execution_count": 25,
     "metadata": {},
     "output_type": "execute_result"
    }
   ],
   "source": [
    "#The dataset is sorted to find the top 10 movies with most number of 'num_votes'\n",
    "\n",
    "df1.sort_values(by=['num_votes'],ascending=False).head(10)"
   ]
  },
  {
   "cell_type": "code",
   "execution_count": 26,
   "id": "bf56784f",
   "metadata": {},
   "outputs": [
    {
     "data": {
      "text/html": [
       "<div>\n",
       "<style scoped>\n",
       "    .dataframe tbody tr th:only-of-type {\n",
       "        vertical-align: middle;\n",
       "    }\n",
       "\n",
       "    .dataframe tbody tr th {\n",
       "        vertical-align: top;\n",
       "    }\n",
       "\n",
       "    .dataframe thead th {\n",
       "        text-align: right;\n",
       "    }\n",
       "</style>\n",
       "<table border=\"1\" class=\"dataframe\">\n",
       "  <thead>\n",
       "    <tr style=\"text-align: right;\">\n",
       "      <th></th>\n",
       "      <th>MID</th>\n",
       "      <th>title</th>\n",
       "      <th>year</th>\n",
       "      <th>rating</th>\n",
       "      <th>num_votes</th>\n",
       "    </tr>\n",
       "  </thead>\n",
       "  <tbody>\n",
       "    <tr>\n",
       "      <th>3349</th>\n",
       "      <td>tt4946222</td>\n",
       "      <td>Man on Mission Fauladi</td>\n",
       "      <td>2004-01-01</td>\n",
       "      <td>9.6</td>\n",
       "      <td>96</td>\n",
       "    </tr>\n",
       "    <tr>\n",
       "      <th>3409</th>\n",
       "      <td>tt2963042</td>\n",
       "      <td>Mahakali Ka Insaaf</td>\n",
       "      <td>2001-01-01</td>\n",
       "      <td>9.6</td>\n",
       "      <td>60</td>\n",
       "    </tr>\n",
       "    <tr>\n",
       "      <th>3459</th>\n",
       "      <td>tt4944394</td>\n",
       "      <td>Man on Mission Taqatwar</td>\n",
       "      <td>2005-01-01</td>\n",
       "      <td>9.5</td>\n",
       "      <td>58</td>\n",
       "    </tr>\n",
       "    <tr>\n",
       "      <th>2881</th>\n",
       "      <td>tt4332782</td>\n",
       "      <td>Main Hoon Khiladiyon Ka Khiladi</td>\n",
       "      <td>2004-01-01</td>\n",
       "      <td>9.4</td>\n",
       "      <td>61</td>\n",
       "    </tr>\n",
       "    <tr>\n",
       "      <th>3458</th>\n",
       "      <td>tt3445640</td>\n",
       "      <td>Military Officer</td>\n",
       "      <td>1998-01-01</td>\n",
       "      <td>9.4</td>\n",
       "      <td>61</td>\n",
       "    </tr>\n",
       "    <tr>\n",
       "      <th>1733</th>\n",
       "      <td>tt5963908</td>\n",
       "      <td>T for Taj Mahal</td>\n",
       "      <td>2018-01-01</td>\n",
       "      <td>9.3</td>\n",
       "      <td>71</td>\n",
       "    </tr>\n",
       "    <tr>\n",
       "      <th>3248</th>\n",
       "      <td>tt3030720</td>\n",
       "      <td>Dilwale:The Brave Heart</td>\n",
       "      <td>2001-01-01</td>\n",
       "      <td>9.3</td>\n",
       "      <td>83</td>\n",
       "    </tr>\n",
       "    <tr>\n",
       "      <th>2136</th>\n",
       "      <td>tt6545212</td>\n",
       "      <td>Leera the Soulmate</td>\n",
       "      <td>2018-01-01</td>\n",
       "      <td>9.2</td>\n",
       "      <td>789</td>\n",
       "    </tr>\n",
       "    <tr>\n",
       "      <th>2887</th>\n",
       "      <td>tt0249795</td>\n",
       "      <td>Maya Bazaar</td>\n",
       "      <td>1957-01-01</td>\n",
       "      <td>9.2</td>\n",
       "      <td>3013</td>\n",
       "    </tr>\n",
       "    <tr>\n",
       "      <th>3255</th>\n",
       "      <td>tt7496256</td>\n",
       "      <td>Gospel Movie: Who Is My Lord</td>\n",
       "      <td>2017-01-01</td>\n",
       "      <td>9.1</td>\n",
       "      <td>81</td>\n",
       "    </tr>\n",
       "  </tbody>\n",
       "</table>\n",
       "</div>"
      ],
      "text/plain": [
       "            MID                            title       year  rating  num_votes\n",
       "3349  tt4946222           Man on Mission Fauladi 2004-01-01     9.6         96\n",
       "3409  tt2963042               Mahakali Ka Insaaf 2001-01-01     9.6         60\n",
       "3459  tt4944394          Man on Mission Taqatwar 2005-01-01     9.5         58\n",
       "2881  tt4332782  Main Hoon Khiladiyon Ka Khiladi 2004-01-01     9.4         61\n",
       "3458  tt3445640                 Military Officer 1998-01-01     9.4         61\n",
       "1733  tt5963908                  T for Taj Mahal 2018-01-01     9.3         71\n",
       "3248  tt3030720          Dilwale:The Brave Heart 2001-01-01     9.3         83\n",
       "2136  tt6545212               Leera the Soulmate 2018-01-01     9.2        789\n",
       "2887  tt0249795                      Maya Bazaar 1957-01-01     9.2       3013\n",
       "3255  tt7496256     Gospel Movie: Who Is My Lord 2017-01-01     9.1         81"
      ]
     },
     "execution_count": 26,
     "metadata": {},
     "output_type": "execute_result"
    }
   ],
   "source": [
    "#The dataset is sorted to find the top 10 movies with most 'rating'\n",
    "\n",
    "df1.sort_values(by=['rating'],ascending=False).head(10)"
   ]
  },
  {
   "cell_type": "markdown",
   "id": "2524c39f",
   "metadata": {},
   "source": [
    "Univariate Analysis "
   ]
  },
  {
   "cell_type": "code",
   "execution_count": 27,
   "id": "cce61df9",
   "metadata": {},
   "outputs": [],
   "source": [
    "df1['rating'] = df1['rating'].sort_values()"
   ]
  },
  {
   "cell_type": "code",
   "execution_count": 28,
   "id": "87b811bc",
   "metadata": {},
   "outputs": [
    {
     "data": {
      "text/plain": [
       "<Axes: xlabel='rating', ylabel='Count'>"
      ]
     },
     "execution_count": 28,
     "metadata": {},
     "output_type": "execute_result"
    },
    {
     "data": {
      "image/png": "[encoded data removed]",
      "text/plain": [
       "<Figure size 640x480 with 1 Axes>"
      ]
     },
     "metadata": {},
     "output_type": "display_data"
    }
   ],
   "source": [
    "sns.histplot(data=df1, x='rating')"
   ]
  },
  {
   "cell_type": "markdown",
   "id": "c272b4b6",
   "metadata": {},
   "source": [
    "From the above histogram it is clear that most of the rating fall under 6-8. "
   ]
  },
  {
   "cell_type": "code",
   "execution_count": 29,
   "id": "5d9e4179",
   "metadata": {},
   "outputs": [],
   "source": [
    "df1['year'] = df1['year'].sort_values()"
   ]
  },
  {
   "cell_type": "code",
   "execution_count": 30,
   "id": "d682520c",
   "metadata": {},
   "outputs": [
    {
     "data": {
      "text/plain": [
       "<Axes: xlabel='year', ylabel='Count'>"
      ]
     },
     "execution_count": 30,
     "metadata": {},
     "output_type": "execute_result"
    },
    {
     "data": {
      "image/png": "[encoded data removed]",
      "text/plain": [
       "<Figure size 640x480 with 1 Axes>"
      ]
     },
     "metadata": {},
     "output_type": "display_data"
    }
   ],
   "source": [
    "sns.histplot(data=df1,x='year')"
   ]
  },
  {
   "cell_type": "markdown",
   "id": "b6427cad",
   "metadata": {},
   "source": [
    "From the above histogram it is clear that there's an increase in number of movies in recent years."
   ]
  },
  {
   "cell_type": "markdown",
   "id": "0eb43c26",
   "metadata": {},
   "source": [
    "Bivariate Analysis "
   ]
  },
  {
   "cell_type": "code",
   "execution_count": 31,
   "id": "e2022fc6",
   "metadata": {},
   "outputs": [
    {
     "data": {
      "text/plain": [
       "<matplotlib.collections.PathCollection at 0x20116c03580>"
      ]
     },
     "execution_count": 31,
     "metadata": {},
     "output_type": "execute_result"
    },
    {
     "data": {
      "image/png": "[encoded data removed]",
      "text/plain": [
       "<Figure size 640x480 with 1 Axes>"
      ]
     },
     "metadata": {},
     "output_type": "display_data"
    }
   ],
   "source": [
    "a = df1['year'].sort_values()\n",
    "b = df1['rating'].sort_values()\n",
    "plt.title('Rating vs Year')\n",
    "plt.xlabel('Year')\n",
    "plt.ylabel('Rating')\n",
    "plt.scatter(a,b)"
   ]
  },
  {
   "cell_type": "markdown",
   "id": "70fef328",
   "metadata": {},
   "source": [
    "From the above scatter plot it is clear that there's an increase in the number of rating in recent years"
   ]
  },
  {
   "cell_type": "code",
   "execution_count": 32,
   "id": "0a3ecffc",
   "metadata": {},
   "outputs": [
    {
     "data": {
      "text/plain": [
       "<matplotlib.collections.PathCollection at 0x20116dd0490>"
      ]
     },
     "execution_count": 32,
     "metadata": {},
     "output_type": "execute_result"
    },
    {
     "data": {
      "image/png": "[encoded data removed]",
      "text/plain": [
       "<Figure size 640x480 with 1 Axes>"
      ]
     },
     "metadata": {},
     "output_type": "display_data"
    }
   ],
   "source": [
    "c = df1['num_votes'].sort_values()\n",
    "d = df1['year'].sort_values()\n",
    "plt.title('Number of Votes vs Year')\n",
    "plt.xlabel('Num_Votes')\n",
    "plt.ylabel('Year')\n",
    "plt.scatter(c,d)"
   ]
  },
  {
   "cell_type": "markdown",
   "id": "cde4a028",
   "metadata": {},
   "source": [
    "From the above histogram it is clear that the number of votes has increased in last 10 years ie. between 2010 to 2020."
   ]
  },
  {
   "cell_type": "code",
   "execution_count": 33,
   "id": "89de463b",
   "metadata": {},
   "outputs": [
    {
     "data": {
      "text/plain": [
       "<matplotlib.collections.PathCollection at 0x20116e5dc30>"
      ]
     },
     "execution_count": 33,
     "metadata": {},
     "output_type": "execute_result"
    },
    {
     "data": {
      "image/png": "[encoded data removed]",
      "text/plain": [
       "<Figure size 640x480 with 1 Axes>"
      ]
     },
     "metadata": {},
     "output_type": "display_data"
    }
   ],
   "source": [
    "e = df1['rating'].sort_values()\n",
    "f = df1['num_votes'].sort_values()\n",
    "plt.title('Rating vs Number of votes')\n",
    "plt.xlabel('Rating')\n",
    "plt.ylabel('Num_Votes')\n",
    "plt.scatter(e,f)"
   ]
  },
  {
   "cell_type": "markdown",
   "id": "0c1477ba",
   "metadata": {},
   "source": [
    "From the above graph it is clear that upto rating 8 there's no much difference between Num_Votes and Rating , but after 8 there's a difference."
   ]
  },
  {
   "cell_type": "code",
   "execution_count": 34,
   "id": "0cd6a1c4",
   "metadata": {},
   "outputs": [
    {
     "data": {
      "text/plain": [
       "Text(0.5, 1.0, 'year wise contents')"
      ]
     },
     "execution_count": 34,
     "metadata": {},
     "output_type": "execute_result"
    },
    {
     "data": {
      "image/png": "[encoded data removed]",
      "text/plain": [
       "<Figure size 1200x1400 with 1 Axes>"
      ]
     },
     "metadata": {},
     "output_type": "display_data"
    }
   ],
   "source": [
    "plt.figure(figsize=(12,14))\n",
    "sns.countplot(data=df1,\n",
    "              y=\"year\",\n",
    "             order=df1[\"year\"].value_counts().index[0:70])\n",
    "plt.title(\"year wise contents\")"
   ]
  },
  {
   "cell_type": "markdown",
   "id": "fa177685",
   "metadata": {},
   "source": [
    "PERSON TABLE"
   ]
  },
  {
   "cell_type": "code",
   "execution_count": 35,
   "id": "aefe2c14",
   "metadata": {},
   "outputs": [
    {
     "data": {
      "text/html": [
       "<div>\n",
       "<style scoped>\n",
       "    .dataframe tbody tr th:only-of-type {\n",
       "        vertical-align: middle;\n",
       "    }\n",
       "\n",
       "    .dataframe tbody tr th {\n",
       "        vertical-align: top;\n",
       "    }\n",
       "\n",
       "    .dataframe thead th {\n",
       "        text-align: right;\n",
       "    }\n",
       "</style>\n",
       "<table border=\"1\" class=\"dataframe\">\n",
       "  <thead>\n",
       "    <tr style=\"text-align: right;\">\n",
       "      <th></th>\n",
       "      <th>index</th>\n",
       "      <th>PID</th>\n",
       "      <th>Name</th>\n",
       "      <th>Gender</th>\n",
       "    </tr>\n",
       "  </thead>\n",
       "  <tbody>\n",
       "    <tr>\n",
       "      <th>0</th>\n",
       "      <td>0</td>\n",
       "      <td>nm0000288</td>\n",
       "      <td>Christian Bale</td>\n",
       "      <td>Male</td>\n",
       "    </tr>\n",
       "    <tr>\n",
       "      <th>1</th>\n",
       "      <td>1</td>\n",
       "      <td>nm0000949</td>\n",
       "      <td>Cate Blanchett</td>\n",
       "      <td>Female</td>\n",
       "    </tr>\n",
       "    <tr>\n",
       "      <th>2</th>\n",
       "      <td>2</td>\n",
       "      <td>nm1212722</td>\n",
       "      <td>Benedict Cumberbatch</td>\n",
       "      <td>Male</td>\n",
       "    </tr>\n",
       "    <tr>\n",
       "      <th>3</th>\n",
       "      <td>3</td>\n",
       "      <td>nm0365140</td>\n",
       "      <td>Naomie Harris</td>\n",
       "      <td>Female</td>\n",
       "    </tr>\n",
       "    <tr>\n",
       "      <th>4</th>\n",
       "      <td>4</td>\n",
       "      <td>nm0785227</td>\n",
       "      <td>Andy Serkis</td>\n",
       "      <td>Male</td>\n",
       "    </tr>\n",
       "  </tbody>\n",
       "</table>\n",
       "</div>"
      ],
      "text/plain": [
       "   index        PID                   Name  Gender\n",
       "0      0  nm0000288         Christian Bale    Male\n",
       "1      1  nm0000949         Cate Blanchett  Female\n",
       "2      2  nm1212722   Benedict Cumberbatch    Male\n",
       "3      3  nm0365140          Naomie Harris  Female\n",
       "4      4  nm0785227            Andy Serkis    Male"
      ]
     },
     "execution_count": 35,
     "metadata": {},
     "output_type": "execute_result"
    }
   ],
   "source": [
    "df2 = pd.read_sql_query(\"SELECT * FROM Person\", cnx)\n",
    "df2.head()"
   ]
  },
  {
   "cell_type": "code",
   "execution_count": 36,
   "id": "a0a43b36",
   "metadata": {},
   "outputs": [],
   "source": [
    "#The index column is removed from the table\n",
    "\n",
    "df2.drop(['index'], axis=1,inplace=True)"
   ]
  },
  {
   "cell_type": "code",
   "execution_count": 37,
   "id": "57114c81",
   "metadata": {},
   "outputs": [
    {
     "name": "stdout",
     "output_type": "stream",
     "text": [
      "The shape of the Person table :  (37566, 3)\n",
      "The columns of the Person table :  Index(['PID', 'Name', 'Gender'], dtype='object')\n",
      "The size of the Person table :  112698\n"
     ]
    }
   ],
   "source": [
    "#Basic analysis is done on the table .\n",
    "\n",
    "print('The shape of the Person table : ',df2.shape)\n",
    "print('The columns of the Person table : ',df2.columns)\n",
    "print('The size of the Person table : ',df2.size)"
   ]
  },
  {
   "cell_type": "code",
   "execution_count": 38,
   "id": "b8ebaa33",
   "metadata": {},
   "outputs": [
    {
     "data": {
      "text/html": [
       "<div>\n",
       "<style scoped>\n",
       "    .dataframe tbody tr th:only-of-type {\n",
       "        vertical-align: middle;\n",
       "    }\n",
       "\n",
       "    .dataframe tbody tr th {\n",
       "        vertical-align: top;\n",
       "    }\n",
       "\n",
       "    .dataframe thead th {\n",
       "        text-align: right;\n",
       "    }\n",
       "</style>\n",
       "<table border=\"1\" class=\"dataframe\">\n",
       "  <thead>\n",
       "    <tr style=\"text-align: right;\">\n",
       "      <th></th>\n",
       "      <th>PID</th>\n",
       "      <th>Name</th>\n",
       "      <th>Gender</th>\n",
       "    </tr>\n",
       "  </thead>\n",
       "  <tbody>\n",
       "    <tr>\n",
       "      <th>count</th>\n",
       "      <td>37565</td>\n",
       "      <td>37565</td>\n",
       "      <td>29341</td>\n",
       "    </tr>\n",
       "    <tr>\n",
       "      <th>unique</th>\n",
       "      <td>37565</td>\n",
       "      <td>35599</td>\n",
       "      <td>2</td>\n",
       "    </tr>\n",
       "    <tr>\n",
       "      <th>top</th>\n",
       "      <td>nm0000288</td>\n",
       "      <td>Rajesh</td>\n",
       "      <td>Male</td>\n",
       "    </tr>\n",
       "    <tr>\n",
       "      <th>freq</th>\n",
       "      <td>1</td>\n",
       "      <td>12</td>\n",
       "      <td>19925</td>\n",
       "    </tr>\n",
       "  </tbody>\n",
       "</table>\n",
       "</div>"
      ],
      "text/plain": [
       "              PID     Name Gender\n",
       "count       37565    37565  29341\n",
       "unique      37565    35599      2\n",
       "top     nm0000288   Rajesh   Male\n",
       "freq            1       12  19925"
      ]
     },
     "execution_count": 38,
     "metadata": {},
     "output_type": "execute_result"
    }
   ],
   "source": [
    "df2.describe()"
   ]
  },
  {
   "cell_type": "code",
   "execution_count": 39,
   "id": "ddc5d747",
   "metadata": {},
   "outputs": [
    {
     "name": "stdout",
     "output_type": "stream",
     "text": [
      "<class 'pandas.core.frame.DataFrame'>\n",
      "RangeIndex: 37566 entries, 0 to 37565\n",
      "Data columns (total 3 columns):\n",
      " #   Column  Non-Null Count  Dtype \n",
      "---  ------  --------------  ----- \n",
      " 0   PID     37565 non-null  object\n",
      " 1   Name    37565 non-null  object\n",
      " 2   Gender  29341 non-null  object\n",
      "dtypes: object(3)\n",
      "memory usage: 880.6+ KB\n"
     ]
    }
   ],
   "source": [
    "df2.info()"
   ]
  },
  {
   "cell_type": "code",
   "execution_count": 40,
   "id": "8b93a5f9",
   "metadata": {},
   "outputs": [
    {
     "data": {
      "text/plain": [
       "PID       37565\n",
       "Name      35599\n",
       "Gender        2\n",
       "dtype: int64"
      ]
     },
     "execution_count": 40,
     "metadata": {},
     "output_type": "execute_result"
    }
   ],
   "source": [
    "df2.nunique()"
   ]
  },
  {
   "cell_type": "code",
   "execution_count": 41,
   "id": "053b3954",
   "metadata": {},
   "outputs": [
    {
     "data": {
      "text/plain": [
       "PID          1\n",
       "Name         1\n",
       "Gender    8225\n",
       "dtype: int64"
      ]
     },
     "execution_count": 41,
     "metadata": {},
     "output_type": "execute_result"
    }
   ],
   "source": [
    "df2.isna().sum()"
   ]
  },
  {
   "cell_type": "markdown",
   "id": "41ab450b",
   "metadata": {},
   "source": [
    "There are null values in the table."
   ]
  },
  {
   "cell_type": "code",
   "execution_count": 42,
   "id": "b59c0b10",
   "metadata": {},
   "outputs": [
    {
     "data": {
      "text/html": [
       "<div>\n",
       "<style scoped>\n",
       "    .dataframe tbody tr th:only-of-type {\n",
       "        vertical-align: middle;\n",
       "    }\n",
       "\n",
       "    .dataframe tbody tr th {\n",
       "        vertical-align: top;\n",
       "    }\n",
       "\n",
       "    .dataframe thead th {\n",
       "        text-align: right;\n",
       "    }\n",
       "</style>\n",
       "<table border=\"1\" class=\"dataframe\">\n",
       "  <thead>\n",
       "    <tr style=\"text-align: right;\">\n",
       "      <th></th>\n",
       "      <th>PID</th>\n",
       "      <th>Name</th>\n",
       "      <th>Gender</th>\n",
       "    </tr>\n",
       "  </thead>\n",
       "  <tbody>\n",
       "    <tr>\n",
       "      <th>0</th>\n",
       "      <td>nm0000288</td>\n",
       "      <td>Christian Bale</td>\n",
       "      <td>Male</td>\n",
       "    </tr>\n",
       "    <tr>\n",
       "      <th>1</th>\n",
       "      <td>nm0000949</td>\n",
       "      <td>Cate Blanchett</td>\n",
       "      <td>Female</td>\n",
       "    </tr>\n",
       "    <tr>\n",
       "      <th>2</th>\n",
       "      <td>nm1212722</td>\n",
       "      <td>Benedict Cumberbatch</td>\n",
       "      <td>Male</td>\n",
       "    </tr>\n",
       "    <tr>\n",
       "      <th>3</th>\n",
       "      <td>nm0365140</td>\n",
       "      <td>Naomie Harris</td>\n",
       "      <td>Female</td>\n",
       "    </tr>\n",
       "    <tr>\n",
       "      <th>4</th>\n",
       "      <td>nm0785227</td>\n",
       "      <td>Andy Serkis</td>\n",
       "      <td>Male</td>\n",
       "    </tr>\n",
       "    <tr>\n",
       "      <th>...</th>\n",
       "      <td>...</td>\n",
       "      <td>...</td>\n",
       "      <td>...</td>\n",
       "    </tr>\n",
       "    <tr>\n",
       "      <th>37561</th>\n",
       "      <td>nm2182643</td>\n",
       "      <td>Kamika Verma</td>\n",
       "      <td>None</td>\n",
       "    </tr>\n",
       "    <tr>\n",
       "      <th>37562</th>\n",
       "      <td>nm1029114</td>\n",
       "      <td>Dhorairaj Bhagavan</td>\n",
       "      <td>None</td>\n",
       "    </tr>\n",
       "    <tr>\n",
       "      <th>37563</th>\n",
       "      <td>nm3769883</td>\n",
       "      <td>Nasir Shaikh</td>\n",
       "      <td>None</td>\n",
       "    </tr>\n",
       "    <tr>\n",
       "      <th>37564</th>\n",
       "      <td>nm1470989</td>\n",
       "      <td>Kannan</td>\n",
       "      <td>None</td>\n",
       "    </tr>\n",
       "    <tr>\n",
       "      <th>37565</th>\n",
       "      <td>nm0298158</td>\n",
       "      <td>Adrian Fulle</td>\n",
       "      <td>None</td>\n",
       "    </tr>\n",
       "  </tbody>\n",
       "</table>\n",
       "<p>37566 rows × 3 columns</p>\n",
       "</div>"
      ],
      "text/plain": [
       "             PID                   Name  Gender\n",
       "0      nm0000288         Christian Bale    Male\n",
       "1      nm0000949         Cate Blanchett  Female\n",
       "2      nm1212722   Benedict Cumberbatch    Male\n",
       "3      nm0365140          Naomie Harris  Female\n",
       "4      nm0785227            Andy Serkis    Male\n",
       "...          ...                    ...     ...\n",
       "37561  nm2182643           Kamika Verma    None\n",
       "37562  nm1029114     Dhorairaj Bhagavan    None\n",
       "37563  nm3769883           Nasir Shaikh    None\n",
       "37564  nm1470989                 Kannan    None\n",
       "37565  nm0298158           Adrian Fulle    None\n",
       "\n",
       "[37566 rows x 3 columns]"
      ]
     },
     "execution_count": 42,
     "metadata": {},
     "output_type": "execute_result"
    }
   ],
   "source": [
    "df2.drop_duplicates()"
   ]
  },
  {
   "cell_type": "markdown",
   "id": "cbe1ccd3",
   "metadata": {},
   "source": [
    "There are no duplicate values."
   ]
  },
  {
   "cell_type": "code",
   "execution_count": 43,
   "id": "fa4aa15c",
   "metadata": {},
   "outputs": [],
   "source": [
    "df2['Gender'].replace({None : 'Unavailable'},inplace=True)"
   ]
  },
  {
   "cell_type": "code",
   "execution_count": 44,
   "id": "0d77f512",
   "metadata": {},
   "outputs": [],
   "source": [
    "df2.dropna(inplace=True)"
   ]
  },
  {
   "cell_type": "code",
   "execution_count": 45,
   "id": "0b38aaf8",
   "metadata": {},
   "outputs": [
    {
     "data": {
      "text/plain": [
       "PID       0\n",
       "Name      0\n",
       "Gender    0\n",
       "dtype: int64"
      ]
     },
     "execution_count": 45,
     "metadata": {},
     "output_type": "execute_result"
    }
   ],
   "source": [
    "df2.isna().sum()"
   ]
  },
  {
   "cell_type": "markdown",
   "id": "70ccd3d9",
   "metadata": {},
   "source": [
    "All the null values are filled."
   ]
  },
  {
   "cell_type": "code",
   "execution_count": 46,
   "id": "e671d459",
   "metadata": {},
   "outputs": [
    {
     "data": {
      "text/plain": [
       " Rajesh          12\n",
       " Rahul           11\n",
       " Imran Khan      10\n",
       " Deepak           9\n",
       " Sanjay           8\n",
       " Raju             8\n",
       " Shyam            7\n",
       " Rekha            7\n",
       " Madhu            7\n",
       " Manoj Sharma     7\n",
       "Name: Name, dtype: int64"
      ]
     },
     "execution_count": 46,
     "metadata": {},
     "output_type": "execute_result"
    }
   ],
   "source": [
    "df2['Name'].value_counts().head(10)"
   ]
  },
  {
   "cell_type": "markdown",
   "id": "ec5e9959",
   "metadata": {},
   "source": [
    "Top 10 People with most number of movies are shown above."
   ]
  },
  {
   "cell_type": "markdown",
   "id": "f196c477",
   "metadata": {},
   "source": [
    "GENRE TABLE"
   ]
  },
  {
   "cell_type": "code",
   "execution_count": 47,
   "id": "3b3c5e36",
   "metadata": {},
   "outputs": [
    {
     "data": {
      "text/html": [
       "<div>\n",
       "<style scoped>\n",
       "    .dataframe tbody tr th:only-of-type {\n",
       "        vertical-align: middle;\n",
       "    }\n",
       "\n",
       "    .dataframe tbody tr th {\n",
       "        vertical-align: top;\n",
       "    }\n",
       "\n",
       "    .dataframe thead th {\n",
       "        text-align: right;\n",
       "    }\n",
       "</style>\n",
       "<table border=\"1\" class=\"dataframe\">\n",
       "  <thead>\n",
       "    <tr style=\"text-align: right;\">\n",
       "      <th></th>\n",
       "      <th>index</th>\n",
       "      <th>Name</th>\n",
       "      <th>GID</th>\n",
       "    </tr>\n",
       "  </thead>\n",
       "  <tbody>\n",
       "    <tr>\n",
       "      <th>0</th>\n",
       "      <td>0</td>\n",
       "      <td>Adventure, Drama, Fantasy</td>\n",
       "      <td>0</td>\n",
       "    </tr>\n",
       "    <tr>\n",
       "      <th>1</th>\n",
       "      <td>1</td>\n",
       "      <td>Action, Comedy, Crime</td>\n",
       "      <td>1</td>\n",
       "    </tr>\n",
       "    <tr>\n",
       "      <th>2</th>\n",
       "      <td>2</td>\n",
       "      <td>Action, Adventure, Fantasy</td>\n",
       "      <td>2</td>\n",
       "    </tr>\n",
       "    <tr>\n",
       "      <th>3</th>\n",
       "      <td>3</td>\n",
       "      <td>Action, Adventure, Sci-Fi</td>\n",
       "      <td>3</td>\n",
       "    </tr>\n",
       "    <tr>\n",
       "      <th>4</th>\n",
       "      <td>4</td>\n",
       "      <td>Drama, Horror, Thriller</td>\n",
       "      <td>4</td>\n",
       "    </tr>\n",
       "  </tbody>\n",
       "</table>\n",
       "</div>"
      ],
      "text/plain": [
       "   index                                    Name  GID\n",
       "0      0   Adventure, Drama, Fantasy                0\n",
       "1      1       Action, Comedy, Crime                1\n",
       "2      2  Action, Adventure, Fantasy                2\n",
       "3      3   Action, Adventure, Sci-Fi                3\n",
       "4      4     Drama, Horror, Thriller                4"
      ]
     },
     "execution_count": 47,
     "metadata": {},
     "output_type": "execute_result"
    }
   ],
   "source": [
    "df3 = pd.read_sql_query('select * from Genre',cnx)\n",
    "df3.head()"
   ]
  },
  {
   "cell_type": "code",
   "execution_count": 48,
   "id": "cfbcf0fd",
   "metadata": {},
   "outputs": [],
   "source": [
    "#The index column is removed\n",
    "\n",
    "df3.drop(['index'],axis=1,inplace=True)"
   ]
  },
  {
   "cell_type": "code",
   "execution_count": 49,
   "id": "0e5d69a0",
   "metadata": {},
   "outputs": [
    {
     "name": "stdout",
     "output_type": "stream",
     "text": [
      "The shape of the Genre table :  (328, 2)\n",
      "The columns of the Genre table :  Index(['Name', 'GID'], dtype='object')\n",
      "The size of the Genre table :  656\n"
     ]
    }
   ],
   "source": [
    "#Basic analysis is done on the table .\n",
    "\n",
    "print('The shape of the Genre table : ',df3.shape)\n",
    "print('The columns of the Genre table : ',df3.columns)\n",
    "print('The size of the Genre table : ',df3.size)"
   ]
  },
  {
   "cell_type": "code",
   "execution_count": 50,
   "id": "77834500",
   "metadata": {},
   "outputs": [
    {
     "data": {
      "text/html": [
       "<div>\n",
       "<style scoped>\n",
       "    .dataframe tbody tr th:only-of-type {\n",
       "        vertical-align: middle;\n",
       "    }\n",
       "\n",
       "    .dataframe tbody tr th {\n",
       "        vertical-align: top;\n",
       "    }\n",
       "\n",
       "    .dataframe thead th {\n",
       "        text-align: right;\n",
       "    }\n",
       "</style>\n",
       "<table border=\"1\" class=\"dataframe\">\n",
       "  <thead>\n",
       "    <tr style=\"text-align: right;\">\n",
       "      <th></th>\n",
       "      <th>GID</th>\n",
       "    </tr>\n",
       "  </thead>\n",
       "  <tbody>\n",
       "    <tr>\n",
       "      <th>count</th>\n",
       "      <td>328.000000</td>\n",
       "    </tr>\n",
       "    <tr>\n",
       "      <th>mean</th>\n",
       "      <td>163.500000</td>\n",
       "    </tr>\n",
       "    <tr>\n",
       "      <th>std</th>\n",
       "      <td>94.829672</td>\n",
       "    </tr>\n",
       "    <tr>\n",
       "      <th>min</th>\n",
       "      <td>0.000000</td>\n",
       "    </tr>\n",
       "    <tr>\n",
       "      <th>25%</th>\n",
       "      <td>81.750000</td>\n",
       "    </tr>\n",
       "    <tr>\n",
       "      <th>50%</th>\n",
       "      <td>163.500000</td>\n",
       "    </tr>\n",
       "    <tr>\n",
       "      <th>75%</th>\n",
       "      <td>245.250000</td>\n",
       "    </tr>\n",
       "    <tr>\n",
       "      <th>max</th>\n",
       "      <td>327.000000</td>\n",
       "    </tr>\n",
       "  </tbody>\n",
       "</table>\n",
       "</div>"
      ],
      "text/plain": [
       "              GID\n",
       "count  328.000000\n",
       "mean   163.500000\n",
       "std     94.829672\n",
       "min      0.000000\n",
       "25%     81.750000\n",
       "50%    163.500000\n",
       "75%    245.250000\n",
       "max    327.000000"
      ]
     },
     "execution_count": 50,
     "metadata": {},
     "output_type": "execute_result"
    }
   ],
   "source": [
    "df3.describe()"
   ]
  },
  {
   "cell_type": "code",
   "execution_count": 51,
   "id": "fc8e101d",
   "metadata": {},
   "outputs": [
    {
     "name": "stdout",
     "output_type": "stream",
     "text": [
      "<class 'pandas.core.frame.DataFrame'>\n",
      "RangeIndex: 328 entries, 0 to 327\n",
      "Data columns (total 2 columns):\n",
      " #   Column  Non-Null Count  Dtype \n",
      "---  ------  --------------  ----- \n",
      " 0   Name    328 non-null    object\n",
      " 1   GID     328 non-null    int64 \n",
      "dtypes: int64(1), object(1)\n",
      "memory usage: 5.2+ KB\n"
     ]
    }
   ],
   "source": [
    "df3.info()"
   ]
  },
  {
   "cell_type": "code",
   "execution_count": 52,
   "id": "eff65c29",
   "metadata": {},
   "outputs": [
    {
     "data": {
      "text/plain": [
       "Name    0\n",
       "GID     0\n",
       "dtype: int64"
      ]
     },
     "execution_count": 52,
     "metadata": {},
     "output_type": "execute_result"
    }
   ],
   "source": [
    "df3.isna().sum()"
   ]
  },
  {
   "cell_type": "markdown",
   "id": "740c4314",
   "metadata": {},
   "source": [
    "There are no null values in the table"
   ]
  },
  {
   "cell_type": "code",
   "execution_count": 53,
   "id": "e20710f5",
   "metadata": {},
   "outputs": [
    {
     "data": {
      "text/html": [
       "<div>\n",
       "<style scoped>\n",
       "    .dataframe tbody tr th:only-of-type {\n",
       "        vertical-align: middle;\n",
       "    }\n",
       "\n",
       "    .dataframe tbody tr th {\n",
       "        vertical-align: top;\n",
       "    }\n",
       "\n",
       "    .dataframe thead th {\n",
       "        text-align: right;\n",
       "    }\n",
       "</style>\n",
       "<table border=\"1\" class=\"dataframe\">\n",
       "  <thead>\n",
       "    <tr style=\"text-align: right;\">\n",
       "      <th></th>\n",
       "      <th>Name</th>\n",
       "      <th>GID</th>\n",
       "    </tr>\n",
       "  </thead>\n",
       "  <tbody>\n",
       "    <tr>\n",
       "      <th>0</th>\n",
       "      <td>Adventure, Drama, Fantasy</td>\n",
       "      <td>0</td>\n",
       "    </tr>\n",
       "    <tr>\n",
       "      <th>1</th>\n",
       "      <td>Action, Comedy, Crime</td>\n",
       "      <td>1</td>\n",
       "    </tr>\n",
       "    <tr>\n",
       "      <th>2</th>\n",
       "      <td>Action, Adventure, Fantasy</td>\n",
       "      <td>2</td>\n",
       "    </tr>\n",
       "    <tr>\n",
       "      <th>3</th>\n",
       "      <td>Action, Adventure, Sci-Fi</td>\n",
       "      <td>3</td>\n",
       "    </tr>\n",
       "    <tr>\n",
       "      <th>4</th>\n",
       "      <td>Drama, Horror, Thriller</td>\n",
       "      <td>4</td>\n",
       "    </tr>\n",
       "    <tr>\n",
       "      <th>...</th>\n",
       "      <td>...</td>\n",
       "      <td>...</td>\n",
       "    </tr>\n",
       "    <tr>\n",
       "      <th>323</th>\n",
       "      <td>Animation, Adventure, Fantasy</td>\n",
       "      <td>323</td>\n",
       "    </tr>\n",
       "    <tr>\n",
       "      <th>324</th>\n",
       "      <td>Biography, Drama, War</td>\n",
       "      <td>324</td>\n",
       "    </tr>\n",
       "    <tr>\n",
       "      <th>325</th>\n",
       "      <td>Animation, Drama, Adventure</td>\n",
       "      <td>325</td>\n",
       "    </tr>\n",
       "    <tr>\n",
       "      <th>326</th>\n",
       "      <td>Drama, Action</td>\n",
       "      <td>326</td>\n",
       "    </tr>\n",
       "    <tr>\n",
       "      <th>327</th>\n",
       "      <td>Drama, Mystery, Sci-Fi</td>\n",
       "      <td>327</td>\n",
       "    </tr>\n",
       "  </tbody>\n",
       "</table>\n",
       "<p>328 rows × 2 columns</p>\n",
       "</div>"
      ],
      "text/plain": [
       "                                          Name  GID\n",
       "0        Adventure, Drama, Fantasy                0\n",
       "1            Action, Comedy, Crime                1\n",
       "2       Action, Adventure, Fantasy                2\n",
       "3        Action, Adventure, Sci-Fi                3\n",
       "4          Drama, Horror, Thriller                4\n",
       "..                                         ...  ...\n",
       "323  Animation, Adventure, Fantasy              323\n",
       "324          Biography, Drama, War              324\n",
       "325    Animation, Drama, Adventure              325\n",
       "326                  Drama, Action              326\n",
       "327         Drama, Mystery, Sci-Fi              327\n",
       "\n",
       "[328 rows x 2 columns]"
      ]
     },
     "execution_count": 53,
     "metadata": {},
     "output_type": "execute_result"
    }
   ],
   "source": [
    "df3.drop_duplicates()"
   ]
  },
  {
   "cell_type": "markdown",
   "id": "8a72cb3d",
   "metadata": {},
   "source": [
    "There are no duplicates in the table."
   ]
  },
  {
   "cell_type": "code",
   "execution_count": 54,
   "id": "71ce381c",
   "metadata": {},
   "outputs": [
    {
     "data": {
      "text/html": [
       "<div>\n",
       "<style scoped>\n",
       "    .dataframe tbody tr th:only-of-type {\n",
       "        vertical-align: middle;\n",
       "    }\n",
       "\n",
       "    .dataframe tbody tr th {\n",
       "        vertical-align: top;\n",
       "    }\n",
       "\n",
       "    .dataframe thead th {\n",
       "        text-align: right;\n",
       "    }\n",
       "</style>\n",
       "<table border=\"1\" class=\"dataframe\">\n",
       "  <thead>\n",
       "    <tr style=\"text-align: right;\">\n",
       "      <th></th>\n",
       "      <th>GID</th>\n",
       "      <th>Name</th>\n",
       "    </tr>\n",
       "  </thead>\n",
       "  <tbody>\n",
       "    <tr>\n",
       "      <th>0</th>\n",
       "      <td>0</td>\n",
       "      <td>Adventure</td>\n",
       "    </tr>\n",
       "    <tr>\n",
       "      <th>1</th>\n",
       "      <td>0</td>\n",
       "      <td>Drama</td>\n",
       "    </tr>\n",
       "    <tr>\n",
       "      <th>2</th>\n",
       "      <td>0</td>\n",
       "      <td>Fantasy</td>\n",
       "    </tr>\n",
       "    <tr>\n",
       "      <th>3</th>\n",
       "      <td>1</td>\n",
       "      <td>Action</td>\n",
       "    </tr>\n",
       "    <tr>\n",
       "      <th>4</th>\n",
       "      <td>1</td>\n",
       "      <td>Comedy</td>\n",
       "    </tr>\n",
       "  </tbody>\n",
       "</table>\n",
       "</div>"
      ],
      "text/plain": [
       "   GID                  Name\n",
       "0    0             Adventure\n",
       "1    0                 Drama\n",
       "2    0   Fantasy            \n",
       "3    1                Action\n",
       "4    1                Comedy"
      ]
     },
     "execution_count": 54,
     "metadata": {},
     "output_type": "execute_result"
    }
   ],
   "source": [
    "constraint1=df3['Name'].apply(lambda x: str(x).split(',')).tolist()\n",
    "df_new1=pd.DataFrame(constraint1,index=df3['GID'])\n",
    "df_new1=df_new1.stack()\n",
    "df_new1=pd.DataFrame(df_new1.reset_index())\n",
    "df_new1.rename(columns={0:'Name'},inplace=True)\n",
    "df_new1.drop(['level_1'],axis=1,inplace=True)\n",
    "df_new1.head()"
   ]
  },
  {
   "cell_type": "code",
   "execution_count": 55,
   "id": "36552034",
   "metadata": {},
   "outputs": [
    {
     "data": {
      "text/plain": [
       "GID      int64\n",
       "Name    object\n",
       "dtype: object"
      ]
     },
     "execution_count": 55,
     "metadata": {},
     "output_type": "execute_result"
    }
   ],
   "source": [
    "df_new1.dtypes"
   ]
  },
  {
   "cell_type": "code",
   "execution_count": 56,
   "id": "4377dc49",
   "metadata": {},
   "outputs": [
    {
     "name": "stdout",
     "output_type": "stream",
     "text": [
      "<class 'pandas.core.frame.DataFrame'>\n",
      "RangeIndex: 875 entries, 0 to 874\n",
      "Data columns (total 2 columns):\n",
      " #   Column  Non-Null Count  Dtype \n",
      "---  ------  --------------  ----- \n",
      " 0   GID     875 non-null    int64 \n",
      " 1   Name    875 non-null    object\n",
      "dtypes: int64(1), object(1)\n",
      "memory usage: 13.8+ KB\n"
     ]
    }
   ],
   "source": [
    "df_new1.info()"
   ]
  },
  {
   "cell_type": "code",
   "execution_count": 57,
   "id": "e3c2fe99",
   "metadata": {},
   "outputs": [
    {
     "data": {
      "text/plain": [
       "GID     0\n",
       "Name    0\n",
       "dtype: int64"
      ]
     },
     "execution_count": 57,
     "metadata": {},
     "output_type": "execute_result"
    }
   ],
   "source": [
    "df_new1.isnull().sum()"
   ]
  },
  {
   "cell_type": "code",
   "execution_count": 58,
   "id": "912f1048",
   "metadata": {},
   "outputs": [
    {
     "data": {
      "text/plain": [
       "GID     328\n",
       "Name     65\n",
       "dtype: int64"
      ]
     },
     "execution_count": 58,
     "metadata": {},
     "output_type": "execute_result"
    }
   ],
   "source": [
    "df_new1.nunique()"
   ]
  },
  {
   "cell_type": "code",
   "execution_count": 59,
   "id": "60cd235e",
   "metadata": {},
   "outputs": [
    {
     "data": {
      "text/plain": [
       "Action                   69\n",
       "Drama                    60\n",
       " Drama                   58\n",
       " Thriller                47\n",
       "Comedy                   47\n",
       " Romance                 47\n",
       " Drama                   31\n",
       " Mystery                 27\n",
       "Adventure                24\n",
       " Musical                 23\n",
       "Name: Name, dtype: int64"
      ]
     },
     "execution_count": 59,
     "metadata": {},
     "output_type": "execute_result"
    }
   ],
   "source": [
    "df_new1['Name'].value_counts().head(10)"
   ]
  },
  {
   "cell_type": "markdown",
   "id": "b0079e3c",
   "metadata": {},
   "source": [
    "The list of top 10 genres are shown above. Action is the most popular genre. "
   ]
  },
  {
   "cell_type": "code",
   "execution_count": 60,
   "id": "e7c668ad",
   "metadata": {},
   "outputs": [
    {
     "data": {
      "text/plain": [
       "Animation                1\n",
       "Family                   1\n",
       "Crime                    1\n",
       "Thriller                 1\n",
       "Comedy                   1\n",
       "Sci-Fi                   1\n",
       "Drama                    1\n",
       "Action                   1\n",
       "Romance                  1\n",
       "Null                     1\n",
       "Name: Name, dtype: int64"
      ]
     },
     "execution_count": 60,
     "metadata": {},
     "output_type": "execute_result"
    }
   ],
   "source": [
    "df_new1['Name'].value_counts().tail(10)"
   ]
  },
  {
   "cell_type": "markdown",
   "id": "7ce36a53",
   "metadata": {},
   "source": [
    "The list of botoom 10 genres is shown here."
   ]
  },
  {
   "cell_type": "code",
   "execution_count": null,
   "id": "daeef5a7",
   "metadata": {},
   "outputs": [],
   "source": []
  },
  {
   "cell_type": "markdown",
   "id": "804e9068",
   "metadata": {},
   "source": [
    "LANGUAGE TABLE "
   ]
  },
  {
   "cell_type": "code",
   "execution_count": 61,
   "id": "752d6f39",
   "metadata": {},
   "outputs": [
    {
     "data": {
      "text/html": [
       "<div>\n",
       "<style scoped>\n",
       "    .dataframe tbody tr th:only-of-type {\n",
       "        vertical-align: middle;\n",
       "    }\n",
       "\n",
       "    .dataframe tbody tr th {\n",
       "        vertical-align: top;\n",
       "    }\n",
       "\n",
       "    .dataframe thead th {\n",
       "        text-align: right;\n",
       "    }\n",
       "</style>\n",
       "<table border=\"1\" class=\"dataframe\">\n",
       "  <thead>\n",
       "    <tr style=\"text-align: right;\">\n",
       "      <th></th>\n",
       "      <th>index</th>\n",
       "      <th>Name</th>\n",
       "      <th>LAID</th>\n",
       "    </tr>\n",
       "  </thead>\n",
       "  <tbody>\n",
       "    <tr>\n",
       "      <th>0</th>\n",
       "      <td>0</td>\n",
       "      <td>English</td>\n",
       "      <td>0</td>\n",
       "    </tr>\n",
       "    <tr>\n",
       "      <th>1</th>\n",
       "      <td>1</td>\n",
       "      <td>Marathi</td>\n",
       "      <td>1</td>\n",
       "    </tr>\n",
       "    <tr>\n",
       "      <th>2</th>\n",
       "      <td>2</td>\n",
       "      <td>Hindi</td>\n",
       "      <td>2</td>\n",
       "    </tr>\n",
       "    <tr>\n",
       "      <th>3</th>\n",
       "      <td>3</td>\n",
       "      <td>Cantonese</td>\n",
       "      <td>3</td>\n",
       "    </tr>\n",
       "    <tr>\n",
       "      <th>4</th>\n",
       "      <td>4</td>\n",
       "      <td>Telugu</td>\n",
       "      <td>4</td>\n",
       "    </tr>\n",
       "  </tbody>\n",
       "</table>\n",
       "</div>"
      ],
      "text/plain": [
       "   index       Name  LAID\n",
       "0      0    English     0\n",
       "1      1    Marathi     1\n",
       "2      2      Hindi     2\n",
       "3      3  Cantonese     3\n",
       "4      4     Telugu     4"
      ]
     },
     "execution_count": 61,
     "metadata": {},
     "output_type": "execute_result"
    }
   ],
   "source": [
    "df4 = pd.read_sql_query('select * from Language',cnx)\n",
    "df4.head()"
   ]
  },
  {
   "cell_type": "code",
   "execution_count": 62,
   "id": "48d68bc3",
   "metadata": {},
   "outputs": [],
   "source": [
    "df4.drop(['index'],axis=1,inplace=True)"
   ]
  },
  {
   "cell_type": "code",
   "execution_count": 63,
   "id": "1cdcc67e",
   "metadata": {},
   "outputs": [
    {
     "name": "stdout",
     "output_type": "stream",
     "text": [
      "The shape of the Language table :  (32, 2)\n",
      "The columns of the Language table :  Index(['Name', 'LAID'], dtype='object')\n",
      "The size of the Language table :  64\n"
     ]
    }
   ],
   "source": [
    "#Basic analysis is done on the table .\n",
    "\n",
    "print('The shape of the Language table : ',df4.shape)\n",
    "print('The columns of the Language table : ',df4.columns)\n",
    "print('The size of the Language table : ',df4.size)"
   ]
  },
  {
   "cell_type": "code",
   "execution_count": 64,
   "id": "42bf81ae",
   "metadata": {},
   "outputs": [
    {
     "data": {
      "text/html": [
       "<div>\n",
       "<style scoped>\n",
       "    .dataframe tbody tr th:only-of-type {\n",
       "        vertical-align: middle;\n",
       "    }\n",
       "\n",
       "    .dataframe tbody tr th {\n",
       "        vertical-align: top;\n",
       "    }\n",
       "\n",
       "    .dataframe thead th {\n",
       "        text-align: right;\n",
       "    }\n",
       "</style>\n",
       "<table border=\"1\" class=\"dataframe\">\n",
       "  <thead>\n",
       "    <tr style=\"text-align: right;\">\n",
       "      <th></th>\n",
       "      <th>LAID</th>\n",
       "    </tr>\n",
       "  </thead>\n",
       "  <tbody>\n",
       "    <tr>\n",
       "      <th>count</th>\n",
       "      <td>32.000000</td>\n",
       "    </tr>\n",
       "    <tr>\n",
       "      <th>mean</th>\n",
       "      <td>15.500000</td>\n",
       "    </tr>\n",
       "    <tr>\n",
       "      <th>std</th>\n",
       "      <td>9.380832</td>\n",
       "    </tr>\n",
       "    <tr>\n",
       "      <th>min</th>\n",
       "      <td>0.000000</td>\n",
       "    </tr>\n",
       "    <tr>\n",
       "      <th>25%</th>\n",
       "      <td>7.750000</td>\n",
       "    </tr>\n",
       "    <tr>\n",
       "      <th>50%</th>\n",
       "      <td>15.500000</td>\n",
       "    </tr>\n",
       "    <tr>\n",
       "      <th>75%</th>\n",
       "      <td>23.250000</td>\n",
       "    </tr>\n",
       "    <tr>\n",
       "      <th>max</th>\n",
       "      <td>31.000000</td>\n",
       "    </tr>\n",
       "  </tbody>\n",
       "</table>\n",
       "</div>"
      ],
      "text/plain": [
       "            LAID\n",
       "count  32.000000\n",
       "mean   15.500000\n",
       "std     9.380832\n",
       "min     0.000000\n",
       "25%     7.750000\n",
       "50%    15.500000\n",
       "75%    23.250000\n",
       "max    31.000000"
      ]
     },
     "execution_count": 64,
     "metadata": {},
     "output_type": "execute_result"
    }
   ],
   "source": [
    "df4.describe()"
   ]
  },
  {
   "cell_type": "code",
   "execution_count": 65,
   "id": "d5a012cb",
   "metadata": {},
   "outputs": [
    {
     "name": "stdout",
     "output_type": "stream",
     "text": [
      "<class 'pandas.core.frame.DataFrame'>\n",
      "RangeIndex: 32 entries, 0 to 31\n",
      "Data columns (total 2 columns):\n",
      " #   Column  Non-Null Count  Dtype \n",
      "---  ------  --------------  ----- \n",
      " 0   Name    32 non-null     object\n",
      " 1   LAID    32 non-null     int64 \n",
      "dtypes: int64(1), object(1)\n",
      "memory usage: 640.0+ bytes\n"
     ]
    }
   ],
   "source": [
    "df4.info()"
   ]
  },
  {
   "cell_type": "code",
   "execution_count": 66,
   "id": "595e2d69",
   "metadata": {},
   "outputs": [
    {
     "data": {
      "text/plain": [
       "Name    32\n",
       "LAID    32\n",
       "dtype: int64"
      ]
     },
     "execution_count": 66,
     "metadata": {},
     "output_type": "execute_result"
    }
   ],
   "source": [
    "df4.nunique()"
   ]
  },
  {
   "cell_type": "code",
   "execution_count": 67,
   "id": "f1dcd29f",
   "metadata": {},
   "outputs": [
    {
     "data": {
      "text/plain": [
       "Name    0\n",
       "LAID    0\n",
       "dtype: int64"
      ]
     },
     "execution_count": 67,
     "metadata": {},
     "output_type": "execute_result"
    }
   ],
   "source": [
    "df4.isna().sum()"
   ]
  },
  {
   "cell_type": "markdown",
   "id": "f7c18982",
   "metadata": {},
   "source": [
    "There are no null values"
   ]
  },
  {
   "cell_type": "code",
   "execution_count": 68,
   "id": "921c74cf",
   "metadata": {},
   "outputs": [
    {
     "data": {
      "text/html": [
       "<div>\n",
       "<style scoped>\n",
       "    .dataframe tbody tr th:only-of-type {\n",
       "        vertical-align: middle;\n",
       "    }\n",
       "\n",
       "    .dataframe tbody tr th {\n",
       "        vertical-align: top;\n",
       "    }\n",
       "\n",
       "    .dataframe thead th {\n",
       "        text-align: right;\n",
       "    }\n",
       "</style>\n",
       "<table border=\"1\" class=\"dataframe\">\n",
       "  <thead>\n",
       "    <tr style=\"text-align: right;\">\n",
       "      <th></th>\n",
       "      <th>Name</th>\n",
       "      <th>LAID</th>\n",
       "    </tr>\n",
       "  </thead>\n",
       "  <tbody>\n",
       "    <tr>\n",
       "      <th>0</th>\n",
       "      <td>English</td>\n",
       "      <td>0</td>\n",
       "    </tr>\n",
       "    <tr>\n",
       "      <th>1</th>\n",
       "      <td>Marathi</td>\n",
       "      <td>1</td>\n",
       "    </tr>\n",
       "    <tr>\n",
       "      <th>2</th>\n",
       "      <td>Hindi</td>\n",
       "      <td>2</td>\n",
       "    </tr>\n",
       "    <tr>\n",
       "      <th>3</th>\n",
       "      <td>Cantonese</td>\n",
       "      <td>3</td>\n",
       "    </tr>\n",
       "    <tr>\n",
       "      <th>4</th>\n",
       "      <td>Telugu</td>\n",
       "      <td>4</td>\n",
       "    </tr>\n",
       "    <tr>\n",
       "      <th>5</th>\n",
       "      <td>Mandarin</td>\n",
       "      <td>5</td>\n",
       "    </tr>\n",
       "    <tr>\n",
       "      <th>6</th>\n",
       "      <td>Tamil</td>\n",
       "      <td>6</td>\n",
       "    </tr>\n",
       "    <tr>\n",
       "      <th>7</th>\n",
       "      <td>Punjabi</td>\n",
       "      <td>7</td>\n",
       "    </tr>\n",
       "    <tr>\n",
       "      <th>8</th>\n",
       "      <td>Danish</td>\n",
       "      <td>8</td>\n",
       "    </tr>\n",
       "    <tr>\n",
       "      <th>9</th>\n",
       "      <td>Korean</td>\n",
       "      <td>9</td>\n",
       "    </tr>\n",
       "    <tr>\n",
       "      <th>10</th>\n",
       "      <td>Spanish</td>\n",
       "      <td>10</td>\n",
       "    </tr>\n",
       "    <tr>\n",
       "      <th>11</th>\n",
       "      <td>Arabic</td>\n",
       "      <td>11</td>\n",
       "    </tr>\n",
       "    <tr>\n",
       "      <th>12</th>\n",
       "      <td>Urdu</td>\n",
       "      <td>12</td>\n",
       "    </tr>\n",
       "    <tr>\n",
       "      <th>13</th>\n",
       "      <td>Tibetan</td>\n",
       "      <td>13</td>\n",
       "    </tr>\n",
       "    <tr>\n",
       "      <th>14</th>\n",
       "      <td>Dutch</td>\n",
       "      <td>14</td>\n",
       "    </tr>\n",
       "    <tr>\n",
       "      <th>15</th>\n",
       "      <td>Kannada</td>\n",
       "      <td>15</td>\n",
       "    </tr>\n",
       "    <tr>\n",
       "      <th>16</th>\n",
       "      <td>Japanese</td>\n",
       "      <td>16</td>\n",
       "    </tr>\n",
       "    <tr>\n",
       "      <th>17</th>\n",
       "      <td>Bengali</td>\n",
       "      <td>17</td>\n",
       "    </tr>\n",
       "    <tr>\n",
       "      <th>18</th>\n",
       "      <td>Sinhalese</td>\n",
       "      <td>18</td>\n",
       "    </tr>\n",
       "    <tr>\n",
       "      <th>19</th>\n",
       "      <td>Malayalam</td>\n",
       "      <td>19</td>\n",
       "    </tr>\n",
       "    <tr>\n",
       "      <th>20</th>\n",
       "      <td>French</td>\n",
       "      <td>20</td>\n",
       "    </tr>\n",
       "    <tr>\n",
       "      <th>21</th>\n",
       "      <td>Russian</td>\n",
       "      <td>21</td>\n",
       "    </tr>\n",
       "    <tr>\n",
       "      <th>22</th>\n",
       "      <td>Gujarati</td>\n",
       "      <td>22</td>\n",
       "    </tr>\n",
       "    <tr>\n",
       "      <th>23</th>\n",
       "      <td>Sanskrit</td>\n",
       "      <td>23</td>\n",
       "    </tr>\n",
       "    <tr>\n",
       "      <th>24</th>\n",
       "      <td>Himachali</td>\n",
       "      <td>24</td>\n",
       "    </tr>\n",
       "    <tr>\n",
       "      <th>25</th>\n",
       "      <td>Zulu</td>\n",
       "      <td>25</td>\n",
       "    </tr>\n",
       "    <tr>\n",
       "      <th>26</th>\n",
       "      <td>German</td>\n",
       "      <td>26</td>\n",
       "    </tr>\n",
       "    <tr>\n",
       "      <th>27</th>\n",
       "      <td>Persian</td>\n",
       "      <td>27</td>\n",
       "    </tr>\n",
       "    <tr>\n",
       "      <th>28</th>\n",
       "      <td>Italian</td>\n",
       "      <td>28</td>\n",
       "    </tr>\n",
       "    <tr>\n",
       "      <th>29</th>\n",
       "      <td>Bhojpuri</td>\n",
       "      <td>29</td>\n",
       "    </tr>\n",
       "    <tr>\n",
       "      <th>30</th>\n",
       "      <td>Swiss German</td>\n",
       "      <td>30</td>\n",
       "    </tr>\n",
       "    <tr>\n",
       "      <th>31</th>\n",
       "      <td>Georgian</td>\n",
       "      <td>31</td>\n",
       "    </tr>\n",
       "  </tbody>\n",
       "</table>\n",
       "</div>"
      ],
      "text/plain": [
       "            Name  LAID\n",
       "0        English     0\n",
       "1        Marathi     1\n",
       "2          Hindi     2\n",
       "3      Cantonese     3\n",
       "4         Telugu     4\n",
       "5       Mandarin     5\n",
       "6          Tamil     6\n",
       "7        Punjabi     7\n",
       "8         Danish     8\n",
       "9         Korean     9\n",
       "10       Spanish    10\n",
       "11        Arabic    11\n",
       "12          Urdu    12\n",
       "13       Tibetan    13\n",
       "14         Dutch    14\n",
       "15       Kannada    15\n",
       "16      Japanese    16\n",
       "17       Bengali    17\n",
       "18     Sinhalese    18\n",
       "19     Malayalam    19\n",
       "20        French    20\n",
       "21       Russian    21\n",
       "22      Gujarati    22\n",
       "23      Sanskrit    23\n",
       "24     Himachali    24\n",
       "25          Zulu    25\n",
       "26        German    26\n",
       "27       Persian    27\n",
       "28       Italian    28\n",
       "29      Bhojpuri    29\n",
       "30  Swiss German    30\n",
       "31      Georgian    31"
      ]
     },
     "execution_count": 68,
     "metadata": {},
     "output_type": "execute_result"
    }
   ],
   "source": [
    "df4.drop_duplicates()"
   ]
  },
  {
   "cell_type": "markdown",
   "id": "89c33a36",
   "metadata": {},
   "source": [
    "There are no duplicate values"
   ]
  },
  {
   "cell_type": "markdown",
   "id": "50ce9f3a",
   "metadata": {},
   "source": [
    "COUNTRY TABLE"
   ]
  },
  {
   "cell_type": "code",
   "execution_count": 69,
   "id": "b5a8767f",
   "metadata": {},
   "outputs": [
    {
     "data": {
      "text/html": [
       "<div>\n",
       "<style scoped>\n",
       "    .dataframe tbody tr th:only-of-type {\n",
       "        vertical-align: middle;\n",
       "    }\n",
       "\n",
       "    .dataframe tbody tr th {\n",
       "        vertical-align: top;\n",
       "    }\n",
       "\n",
       "    .dataframe thead th {\n",
       "        text-align: right;\n",
       "    }\n",
       "</style>\n",
       "<table border=\"1\" class=\"dataframe\">\n",
       "  <thead>\n",
       "    <tr style=\"text-align: right;\">\n",
       "      <th></th>\n",
       "      <th>index</th>\n",
       "      <th>Name</th>\n",
       "      <th>CID</th>\n",
       "    </tr>\n",
       "  </thead>\n",
       "  <tbody>\n",
       "    <tr>\n",
       "      <th>0</th>\n",
       "      <td>0</td>\n",
       "      <td>UK</td>\n",
       "      <td>0</td>\n",
       "    </tr>\n",
       "    <tr>\n",
       "      <th>1</th>\n",
       "      <td>1</td>\n",
       "      <td>USA</td>\n",
       "      <td>1</td>\n",
       "    </tr>\n",
       "    <tr>\n",
       "      <th>2</th>\n",
       "      <td>2</td>\n",
       "      <td>India</td>\n",
       "      <td>2</td>\n",
       "    </tr>\n",
       "    <tr>\n",
       "      <th>3</th>\n",
       "      <td>3</td>\n",
       "      <td>Australia</td>\n",
       "      <td>3</td>\n",
       "    </tr>\n",
       "    <tr>\n",
       "      <th>4</th>\n",
       "      <td>4</td>\n",
       "      <td>Hong Kong</td>\n",
       "      <td>4</td>\n",
       "    </tr>\n",
       "  </tbody>\n",
       "</table>\n",
       "</div>"
      ],
      "text/plain": [
       "   index       Name  CID\n",
       "0      0         UK    0\n",
       "1      1        USA    1\n",
       "2      2      India    2\n",
       "3      3  Australia    3\n",
       "4      4  Hong Kong    4"
      ]
     },
     "execution_count": 69,
     "metadata": {},
     "output_type": "execute_result"
    }
   ],
   "source": [
    "df5 = pd.read_sql_query('select * from Country',cnx)\n",
    "df5.head()"
   ]
  },
  {
   "cell_type": "code",
   "execution_count": 70,
   "id": "9d2e08d9",
   "metadata": {},
   "outputs": [],
   "source": [
    "df5.drop(['index'],axis=1,inplace=True)"
   ]
  },
  {
   "cell_type": "code",
   "execution_count": 71,
   "id": "4ba9124c",
   "metadata": {},
   "outputs": [
    {
     "name": "stdout",
     "output_type": "stream",
     "text": [
      "The shape of the Country table :  (34, 2)\n",
      "The columns of the Country table :  Index(['Name', 'CID'], dtype='object')\n",
      "The size of the Country table :  68\n"
     ]
    }
   ],
   "source": [
    "#Basic analysis is done on the table .\n",
    "\n",
    "print('The shape of the Country table : ',df5.shape)\n",
    "print('The columns of the Country table : ',df5.columns)\n",
    "print('The size of the Country table : ',df5.size)"
   ]
  },
  {
   "cell_type": "code",
   "execution_count": 72,
   "id": "95fc3076",
   "metadata": {},
   "outputs": [
    {
     "data": {
      "text/html": [
       "<div>\n",
       "<style scoped>\n",
       "    .dataframe tbody tr th:only-of-type {\n",
       "        vertical-align: middle;\n",
       "    }\n",
       "\n",
       "    .dataframe tbody tr th {\n",
       "        vertical-align: top;\n",
       "    }\n",
       "\n",
       "    .dataframe thead th {\n",
       "        text-align: right;\n",
       "    }\n",
       "</style>\n",
       "<table border=\"1\" class=\"dataframe\">\n",
       "  <thead>\n",
       "    <tr style=\"text-align: right;\">\n",
       "      <th></th>\n",
       "      <th>CID</th>\n",
       "    </tr>\n",
       "  </thead>\n",
       "  <tbody>\n",
       "    <tr>\n",
       "      <th>count</th>\n",
       "      <td>34.000000</td>\n",
       "    </tr>\n",
       "    <tr>\n",
       "      <th>mean</th>\n",
       "      <td>16.500000</td>\n",
       "    </tr>\n",
       "    <tr>\n",
       "      <th>std</th>\n",
       "      <td>9.958246</td>\n",
       "    </tr>\n",
       "    <tr>\n",
       "      <th>min</th>\n",
       "      <td>0.000000</td>\n",
       "    </tr>\n",
       "    <tr>\n",
       "      <th>25%</th>\n",
       "      <td>8.250000</td>\n",
       "    </tr>\n",
       "    <tr>\n",
       "      <th>50%</th>\n",
       "      <td>16.500000</td>\n",
       "    </tr>\n",
       "    <tr>\n",
       "      <th>75%</th>\n",
       "      <td>24.750000</td>\n",
       "    </tr>\n",
       "    <tr>\n",
       "      <th>max</th>\n",
       "      <td>33.000000</td>\n",
       "    </tr>\n",
       "  </tbody>\n",
       "</table>\n",
       "</div>"
      ],
      "text/plain": [
       "             CID\n",
       "count  34.000000\n",
       "mean   16.500000\n",
       "std     9.958246\n",
       "min     0.000000\n",
       "25%     8.250000\n",
       "50%    16.500000\n",
       "75%    24.750000\n",
       "max    33.000000"
      ]
     },
     "execution_count": 72,
     "metadata": {},
     "output_type": "execute_result"
    }
   ],
   "source": [
    "df5.describe()"
   ]
  },
  {
   "cell_type": "code",
   "execution_count": 73,
   "id": "dd0828d0",
   "metadata": {},
   "outputs": [
    {
     "name": "stdout",
     "output_type": "stream",
     "text": [
      "<class 'pandas.core.frame.DataFrame'>\n",
      "RangeIndex: 34 entries, 0 to 33\n",
      "Data columns (total 2 columns):\n",
      " #   Column  Non-Null Count  Dtype \n",
      "---  ------  --------------  ----- \n",
      " 0   Name    34 non-null     object\n",
      " 1   CID     34 non-null     int64 \n",
      "dtypes: int64(1), object(1)\n",
      "memory usage: 672.0+ bytes\n"
     ]
    }
   ],
   "source": [
    "df5.info()"
   ]
  },
  {
   "cell_type": "code",
   "execution_count": 74,
   "id": "b3ad8661",
   "metadata": {},
   "outputs": [
    {
     "data": {
      "text/plain": [
       "Name    34\n",
       "CID     34\n",
       "dtype: int64"
      ]
     },
     "execution_count": 74,
     "metadata": {},
     "output_type": "execute_result"
    }
   ],
   "source": [
    "df5.nunique()"
   ]
  },
  {
   "cell_type": "code",
   "execution_count": 75,
   "id": "4dfe2ff8",
   "metadata": {},
   "outputs": [
    {
     "data": {
      "text/plain": [
       "Name    0\n",
       "CID     0\n",
       "dtype: int64"
      ]
     },
     "execution_count": 75,
     "metadata": {},
     "output_type": "execute_result"
    }
   ],
   "source": [
    "df5.isna().sum()"
   ]
  },
  {
   "cell_type": "markdown",
   "id": "617b34fc",
   "metadata": {},
   "source": [
    "There are no null values"
   ]
  },
  {
   "cell_type": "code",
   "execution_count": 76,
   "id": "0e62701a",
   "metadata": {},
   "outputs": [
    {
     "data": {
      "text/html": [
       "<div>\n",
       "<style scoped>\n",
       "    .dataframe tbody tr th:only-of-type {\n",
       "        vertical-align: middle;\n",
       "    }\n",
       "\n",
       "    .dataframe tbody tr th {\n",
       "        vertical-align: top;\n",
       "    }\n",
       "\n",
       "    .dataframe thead th {\n",
       "        text-align: right;\n",
       "    }\n",
       "</style>\n",
       "<table border=\"1\" class=\"dataframe\">\n",
       "  <thead>\n",
       "    <tr style=\"text-align: right;\">\n",
       "      <th></th>\n",
       "      <th>Name</th>\n",
       "      <th>CID</th>\n",
       "    </tr>\n",
       "  </thead>\n",
       "  <tbody>\n",
       "    <tr>\n",
       "      <th>0</th>\n",
       "      <td>UK</td>\n",
       "      <td>0</td>\n",
       "    </tr>\n",
       "    <tr>\n",
       "      <th>1</th>\n",
       "      <td>USA</td>\n",
       "      <td>1</td>\n",
       "    </tr>\n",
       "    <tr>\n",
       "      <th>2</th>\n",
       "      <td>India</td>\n",
       "      <td>2</td>\n",
       "    </tr>\n",
       "    <tr>\n",
       "      <th>3</th>\n",
       "      <td>Australia</td>\n",
       "      <td>3</td>\n",
       "    </tr>\n",
       "    <tr>\n",
       "      <th>4</th>\n",
       "      <td>Hong Kong</td>\n",
       "      <td>4</td>\n",
       "    </tr>\n",
       "    <tr>\n",
       "      <th>5</th>\n",
       "      <td>Germany</td>\n",
       "      <td>5</td>\n",
       "    </tr>\n",
       "    <tr>\n",
       "      <th>6</th>\n",
       "      <td>Canada</td>\n",
       "      <td>6</td>\n",
       "    </tr>\n",
       "    <tr>\n",
       "      <th>7</th>\n",
       "      <td>Denmark</td>\n",
       "      <td>7</td>\n",
       "    </tr>\n",
       "    <tr>\n",
       "      <th>8</th>\n",
       "      <td>Belgium</td>\n",
       "      <td>8</td>\n",
       "    </tr>\n",
       "    <tr>\n",
       "      <th>9</th>\n",
       "      <td>South Korea</td>\n",
       "      <td>9</td>\n",
       "    </tr>\n",
       "    <tr>\n",
       "      <th>10</th>\n",
       "      <td>China</td>\n",
       "      <td>10</td>\n",
       "    </tr>\n",
       "    <tr>\n",
       "      <th>11</th>\n",
       "      <td>Argentina</td>\n",
       "      <td>11</td>\n",
       "    </tr>\n",
       "    <tr>\n",
       "      <th>12</th>\n",
       "      <td>Libya</td>\n",
       "      <td>12</td>\n",
       "    </tr>\n",
       "    <tr>\n",
       "      <th>13</th>\n",
       "      <td>Switzerland</td>\n",
       "      <td>13</td>\n",
       "    </tr>\n",
       "    <tr>\n",
       "      <th>14</th>\n",
       "      <td>Netherlands</td>\n",
       "      <td>14</td>\n",
       "    </tr>\n",
       "    <tr>\n",
       "      <th>15</th>\n",
       "      <td>France</td>\n",
       "      <td>15</td>\n",
       "    </tr>\n",
       "    <tr>\n",
       "      <th>16</th>\n",
       "      <td>Pakistan</td>\n",
       "      <td>16</td>\n",
       "    </tr>\n",
       "    <tr>\n",
       "      <th>17</th>\n",
       "      <td>Japan</td>\n",
       "      <td>17</td>\n",
       "    </tr>\n",
       "    <tr>\n",
       "      <th>18</th>\n",
       "      <td>Sri Lanka</td>\n",
       "      <td>18</td>\n",
       "    </tr>\n",
       "    <tr>\n",
       "      <th>19</th>\n",
       "      <td>United Arab Emirates</td>\n",
       "      <td>19</td>\n",
       "    </tr>\n",
       "    <tr>\n",
       "      <th>20</th>\n",
       "      <td>Bhutan</td>\n",
       "      <td>20</td>\n",
       "    </tr>\n",
       "    <tr>\n",
       "      <th>21</th>\n",
       "      <td>Soviet Union</td>\n",
       "      <td>21</td>\n",
       "    </tr>\n",
       "    <tr>\n",
       "      <th>22</th>\n",
       "      <td>Iceland</td>\n",
       "      <td>22</td>\n",
       "    </tr>\n",
       "    <tr>\n",
       "      <th>23</th>\n",
       "      <td>Afghanistan</td>\n",
       "      <td>23</td>\n",
       "    </tr>\n",
       "    <tr>\n",
       "      <th>24</th>\n",
       "      <td>South Africa</td>\n",
       "      <td>24</td>\n",
       "    </tr>\n",
       "    <tr>\n",
       "      <th>25</th>\n",
       "      <td>Egypt</td>\n",
       "      <td>25</td>\n",
       "    </tr>\n",
       "    <tr>\n",
       "      <th>26</th>\n",
       "      <td>Hungary</td>\n",
       "      <td>26</td>\n",
       "    </tr>\n",
       "    <tr>\n",
       "      <th>27</th>\n",
       "      <td>Iran</td>\n",
       "      <td>27</td>\n",
       "    </tr>\n",
       "    <tr>\n",
       "      <th>28</th>\n",
       "      <td>Suriname</td>\n",
       "      <td>28</td>\n",
       "    </tr>\n",
       "    <tr>\n",
       "      <th>29</th>\n",
       "      <td>Sweden</td>\n",
       "      <td>29</td>\n",
       "    </tr>\n",
       "    <tr>\n",
       "      <th>30</th>\n",
       "      <td>Spain</td>\n",
       "      <td>30</td>\n",
       "    </tr>\n",
       "    <tr>\n",
       "      <th>31</th>\n",
       "      <td>Italy</td>\n",
       "      <td>31</td>\n",
       "    </tr>\n",
       "    <tr>\n",
       "      <th>32</th>\n",
       "      <td>New Zealand</td>\n",
       "      <td>32</td>\n",
       "    </tr>\n",
       "    <tr>\n",
       "      <th>33</th>\n",
       "      <td>Georgia</td>\n",
       "      <td>33</td>\n",
       "    </tr>\n",
       "  </tbody>\n",
       "</table>\n",
       "</div>"
      ],
      "text/plain": [
       "                    Name  CID\n",
       "0                     UK    0\n",
       "1                    USA    1\n",
       "2                  India    2\n",
       "3              Australia    3\n",
       "4              Hong Kong    4\n",
       "5                Germany    5\n",
       "6                 Canada    6\n",
       "7                Denmark    7\n",
       "8                Belgium    8\n",
       "9            South Korea    9\n",
       "10                 China   10\n",
       "11             Argentina   11\n",
       "12                 Libya   12\n",
       "13           Switzerland   13\n",
       "14           Netherlands   14\n",
       "15                France   15\n",
       "16              Pakistan   16\n",
       "17                 Japan   17\n",
       "18             Sri Lanka   18\n",
       "19  United Arab Emirates   19\n",
       "20                Bhutan   20\n",
       "21          Soviet Union   21\n",
       "22               Iceland   22\n",
       "23           Afghanistan   23\n",
       "24          South Africa   24\n",
       "25                 Egypt   25\n",
       "26               Hungary   26\n",
       "27                  Iran   27\n",
       "28              Suriname   28\n",
       "29                Sweden   29\n",
       "30                 Spain   30\n",
       "31                 Italy   31\n",
       "32           New Zealand   32\n",
       "33               Georgia   33"
      ]
     },
     "execution_count": 76,
     "metadata": {},
     "output_type": "execute_result"
    }
   ],
   "source": [
    "df5.drop_duplicates()"
   ]
  },
  {
   "cell_type": "markdown",
   "id": "cb8fd5ac",
   "metadata": {},
   "source": [
    "There are no duplicate values"
   ]
  },
  {
   "cell_type": "code",
   "execution_count": 77,
   "id": "f98e7817",
   "metadata": {},
   "outputs": [
    {
     "data": {
      "text/plain": [
       "34"
      ]
     },
     "execution_count": 77,
     "metadata": {},
     "output_type": "execute_result"
    }
   ],
   "source": [
    "df5['Name'].nunique()"
   ]
  },
  {
   "cell_type": "markdown",
   "id": "f247dfb6",
   "metadata": {},
   "source": [
    "There are 34 different countries, which means each row has different country name."
   ]
  },
  {
   "cell_type": "markdown",
   "id": "8cb95c3b",
   "metadata": {},
   "source": [
    "LOCATION TABLE"
   ]
  },
  {
   "cell_type": "code",
   "execution_count": 78,
   "id": "6720e85b",
   "metadata": {},
   "outputs": [
    {
     "data": {
      "text/html": [
       "<div>\n",
       "<style scoped>\n",
       "    .dataframe tbody tr th:only-of-type {\n",
       "        vertical-align: middle;\n",
       "    }\n",
       "\n",
       "    .dataframe tbody tr th {\n",
       "        vertical-align: top;\n",
       "    }\n",
       "\n",
       "    .dataframe thead th {\n",
       "        text-align: right;\n",
       "    }\n",
       "</style>\n",
       "<table border=\"1\" class=\"dataframe\">\n",
       "  <thead>\n",
       "    <tr style=\"text-align: right;\">\n",
       "      <th></th>\n",
       "      <th>index</th>\n",
       "      <th>Name</th>\n",
       "      <th>LID</th>\n",
       "    </tr>\n",
       "  </thead>\n",
       "  <tbody>\n",
       "    <tr>\n",
       "      <th>0</th>\n",
       "      <td>0</td>\n",
       "      <td>Durban, South Africa</td>\n",
       "      <td>0</td>\n",
       "    </tr>\n",
       "    <tr>\n",
       "      <th>1</th>\n",
       "      <td>1</td>\n",
       "      <td>New York City, New York, USA</td>\n",
       "      <td>1</td>\n",
       "    </tr>\n",
       "    <tr>\n",
       "      <th>2</th>\n",
       "      <td>2</td>\n",
       "      <td>Cape Town Film Studios, Cape Town, Western Cap...</td>\n",
       "      <td>2</td>\n",
       "    </tr>\n",
       "    <tr>\n",
       "      <th>3</th>\n",
       "      <td>3</td>\n",
       "      <td>Pittsburgh, Pennsylvania, USA</td>\n",
       "      <td>3</td>\n",
       "    </tr>\n",
       "    <tr>\n",
       "      <th>4</th>\n",
       "      <td>4</td>\n",
       "      <td>Atlanta, Georgia, USA</td>\n",
       "      <td>4</td>\n",
       "    </tr>\n",
       "  </tbody>\n",
       "</table>\n",
       "</div>"
      ],
      "text/plain": [
       "   index                                               Name  LID\n",
       "0      0                               Durban, South Africa    0\n",
       "1      1                       New York City, New York, USA    1\n",
       "2      2  Cape Town Film Studios, Cape Town, Western Cap...    2\n",
       "3      3                      Pittsburgh, Pennsylvania, USA    3\n",
       "4      4                              Atlanta, Georgia, USA    4"
      ]
     },
     "execution_count": 78,
     "metadata": {},
     "output_type": "execute_result"
    }
   ],
   "source": [
    "df6 = pd.read_sql_query('select * from Location',cnx)\n",
    "df6.head()"
   ]
  },
  {
   "cell_type": "code",
   "execution_count": 79,
   "id": "73d46236",
   "metadata": {},
   "outputs": [],
   "source": [
    "df6.drop(['index'],axis=1,inplace=True)"
   ]
  },
  {
   "cell_type": "code",
   "execution_count": 80,
   "id": "096b46e9",
   "metadata": {},
   "outputs": [
    {
     "name": "stdout",
     "output_type": "stream",
     "text": [
      "The shape of the Location table :  (559, 2)\n",
      "The columns of the Location table :  Index(['Name', 'LID'], dtype='object')\n",
      "The size of the Location table :  1118\n"
     ]
    }
   ],
   "source": [
    "#Basic analysis is done on the table .\n",
    "\n",
    "print('The shape of the Location table : ',df6.shape)\n",
    "print('The columns of the Location table : ',df6.columns)\n",
    "print('The size of the Location table : ',df6.size)"
   ]
  },
  {
   "cell_type": "code",
   "execution_count": 81,
   "id": "3f10f7fc",
   "metadata": {},
   "outputs": [
    {
     "data": {
      "text/html": [
       "<div>\n",
       "<style scoped>\n",
       "    .dataframe tbody tr th:only-of-type {\n",
       "        vertical-align: middle;\n",
       "    }\n",
       "\n",
       "    .dataframe tbody tr th {\n",
       "        vertical-align: top;\n",
       "    }\n",
       "\n",
       "    .dataframe thead th {\n",
       "        text-align: right;\n",
       "    }\n",
       "</style>\n",
       "<table border=\"1\" class=\"dataframe\">\n",
       "  <thead>\n",
       "    <tr style=\"text-align: right;\">\n",
       "      <th></th>\n",
       "      <th>LID</th>\n",
       "    </tr>\n",
       "  </thead>\n",
       "  <tbody>\n",
       "    <tr>\n",
       "      <th>count</th>\n",
       "      <td>559.000000</td>\n",
       "    </tr>\n",
       "    <tr>\n",
       "      <th>mean</th>\n",
       "      <td>279.000000</td>\n",
       "    </tr>\n",
       "    <tr>\n",
       "      <th>std</th>\n",
       "      <td>161.513673</td>\n",
       "    </tr>\n",
       "    <tr>\n",
       "      <th>min</th>\n",
       "      <td>0.000000</td>\n",
       "    </tr>\n",
       "    <tr>\n",
       "      <th>25%</th>\n",
       "      <td>139.500000</td>\n",
       "    </tr>\n",
       "    <tr>\n",
       "      <th>50%</th>\n",
       "      <td>279.000000</td>\n",
       "    </tr>\n",
       "    <tr>\n",
       "      <th>75%</th>\n",
       "      <td>418.500000</td>\n",
       "    </tr>\n",
       "    <tr>\n",
       "      <th>max</th>\n",
       "      <td>558.000000</td>\n",
       "    </tr>\n",
       "  </tbody>\n",
       "</table>\n",
       "</div>"
      ],
      "text/plain": [
       "              LID\n",
       "count  559.000000\n",
       "mean   279.000000\n",
       "std    161.513673\n",
       "min      0.000000\n",
       "25%    139.500000\n",
       "50%    279.000000\n",
       "75%    418.500000\n",
       "max    558.000000"
      ]
     },
     "execution_count": 81,
     "metadata": {},
     "output_type": "execute_result"
    }
   ],
   "source": [
    "df6.describe()"
   ]
  },
  {
   "cell_type": "code",
   "execution_count": 82,
   "id": "47199afc",
   "metadata": {},
   "outputs": [
    {
     "name": "stdout",
     "output_type": "stream",
     "text": [
      "<class 'pandas.core.frame.DataFrame'>\n",
      "RangeIndex: 559 entries, 0 to 558\n",
      "Data columns (total 2 columns):\n",
      " #   Column  Non-Null Count  Dtype \n",
      "---  ------  --------------  ----- \n",
      " 0   Name    559 non-null    object\n",
      " 1   LID     559 non-null    int64 \n",
      "dtypes: int64(1), object(1)\n",
      "memory usage: 8.9+ KB\n"
     ]
    }
   ],
   "source": [
    "df6.info()"
   ]
  },
  {
   "cell_type": "code",
   "execution_count": 83,
   "id": "36c5c546",
   "metadata": {},
   "outputs": [
    {
     "data": {
      "text/plain": [
       "Name    0\n",
       "LID     0\n",
       "dtype: int64"
      ]
     },
     "execution_count": 83,
     "metadata": {},
     "output_type": "execute_result"
    }
   ],
   "source": [
    "df6.isna().sum()"
   ]
  },
  {
   "cell_type": "markdown",
   "id": "7e49ecbb",
   "metadata": {},
   "source": [
    "There are no null values"
   ]
  },
  {
   "cell_type": "code",
   "execution_count": 84,
   "id": "2b975792",
   "metadata": {},
   "outputs": [
    {
     "data": {
      "text/html": [
       "<div>\n",
       "<style scoped>\n",
       "    .dataframe tbody tr th:only-of-type {\n",
       "        vertical-align: middle;\n",
       "    }\n",
       "\n",
       "    .dataframe tbody tr th {\n",
       "        vertical-align: top;\n",
       "    }\n",
       "\n",
       "    .dataframe thead th {\n",
       "        text-align: right;\n",
       "    }\n",
       "</style>\n",
       "<table border=\"1\" class=\"dataframe\">\n",
       "  <thead>\n",
       "    <tr style=\"text-align: right;\">\n",
       "      <th></th>\n",
       "      <th>Name</th>\n",
       "      <th>LID</th>\n",
       "    </tr>\n",
       "  </thead>\n",
       "  <tbody>\n",
       "    <tr>\n",
       "      <th>0</th>\n",
       "      <td>Durban, South Africa</td>\n",
       "      <td>0</td>\n",
       "    </tr>\n",
       "    <tr>\n",
       "      <th>1</th>\n",
       "      <td>New York City, New York, USA</td>\n",
       "      <td>1</td>\n",
       "    </tr>\n",
       "    <tr>\n",
       "      <th>2</th>\n",
       "      <td>Cape Town Film Studios, Cape Town, Western Cap...</td>\n",
       "      <td>2</td>\n",
       "    </tr>\n",
       "    <tr>\n",
       "      <th>3</th>\n",
       "      <td>Pittsburgh, Pennsylvania, USA</td>\n",
       "      <td>3</td>\n",
       "    </tr>\n",
       "    <tr>\n",
       "      <th>4</th>\n",
       "      <td>Atlanta, Georgia, USA</td>\n",
       "      <td>4</td>\n",
       "    </tr>\n",
       "    <tr>\n",
       "      <th>...</th>\n",
       "      <td>...</td>\n",
       "      <td>...</td>\n",
       "    </tr>\n",
       "    <tr>\n",
       "      <th>554</th>\n",
       "      <td>Perumbavoor, Kerala, India</td>\n",
       "      <td>554</td>\n",
       "    </tr>\n",
       "    <tr>\n",
       "      <th>555</th>\n",
       "      <td>Jersey City, New Jersey, USA</td>\n",
       "      <td>555</td>\n",
       "    </tr>\n",
       "    <tr>\n",
       "      <th>556</th>\n",
       "      <td>Berner Oberland, Kanton Bern, Switzerland</td>\n",
       "      <td>556</td>\n",
       "    </tr>\n",
       "    <tr>\n",
       "      <th>557</th>\n",
       "      <td>Aeroporti, Tbilisi, Georgia</td>\n",
       "      <td>557</td>\n",
       "    </tr>\n",
       "    <tr>\n",
       "      <th>558</th>\n",
       "      <td>Aftab Studio, India</td>\n",
       "      <td>558</td>\n",
       "    </tr>\n",
       "  </tbody>\n",
       "</table>\n",
       "<p>559 rows × 2 columns</p>\n",
       "</div>"
      ],
      "text/plain": [
       "                                                  Name  LID\n",
       "0                                 Durban, South Africa    0\n",
       "1                         New York City, New York, USA    1\n",
       "2    Cape Town Film Studios, Cape Town, Western Cap...    2\n",
       "3                        Pittsburgh, Pennsylvania, USA    3\n",
       "4                                Atlanta, Georgia, USA    4\n",
       "..                                                 ...  ...\n",
       "554                         Perumbavoor, Kerala, India  554\n",
       "555                       Jersey City, New Jersey, USA  555\n",
       "556          Berner Oberland, Kanton Bern, Switzerland  556\n",
       "557                        Aeroporti, Tbilisi, Georgia  557\n",
       "558                                Aftab Studio, India  558\n",
       "\n",
       "[559 rows x 2 columns]"
      ]
     },
     "execution_count": 84,
     "metadata": {},
     "output_type": "execute_result"
    }
   ],
   "source": [
    "df6.drop_duplicates()"
   ]
  },
  {
   "cell_type": "markdown",
   "id": "4809b66f",
   "metadata": {},
   "source": [
    "There are no duplicates"
   ]
  },
  {
   "cell_type": "code",
   "execution_count": 85,
   "id": "adec1fe1",
   "metadata": {},
   "outputs": [
    {
     "data": {
      "text/plain": [
       "Name    559\n",
       "LID     559\n",
       "dtype: int64"
      ]
     },
     "execution_count": 85,
     "metadata": {},
     "output_type": "execute_result"
    }
   ],
   "source": [
    "df6.nunique()"
   ]
  },
  {
   "cell_type": "markdown",
   "id": "dd37dd91",
   "metadata": {},
   "source": [
    "Every row has unique values here"
   ]
  },
  {
   "cell_type": "markdown",
   "id": "43a00b0c",
   "metadata": {},
   "source": [
    "PRODUCER TABLE"
   ]
  },
  {
   "cell_type": "code",
   "execution_count": 86,
   "id": "8fc701e9",
   "metadata": {},
   "outputs": [
    {
     "data": {
      "text/html": [
       "<div>\n",
       "<style scoped>\n",
       "    .dataframe tbody tr th:only-of-type {\n",
       "        vertical-align: middle;\n",
       "    }\n",
       "\n",
       "    .dataframe tbody tr th {\n",
       "        vertical-align: top;\n",
       "    }\n",
       "\n",
       "    .dataframe thead th {\n",
       "        text-align: right;\n",
       "    }\n",
       "</style>\n",
       "<table border=\"1\" class=\"dataframe\">\n",
       "  <thead>\n",
       "    <tr style=\"text-align: right;\">\n",
       "      <th></th>\n",
       "      <th>index</th>\n",
       "      <th>MID</th>\n",
       "      <th>PID</th>\n",
       "      <th>ID</th>\n",
       "    </tr>\n",
       "  </thead>\n",
       "  <tbody>\n",
       "    <tr>\n",
       "      <th>0</th>\n",
       "      <td>0</td>\n",
       "      <td>tt2388771</td>\n",
       "      <td>nm0057655</td>\n",
       "      <td>0</td>\n",
       "    </tr>\n",
       "    <tr>\n",
       "      <th>1</th>\n",
       "      <td>1</td>\n",
       "      <td>tt2388771</td>\n",
       "      <td>nm0147080</td>\n",
       "      <td>1</td>\n",
       "    </tr>\n",
       "    <tr>\n",
       "      <th>2</th>\n",
       "      <td>2</td>\n",
       "      <td>tt2388771</td>\n",
       "      <td>nm0389414</td>\n",
       "      <td>2</td>\n",
       "    </tr>\n",
       "    <tr>\n",
       "      <th>3</th>\n",
       "      <td>3</td>\n",
       "      <td>tt2388771</td>\n",
       "      <td>nm0460141</td>\n",
       "      <td>3</td>\n",
       "    </tr>\n",
       "    <tr>\n",
       "      <th>4</th>\n",
       "      <td>4</td>\n",
       "      <td>tt2388771</td>\n",
       "      <td>nm0672248</td>\n",
       "      <td>4</td>\n",
       "    </tr>\n",
       "  </tbody>\n",
       "</table>\n",
       "</div>"
      ],
      "text/plain": [
       "   index        MID         PID  ID\n",
       "0      0  tt2388771   nm0057655   0\n",
       "1      1  tt2388771   nm0147080   1\n",
       "2      2  tt2388771   nm0389414   2\n",
       "3      3  tt2388771   nm0460141   3\n",
       "4      4  tt2388771   nm0672248   4"
      ]
     },
     "execution_count": 86,
     "metadata": {},
     "output_type": "execute_result"
    }
   ],
   "source": [
    "df7 = pd.read_sql_query('select * from M_Producer',cnx)\n",
    "df7.head()"
   ]
  },
  {
   "cell_type": "code",
   "execution_count": 87,
   "id": "7cfb61dc",
   "metadata": {},
   "outputs": [],
   "source": [
    "df7.drop(['index'],axis=1,inplace=True)"
   ]
  },
  {
   "cell_type": "code",
   "execution_count": 88,
   "id": "c35f29b3",
   "metadata": {},
   "outputs": [
    {
     "name": "stdout",
     "output_type": "stream",
     "text": [
      "The shape of the M_Producer table :  (11749, 3)\n",
      "The columns of the M_Producer table :  Index(['MID', 'PID', 'ID'], dtype='object')\n",
      "The size of the M_Producer table :  35247\n"
     ]
    }
   ],
   "source": [
    "#Basic analysis is done on the table .\n",
    "\n",
    "print('The shape of the M_Producer table : ',df7.shape)\n",
    "print('The columns of the M_Producer table : ',df7.columns)\n",
    "print('The size of the M_Producer table : ',df7.size)"
   ]
  },
  {
   "cell_type": "code",
   "execution_count": 89,
   "id": "38d52050",
   "metadata": {},
   "outputs": [
    {
     "data": {
      "text/html": [
       "<div>\n",
       "<style scoped>\n",
       "    .dataframe tbody tr th:only-of-type {\n",
       "        vertical-align: middle;\n",
       "    }\n",
       "\n",
       "    .dataframe tbody tr th {\n",
       "        vertical-align: top;\n",
       "    }\n",
       "\n",
       "    .dataframe thead th {\n",
       "        text-align: right;\n",
       "    }\n",
       "</style>\n",
       "<table border=\"1\" class=\"dataframe\">\n",
       "  <thead>\n",
       "    <tr style=\"text-align: right;\">\n",
       "      <th></th>\n",
       "      <th>ID</th>\n",
       "    </tr>\n",
       "  </thead>\n",
       "  <tbody>\n",
       "    <tr>\n",
       "      <th>count</th>\n",
       "      <td>11749.000000</td>\n",
       "    </tr>\n",
       "    <tr>\n",
       "      <th>mean</th>\n",
       "      <td>5874.066048</td>\n",
       "    </tr>\n",
       "    <tr>\n",
       "      <th>std</th>\n",
       "      <td>3391.895799</td>\n",
       "    </tr>\n",
       "    <tr>\n",
       "      <th>min</th>\n",
       "      <td>0.000000</td>\n",
       "    </tr>\n",
       "    <tr>\n",
       "      <th>25%</th>\n",
       "      <td>2937.000000</td>\n",
       "    </tr>\n",
       "    <tr>\n",
       "      <th>50%</th>\n",
       "      <td>5874.000000</td>\n",
       "    </tr>\n",
       "    <tr>\n",
       "      <th>75%</th>\n",
       "      <td>8811.000000</td>\n",
       "    </tr>\n",
       "    <tr>\n",
       "      <th>max</th>\n",
       "      <td>11750.000000</td>\n",
       "    </tr>\n",
       "  </tbody>\n",
       "</table>\n",
       "</div>"
      ],
      "text/plain": [
       "                 ID\n",
       "count  11749.000000\n",
       "mean    5874.066048\n",
       "std     3391.895799\n",
       "min        0.000000\n",
       "25%     2937.000000\n",
       "50%     5874.000000\n",
       "75%     8811.000000\n",
       "max    11750.000000"
      ]
     },
     "execution_count": 89,
     "metadata": {},
     "output_type": "execute_result"
    }
   ],
   "source": [
    "df7.describe()"
   ]
  },
  {
   "cell_type": "code",
   "execution_count": 90,
   "id": "d68d973e",
   "metadata": {},
   "outputs": [
    {
     "name": "stdout",
     "output_type": "stream",
     "text": [
      "<class 'pandas.core.frame.DataFrame'>\n",
      "RangeIndex: 11749 entries, 0 to 11748\n",
      "Data columns (total 3 columns):\n",
      " #   Column  Non-Null Count  Dtype \n",
      "---  ------  --------------  ----- \n",
      " 0   MID     11749 non-null  object\n",
      " 1   PID     11730 non-null  object\n",
      " 2   ID      11749 non-null  int64 \n",
      "dtypes: int64(1), object(2)\n",
      "memory usage: 275.5+ KB\n"
     ]
    }
   ],
   "source": [
    "df7.info()"
   ]
  },
  {
   "cell_type": "code",
   "execution_count": 91,
   "id": "de4e5448",
   "metadata": {},
   "outputs": [
    {
     "data": {
      "text/plain": [
       "MID     0\n",
       "PID    19\n",
       "ID      0\n",
       "dtype: int64"
      ]
     },
     "execution_count": 91,
     "metadata": {},
     "output_type": "execute_result"
    }
   ],
   "source": [
    "df7.isna().sum()"
   ]
  },
  {
   "cell_type": "markdown",
   "id": "8ad4ca84",
   "metadata": {},
   "source": [
    "There are 19 null values.When we compare this 19 null values to 11749 tables, it doesn't even contribute 1% of the value.Hence we can remove the null values."
   ]
  },
  {
   "cell_type": "code",
   "execution_count": 92,
   "id": "fe87050e",
   "metadata": {},
   "outputs": [],
   "source": [
    "df7.dropna(inplace=True)"
   ]
  },
  {
   "cell_type": "code",
   "execution_count": 93,
   "id": "804547cd",
   "metadata": {},
   "outputs": [],
   "source": [
    "df7.drop_duplicates(inplace=True)"
   ]
  },
  {
   "cell_type": "markdown",
   "id": "7490500d",
   "metadata": {},
   "source": [
    "There are no duplicate values"
   ]
  },
  {
   "cell_type": "code",
   "execution_count": 94,
   "id": "cec525a0",
   "metadata": {},
   "outputs": [
    {
     "data": {
      "text/plain": [
       "MID     3454\n",
       "PID     5436\n",
       "ID     11730\n",
       "dtype: int64"
      ]
     },
     "execution_count": 94,
     "metadata": {},
     "output_type": "execute_result"
    }
   ],
   "source": [
    "df7.nunique()"
   ]
  },
  {
   "cell_type": "markdown",
   "id": "605f4b82",
   "metadata": {},
   "source": [
    "M_DIRECTOR TABLE"
   ]
  },
  {
   "cell_type": "code",
   "execution_count": 95,
   "id": "992c30d5",
   "metadata": {},
   "outputs": [
    {
     "data": {
      "text/html": [
       "<div>\n",
       "<style scoped>\n",
       "    .dataframe tbody tr th:only-of-type {\n",
       "        vertical-align: middle;\n",
       "    }\n",
       "\n",
       "    .dataframe tbody tr th {\n",
       "        vertical-align: top;\n",
       "    }\n",
       "\n",
       "    .dataframe thead th {\n",
       "        text-align: right;\n",
       "    }\n",
       "</style>\n",
       "<table border=\"1\" class=\"dataframe\">\n",
       "  <thead>\n",
       "    <tr style=\"text-align: right;\">\n",
       "      <th></th>\n",
       "      <th>index</th>\n",
       "      <th>MID</th>\n",
       "      <th>PID</th>\n",
       "      <th>ID</th>\n",
       "    </tr>\n",
       "  </thead>\n",
       "  <tbody>\n",
       "    <tr>\n",
       "      <th>0</th>\n",
       "      <td>0</td>\n",
       "      <td>tt2388771</td>\n",
       "      <td>nm0785227</td>\n",
       "      <td>0</td>\n",
       "    </tr>\n",
       "    <tr>\n",
       "      <th>1</th>\n",
       "      <td>1</td>\n",
       "      <td>tt5164214</td>\n",
       "      <td>nm0002657</td>\n",
       "      <td>1</td>\n",
       "    </tr>\n",
       "    <tr>\n",
       "      <th>2</th>\n",
       "      <td>2</td>\n",
       "      <td>tt1365519</td>\n",
       "      <td>nm1012385</td>\n",
       "      <td>2</td>\n",
       "    </tr>\n",
       "    <tr>\n",
       "      <th>3</th>\n",
       "      <td>3</td>\n",
       "      <td>tt0848228</td>\n",
       "      <td>nm0923736</td>\n",
       "      <td>3</td>\n",
       "    </tr>\n",
       "    <tr>\n",
       "      <th>4</th>\n",
       "      <td>4</td>\n",
       "      <td>tt8239946</td>\n",
       "      <td>nm9751348</td>\n",
       "      <td>4</td>\n",
       "    </tr>\n",
       "  </tbody>\n",
       "</table>\n",
       "</div>"
      ],
      "text/plain": [
       "   index        MID        PID  ID\n",
       "0      0  tt2388771  nm0785227   0\n",
       "1      1  tt5164214  nm0002657   1\n",
       "2      2  tt1365519  nm1012385   2\n",
       "3      3  tt0848228  nm0923736   3\n",
       "4      4  tt8239946  nm9751348   4"
      ]
     },
     "execution_count": 95,
     "metadata": {},
     "output_type": "execute_result"
    }
   ],
   "source": [
    "df8 = pd.read_sql_query('select * from M_Director',cnx)\n",
    "df8.head()"
   ]
  },
  {
   "cell_type": "code",
   "execution_count": 96,
   "id": "dcbc2617",
   "metadata": {},
   "outputs": [],
   "source": [
    "df8.drop(['index'],axis=1,inplace=True)"
   ]
  },
  {
   "cell_type": "code",
   "execution_count": 97,
   "id": "524627ff",
   "metadata": {},
   "outputs": [
    {
     "name": "stdout",
     "output_type": "stream",
     "text": [
      "The shape of the M_Director table :  (3473, 3)\n",
      "The columns of the M_Director table :  Index(['MID', 'PID', 'ID'], dtype='object')\n",
      "The size of the M_Director table :  10419\n"
     ]
    }
   ],
   "source": [
    "#Basic analysis is done on the table .\n",
    "\n",
    "print('The shape of the M_Director table : ',df8.shape)\n",
    "print('The columns of the M_Director table : ',df8.columns)\n",
    "print('The size of the M_Director table : ',df8.size)"
   ]
  },
  {
   "cell_type": "code",
   "execution_count": 98,
   "id": "d1732a39",
   "metadata": {},
   "outputs": [
    {
     "data": {
      "text/html": [
       "<div>\n",
       "<style scoped>\n",
       "    .dataframe tbody tr th:only-of-type {\n",
       "        vertical-align: middle;\n",
       "    }\n",
       "\n",
       "    .dataframe tbody tr th {\n",
       "        vertical-align: top;\n",
       "    }\n",
       "\n",
       "    .dataframe thead th {\n",
       "        text-align: right;\n",
       "    }\n",
       "</style>\n",
       "<table border=\"1\" class=\"dataframe\">\n",
       "  <thead>\n",
       "    <tr style=\"text-align: right;\">\n",
       "      <th></th>\n",
       "      <th>ID</th>\n",
       "    </tr>\n",
       "  </thead>\n",
       "  <tbody>\n",
       "    <tr>\n",
       "      <th>count</th>\n",
       "      <td>3473.000000</td>\n",
       "    </tr>\n",
       "    <tr>\n",
       "      <th>mean</th>\n",
       "      <td>1736.105096</td>\n",
       "    </tr>\n",
       "    <tr>\n",
       "      <th>std</th>\n",
       "      <td>1002.877540</td>\n",
       "    </tr>\n",
       "    <tr>\n",
       "      <th>min</th>\n",
       "      <td>0.000000</td>\n",
       "    </tr>\n",
       "    <tr>\n",
       "      <th>25%</th>\n",
       "      <td>868.000000</td>\n",
       "    </tr>\n",
       "    <tr>\n",
       "      <th>50%</th>\n",
       "      <td>1736.000000</td>\n",
       "    </tr>\n",
       "    <tr>\n",
       "      <th>75%</th>\n",
       "      <td>2604.000000</td>\n",
       "    </tr>\n",
       "    <tr>\n",
       "      <th>max</th>\n",
       "      <td>3474.000000</td>\n",
       "    </tr>\n",
       "  </tbody>\n",
       "</table>\n",
       "</div>"
      ],
      "text/plain": [
       "                ID\n",
       "count  3473.000000\n",
       "mean   1736.105096\n",
       "std    1002.877540\n",
       "min       0.000000\n",
       "25%     868.000000\n",
       "50%    1736.000000\n",
       "75%    2604.000000\n",
       "max    3474.000000"
      ]
     },
     "execution_count": 98,
     "metadata": {},
     "output_type": "execute_result"
    }
   ],
   "source": [
    "df8.describe()"
   ]
  },
  {
   "cell_type": "code",
   "execution_count": 99,
   "id": "07888719",
   "metadata": {},
   "outputs": [
    {
     "name": "stdout",
     "output_type": "stream",
     "text": [
      "<class 'pandas.core.frame.DataFrame'>\n",
      "RangeIndex: 3473 entries, 0 to 3472\n",
      "Data columns (total 3 columns):\n",
      " #   Column  Non-Null Count  Dtype \n",
      "---  ------  --------------  ----- \n",
      " 0   MID     3473 non-null   object\n",
      " 1   PID     3473 non-null   object\n",
      " 2   ID      3473 non-null   int64 \n",
      "dtypes: int64(1), object(2)\n",
      "memory usage: 81.5+ KB\n"
     ]
    }
   ],
   "source": [
    "df8.info()"
   ]
  },
  {
   "cell_type": "code",
   "execution_count": 100,
   "id": "20a784fa",
   "metadata": {},
   "outputs": [
    {
     "data": {
      "text/plain": [
       "MID    0\n",
       "PID    0\n",
       "ID     0\n",
       "dtype: int64"
      ]
     },
     "execution_count": 100,
     "metadata": {},
     "output_type": "execute_result"
    }
   ],
   "source": [
    "df8.isna().sum()"
   ]
  },
  {
   "cell_type": "markdown",
   "id": "406149f9",
   "metadata": {},
   "source": [
    "There are no null values"
   ]
  },
  {
   "cell_type": "code",
   "execution_count": 101,
   "id": "5109fd42",
   "metadata": {},
   "outputs": [
    {
     "data": {
      "text/plain": [
       "MID    3473\n",
       "PID    1462\n",
       "ID     3473\n",
       "dtype: int64"
      ]
     },
     "execution_count": 101,
     "metadata": {},
     "output_type": "execute_result"
    }
   ],
   "source": [
    "df8.nunique()"
   ]
  },
  {
   "cell_type": "markdown",
   "id": "417011a7",
   "metadata": {},
   "source": [
    "There are 3473 different movies in the table which is similar to the Movie table."
   ]
  },
  {
   "cell_type": "code",
   "execution_count": 102,
   "id": "29d91f00",
   "metadata": {},
   "outputs": [
    {
     "data": {
      "text/html": [
       "<div>\n",
       "<style scoped>\n",
       "    .dataframe tbody tr th:only-of-type {\n",
       "        vertical-align: middle;\n",
       "    }\n",
       "\n",
       "    .dataframe tbody tr th {\n",
       "        vertical-align: top;\n",
       "    }\n",
       "\n",
       "    .dataframe thead th {\n",
       "        text-align: right;\n",
       "    }\n",
       "</style>\n",
       "<table border=\"1\" class=\"dataframe\">\n",
       "  <thead>\n",
       "    <tr style=\"text-align: right;\">\n",
       "      <th></th>\n",
       "      <th>MID</th>\n",
       "      <th>PID</th>\n",
       "      <th>ID</th>\n",
       "    </tr>\n",
       "  </thead>\n",
       "  <tbody>\n",
       "    <tr>\n",
       "      <th>0</th>\n",
       "      <td>tt2388771</td>\n",
       "      <td>nm0785227</td>\n",
       "      <td>0</td>\n",
       "    </tr>\n",
       "    <tr>\n",
       "      <th>1</th>\n",
       "      <td>tt5164214</td>\n",
       "      <td>nm0002657</td>\n",
       "      <td>1</td>\n",
       "    </tr>\n",
       "    <tr>\n",
       "      <th>2</th>\n",
       "      <td>tt1365519</td>\n",
       "      <td>nm1012385</td>\n",
       "      <td>2</td>\n",
       "    </tr>\n",
       "    <tr>\n",
       "      <th>3</th>\n",
       "      <td>tt0848228</td>\n",
       "      <td>nm0923736</td>\n",
       "      <td>3</td>\n",
       "    </tr>\n",
       "    <tr>\n",
       "      <th>4</th>\n",
       "      <td>tt8239946</td>\n",
       "      <td>nm9751348</td>\n",
       "      <td>4</td>\n",
       "    </tr>\n",
       "    <tr>\n",
       "      <th>...</th>\n",
       "      <td>...</td>\n",
       "      <td>...</td>\n",
       "      <td>...</td>\n",
       "    </tr>\n",
       "    <tr>\n",
       "      <th>3468</th>\n",
       "      <td>tt0090611</td>\n",
       "      <td>nm0220823</td>\n",
       "      <td>3470</td>\n",
       "    </tr>\n",
       "    <tr>\n",
       "      <th>3469</th>\n",
       "      <td>tt0106270</td>\n",
       "      <td>nm0613517</td>\n",
       "      <td>3471</td>\n",
       "    </tr>\n",
       "    <tr>\n",
       "      <th>3470</th>\n",
       "      <td>tt0852989</td>\n",
       "      <td>nm2312263</td>\n",
       "      <td>3472</td>\n",
       "    </tr>\n",
       "    <tr>\n",
       "      <th>3471</th>\n",
       "      <td>tt0375882</td>\n",
       "      <td>nm0066829</td>\n",
       "      <td>3473</td>\n",
       "    </tr>\n",
       "    <tr>\n",
       "      <th>3472</th>\n",
       "      <td>tt0375890</td>\n",
       "      <td>nm1421793</td>\n",
       "      <td>3474</td>\n",
       "    </tr>\n",
       "  </tbody>\n",
       "</table>\n",
       "<p>3473 rows × 3 columns</p>\n",
       "</div>"
      ],
      "text/plain": [
       "            MID        PID    ID\n",
       "0     tt2388771  nm0785227     0\n",
       "1     tt5164214  nm0002657     1\n",
       "2     tt1365519  nm1012385     2\n",
       "3     tt0848228  nm0923736     3\n",
       "4     tt8239946  nm9751348     4\n",
       "...         ...        ...   ...\n",
       "3468  tt0090611  nm0220823  3470\n",
       "3469  tt0106270  nm0613517  3471\n",
       "3470  tt0852989  nm2312263  3472\n",
       "3471  tt0375882  nm0066829  3473\n",
       "3472  tt0375890  nm1421793  3474\n",
       "\n",
       "[3473 rows x 3 columns]"
      ]
     },
     "execution_count": 102,
     "metadata": {},
     "output_type": "execute_result"
    }
   ],
   "source": [
    "df8.drop_duplicates()"
   ]
  },
  {
   "cell_type": "markdown",
   "id": "dc960772",
   "metadata": {},
   "source": [
    "There are no duplicates in the table."
   ]
  },
  {
   "cell_type": "code",
   "execution_count": null,
   "id": "019b58bd",
   "metadata": {},
   "outputs": [],
   "source": []
  },
  {
   "cell_type": "markdown",
   "id": "9ffca201",
   "metadata": {},
   "source": [
    "M_CAST TABLE"
   ]
  },
  {
   "cell_type": "code",
   "execution_count": 103,
   "id": "832b5af1",
   "metadata": {},
   "outputs": [
    {
     "data": {
      "text/html": [
       "<div>\n",
       "<style scoped>\n",
       "    .dataframe tbody tr th:only-of-type {\n",
       "        vertical-align: middle;\n",
       "    }\n",
       "\n",
       "    .dataframe tbody tr th {\n",
       "        vertical-align: top;\n",
       "    }\n",
       "\n",
       "    .dataframe thead th {\n",
       "        text-align: right;\n",
       "    }\n",
       "</style>\n",
       "<table border=\"1\" class=\"dataframe\">\n",
       "  <thead>\n",
       "    <tr style=\"text-align: right;\">\n",
       "      <th></th>\n",
       "      <th>index</th>\n",
       "      <th>MID</th>\n",
       "      <th>PID</th>\n",
       "      <th>ID</th>\n",
       "    </tr>\n",
       "  </thead>\n",
       "  <tbody>\n",
       "    <tr>\n",
       "      <th>0</th>\n",
       "      <td>0</td>\n",
       "      <td>tt2388771</td>\n",
       "      <td>nm0000288</td>\n",
       "      <td>0</td>\n",
       "    </tr>\n",
       "    <tr>\n",
       "      <th>1</th>\n",
       "      <td>1</td>\n",
       "      <td>tt2388771</td>\n",
       "      <td>nm0000949</td>\n",
       "      <td>1</td>\n",
       "    </tr>\n",
       "    <tr>\n",
       "      <th>2</th>\n",
       "      <td>2</td>\n",
       "      <td>tt2388771</td>\n",
       "      <td>nm1212722</td>\n",
       "      <td>2</td>\n",
       "    </tr>\n",
       "    <tr>\n",
       "      <th>3</th>\n",
       "      <td>3</td>\n",
       "      <td>tt2388771</td>\n",
       "      <td>nm0365140</td>\n",
       "      <td>3</td>\n",
       "    </tr>\n",
       "    <tr>\n",
       "      <th>4</th>\n",
       "      <td>4</td>\n",
       "      <td>tt2388771</td>\n",
       "      <td>nm0785227</td>\n",
       "      <td>4</td>\n",
       "    </tr>\n",
       "  </tbody>\n",
       "</table>\n",
       "</div>"
      ],
      "text/plain": [
       "   index        MID         PID  ID\n",
       "0      0  tt2388771   nm0000288   0\n",
       "1      1  tt2388771   nm0000949   1\n",
       "2      2  tt2388771   nm1212722   2\n",
       "3      3  tt2388771   nm0365140   3\n",
       "4      4  tt2388771   nm0785227   4"
      ]
     },
     "execution_count": 103,
     "metadata": {},
     "output_type": "execute_result"
    }
   ],
   "source": [
    "df9 = pd.read_sql_query('select * from M_Cast',cnx)\n",
    "df9.head()"
   ]
  },
  {
   "cell_type": "code",
   "execution_count": 104,
   "id": "27673cd1",
   "metadata": {},
   "outputs": [],
   "source": [
    "df9.drop(['index'],axis=1,inplace=True)"
   ]
  },
  {
   "cell_type": "code",
   "execution_count": 105,
   "id": "57baf999",
   "metadata": {},
   "outputs": [
    {
     "name": "stdout",
     "output_type": "stream",
     "text": [
      "The shape of the M_Cast table :  (82835, 3)\n",
      "The columns of the M_Cast table :  Index(['MID', 'PID', 'ID'], dtype='object')\n",
      "The size of the M_Cast table :  248505\n"
     ]
    }
   ],
   "source": [
    "#Basic analysis is done on the table .\n",
    "\n",
    "print('The shape of the M_Cast table : ',df9.shape)\n",
    "print('The columns of the M_Cast table : ',df9.columns)\n",
    "print('The size of the M_Cast table : ',df9.size)"
   ]
  },
  {
   "cell_type": "code",
   "execution_count": 106,
   "id": "ee95fd07",
   "metadata": {},
   "outputs": [
    {
     "data": {
      "text/html": [
       "<div>\n",
       "<style scoped>\n",
       "    .dataframe tbody tr th:only-of-type {\n",
       "        vertical-align: middle;\n",
       "    }\n",
       "\n",
       "    .dataframe tbody tr th {\n",
       "        vertical-align: top;\n",
       "    }\n",
       "\n",
       "    .dataframe thead th {\n",
       "        text-align: right;\n",
       "    }\n",
       "</style>\n",
       "<table border=\"1\" class=\"dataframe\">\n",
       "  <thead>\n",
       "    <tr style=\"text-align: right;\">\n",
       "      <th></th>\n",
       "      <th>ID</th>\n",
       "    </tr>\n",
       "  </thead>\n",
       "  <tbody>\n",
       "    <tr>\n",
       "      <th>count</th>\n",
       "      <td>82835.000000</td>\n",
       "    </tr>\n",
       "    <tr>\n",
       "      <th>mean</th>\n",
       "      <td>41417.072771</td>\n",
       "    </tr>\n",
       "    <tr>\n",
       "      <th>std</th>\n",
       "      <td>23912.666593</td>\n",
       "    </tr>\n",
       "    <tr>\n",
       "      <th>min</th>\n",
       "      <td>0.000000</td>\n",
       "    </tr>\n",
       "    <tr>\n",
       "      <th>25%</th>\n",
       "      <td>20708.500000</td>\n",
       "    </tr>\n",
       "    <tr>\n",
       "      <th>50%</th>\n",
       "      <td>41417.000000</td>\n",
       "    </tr>\n",
       "    <tr>\n",
       "      <th>75%</th>\n",
       "      <td>62125.500000</td>\n",
       "    </tr>\n",
       "    <tr>\n",
       "      <th>max</th>\n",
       "      <td>82836.000000</td>\n",
       "    </tr>\n",
       "  </tbody>\n",
       "</table>\n",
       "</div>"
      ],
      "text/plain": [
       "                 ID\n",
       "count  82835.000000\n",
       "mean   41417.072771\n",
       "std    23912.666593\n",
       "min        0.000000\n",
       "25%    20708.500000\n",
       "50%    41417.000000\n",
       "75%    62125.500000\n",
       "max    82836.000000"
      ]
     },
     "execution_count": 106,
     "metadata": {},
     "output_type": "execute_result"
    }
   ],
   "source": [
    "df9.describe()"
   ]
  },
  {
   "cell_type": "code",
   "execution_count": 107,
   "id": "a2c0e0d6",
   "metadata": {},
   "outputs": [
    {
     "name": "stdout",
     "output_type": "stream",
     "text": [
      "<class 'pandas.core.frame.DataFrame'>\n",
      "RangeIndex: 82835 entries, 0 to 82834\n",
      "Data columns (total 3 columns):\n",
      " #   Column  Non-Null Count  Dtype \n",
      "---  ------  --------------  ----- \n",
      " 0   MID     82835 non-null  object\n",
      " 1   PID     82835 non-null  object\n",
      " 2   ID      82835 non-null  int64 \n",
      "dtypes: int64(1), object(2)\n",
      "memory usage: 1.9+ MB\n"
     ]
    }
   ],
   "source": [
    "df9.info()"
   ]
  },
  {
   "cell_type": "code",
   "execution_count": 108,
   "id": "8beea855",
   "metadata": {},
   "outputs": [
    {
     "data": {
      "text/plain": [
       "MID    0\n",
       "PID    0\n",
       "ID     0\n",
       "dtype: int64"
      ]
     },
     "execution_count": 108,
     "metadata": {},
     "output_type": "execute_result"
    }
   ],
   "source": [
    "df9.isna().sum()"
   ]
  },
  {
   "cell_type": "markdown",
   "id": "17746053",
   "metadata": {},
   "source": [
    "There are no null values "
   ]
  },
  {
   "cell_type": "code",
   "execution_count": 109,
   "id": "94849df7",
   "metadata": {},
   "outputs": [
    {
     "data": {
      "text/html": [
       "<div>\n",
       "<style scoped>\n",
       "    .dataframe tbody tr th:only-of-type {\n",
       "        vertical-align: middle;\n",
       "    }\n",
       "\n",
       "    .dataframe tbody tr th {\n",
       "        vertical-align: top;\n",
       "    }\n",
       "\n",
       "    .dataframe thead th {\n",
       "        text-align: right;\n",
       "    }\n",
       "</style>\n",
       "<table border=\"1\" class=\"dataframe\">\n",
       "  <thead>\n",
       "    <tr style=\"text-align: right;\">\n",
       "      <th></th>\n",
       "      <th>MID</th>\n",
       "      <th>PID</th>\n",
       "      <th>ID</th>\n",
       "    </tr>\n",
       "  </thead>\n",
       "  <tbody>\n",
       "    <tr>\n",
       "      <th>0</th>\n",
       "      <td>tt2388771</td>\n",
       "      <td>nm0000288</td>\n",
       "      <td>0</td>\n",
       "    </tr>\n",
       "    <tr>\n",
       "      <th>1</th>\n",
       "      <td>tt2388771</td>\n",
       "      <td>nm0000949</td>\n",
       "      <td>1</td>\n",
       "    </tr>\n",
       "    <tr>\n",
       "      <th>2</th>\n",
       "      <td>tt2388771</td>\n",
       "      <td>nm1212722</td>\n",
       "      <td>2</td>\n",
       "    </tr>\n",
       "    <tr>\n",
       "      <th>3</th>\n",
       "      <td>tt2388771</td>\n",
       "      <td>nm0365140</td>\n",
       "      <td>3</td>\n",
       "    </tr>\n",
       "    <tr>\n",
       "      <th>4</th>\n",
       "      <td>tt2388771</td>\n",
       "      <td>nm0785227</td>\n",
       "      <td>4</td>\n",
       "    </tr>\n",
       "    <tr>\n",
       "      <th>...</th>\n",
       "      <td>...</td>\n",
       "      <td>...</td>\n",
       "      <td>...</td>\n",
       "    </tr>\n",
       "    <tr>\n",
       "      <th>82830</th>\n",
       "      <td>tt0375890</td>\n",
       "      <td>nm0664109</td>\n",
       "      <td>82832</td>\n",
       "    </tr>\n",
       "    <tr>\n",
       "      <th>82831</th>\n",
       "      <td>tt0375890</td>\n",
       "      <td>nm0505323</td>\n",
       "      <td>82833</td>\n",
       "    </tr>\n",
       "    <tr>\n",
       "      <th>82832</th>\n",
       "      <td>tt0375890</td>\n",
       "      <td>nm0019427</td>\n",
       "      <td>82834</td>\n",
       "    </tr>\n",
       "    <tr>\n",
       "      <th>82833</th>\n",
       "      <td>tt0375890</td>\n",
       "      <td>nm0197582</td>\n",
       "      <td>82835</td>\n",
       "    </tr>\n",
       "    <tr>\n",
       "      <th>82834</th>\n",
       "      <td>tt0375890</td>\n",
       "      <td>nm0438467</td>\n",
       "      <td>82836</td>\n",
       "    </tr>\n",
       "  </tbody>\n",
       "</table>\n",
       "<p>82835 rows × 3 columns</p>\n",
       "</div>"
      ],
      "text/plain": [
       "             MID         PID     ID\n",
       "0      tt2388771   nm0000288      0\n",
       "1      tt2388771   nm0000949      1\n",
       "2      tt2388771   nm1212722      2\n",
       "3      tt2388771   nm0365140      3\n",
       "4      tt2388771   nm0785227      4\n",
       "...          ...         ...    ...\n",
       "82830  tt0375890   nm0664109  82832\n",
       "82831  tt0375890   nm0505323  82833\n",
       "82832  tt0375890   nm0019427  82834\n",
       "82833  tt0375890   nm0197582  82835\n",
       "82834  tt0375890   nm0438467  82836\n",
       "\n",
       "[82835 rows x 3 columns]"
      ]
     },
     "execution_count": 109,
     "metadata": {},
     "output_type": "execute_result"
    }
   ],
   "source": [
    "df9.drop_duplicates()"
   ]
  },
  {
   "cell_type": "markdown",
   "id": "8334394a",
   "metadata": {},
   "source": [
    "There are no duplicate values"
   ]
  },
  {
   "cell_type": "code",
   "execution_count": 110,
   "id": "abef144f",
   "metadata": {},
   "outputs": [
    {
     "data": {
      "text/plain": [
       "MID     3473\n",
       "PID    32127\n",
       "ID     82835\n",
       "dtype: int64"
      ]
     },
     "execution_count": 110,
     "metadata": {},
     "output_type": "execute_result"
    }
   ],
   "source": [
    "df9.nunique()"
   ]
  },
  {
   "cell_type": "code",
   "execution_count": null,
   "id": "6f340ea0",
   "metadata": {},
   "outputs": [],
   "source": []
  },
  {
   "cell_type": "markdown",
   "id": "6d2dec8d",
   "metadata": {},
   "source": [
    "M_GENRE TABLE"
   ]
  },
  {
   "cell_type": "code",
   "execution_count": 111,
   "id": "6317b1da",
   "metadata": {},
   "outputs": [
    {
     "data": {
      "text/html": [
       "<div>\n",
       "<style scoped>\n",
       "    .dataframe tbody tr th:only-of-type {\n",
       "        vertical-align: middle;\n",
       "    }\n",
       "\n",
       "    .dataframe tbody tr th {\n",
       "        vertical-align: top;\n",
       "    }\n",
       "\n",
       "    .dataframe thead th {\n",
       "        text-align: right;\n",
       "    }\n",
       "</style>\n",
       "<table border=\"1\" class=\"dataframe\">\n",
       "  <thead>\n",
       "    <tr style=\"text-align: right;\">\n",
       "      <th></th>\n",
       "      <th>index</th>\n",
       "      <th>MID</th>\n",
       "      <th>GID</th>\n",
       "      <th>ID</th>\n",
       "    </tr>\n",
       "  </thead>\n",
       "  <tbody>\n",
       "    <tr>\n",
       "      <th>0</th>\n",
       "      <td>0</td>\n",
       "      <td>tt2388771</td>\n",
       "      <td>0</td>\n",
       "      <td>0</td>\n",
       "    </tr>\n",
       "    <tr>\n",
       "      <th>1</th>\n",
       "      <td>1</td>\n",
       "      <td>tt5164214</td>\n",
       "      <td>1</td>\n",
       "      <td>1</td>\n",
       "    </tr>\n",
       "    <tr>\n",
       "      <th>2</th>\n",
       "      <td>2</td>\n",
       "      <td>tt1365519</td>\n",
       "      <td>2</td>\n",
       "      <td>2</td>\n",
       "    </tr>\n",
       "    <tr>\n",
       "      <th>3</th>\n",
       "      <td>3</td>\n",
       "      <td>tt0848228</td>\n",
       "      <td>3</td>\n",
       "      <td>3</td>\n",
       "    </tr>\n",
       "    <tr>\n",
       "      <th>4</th>\n",
       "      <td>4</td>\n",
       "      <td>tt8239946</td>\n",
       "      <td>4</td>\n",
       "      <td>4</td>\n",
       "    </tr>\n",
       "  </tbody>\n",
       "</table>\n",
       "</div>"
      ],
      "text/plain": [
       "   index        MID  GID  ID\n",
       "0      0  tt2388771    0   0\n",
       "1      1  tt5164214    1   1\n",
       "2      2  tt1365519    2   2\n",
       "3      3  tt0848228    3   3\n",
       "4      4  tt8239946    4   4"
      ]
     },
     "execution_count": 111,
     "metadata": {},
     "output_type": "execute_result"
    }
   ],
   "source": [
    "df10 = pd.read_sql_query('select * from M_Genre',cnx)\n",
    "df10.head()"
   ]
  },
  {
   "cell_type": "code",
   "execution_count": 112,
   "id": "d7661b50",
   "metadata": {},
   "outputs": [],
   "source": [
    "df10.drop(['index'],axis=1,inplace=True)"
   ]
  },
  {
   "cell_type": "code",
   "execution_count": 113,
   "id": "eb25edb2",
   "metadata": {},
   "outputs": [
    {
     "name": "stdout",
     "output_type": "stream",
     "text": [
      "The shape of the M_Genre table :  (3473, 3)\n",
      "The columns of the M_Genre table :  Index(['MID', 'GID', 'ID'], dtype='object')\n",
      "The size of the M_Genre table :  10419\n"
     ]
    }
   ],
   "source": [
    "#Basic analysis is done on the table .\n",
    "\n",
    "print('The shape of the M_Genre table : ',df10.shape)\n",
    "print('The columns of the M_Genre table : ',df10.columns)\n",
    "print('The size of the M_Genre table : ',df10.size)"
   ]
  },
  {
   "cell_type": "code",
   "execution_count": 114,
   "id": "cc4f06ab",
   "metadata": {},
   "outputs": [
    {
     "data": {
      "text/html": [
       "<div>\n",
       "<style scoped>\n",
       "    .dataframe tbody tr th:only-of-type {\n",
       "        vertical-align: middle;\n",
       "    }\n",
       "\n",
       "    .dataframe tbody tr th {\n",
       "        vertical-align: top;\n",
       "    }\n",
       "\n",
       "    .dataframe thead th {\n",
       "        text-align: right;\n",
       "    }\n",
       "</style>\n",
       "<table border=\"1\" class=\"dataframe\">\n",
       "  <thead>\n",
       "    <tr style=\"text-align: right;\">\n",
       "      <th></th>\n",
       "      <th>GID</th>\n",
       "      <th>ID</th>\n",
       "    </tr>\n",
       "  </thead>\n",
       "  <tbody>\n",
       "    <tr>\n",
       "      <th>count</th>\n",
       "      <td>3473.000000</td>\n",
       "      <td>3473.000000</td>\n",
       "    </tr>\n",
       "    <tr>\n",
       "      <th>mean</th>\n",
       "      <td>62.634322</td>\n",
       "      <td>1736.105096</td>\n",
       "    </tr>\n",
       "    <tr>\n",
       "      <th>std</th>\n",
       "      <td>65.283050</td>\n",
       "      <td>1002.877540</td>\n",
       "    </tr>\n",
       "    <tr>\n",
       "      <th>min</th>\n",
       "      <td>0.000000</td>\n",
       "      <td>0.000000</td>\n",
       "    </tr>\n",
       "    <tr>\n",
       "      <th>25%</th>\n",
       "      <td>19.000000</td>\n",
       "      <td>868.000000</td>\n",
       "    </tr>\n",
       "    <tr>\n",
       "      <th>50%</th>\n",
       "      <td>46.000000</td>\n",
       "      <td>1736.000000</td>\n",
       "    </tr>\n",
       "    <tr>\n",
       "      <th>75%</th>\n",
       "      <td>76.000000</td>\n",
       "      <td>2604.000000</td>\n",
       "    </tr>\n",
       "    <tr>\n",
       "      <th>max</th>\n",
       "      <td>327.000000</td>\n",
       "      <td>3474.000000</td>\n",
       "    </tr>\n",
       "  </tbody>\n",
       "</table>\n",
       "</div>"
      ],
      "text/plain": [
       "               GID           ID\n",
       "count  3473.000000  3473.000000\n",
       "mean     62.634322  1736.105096\n",
       "std      65.283050  1002.877540\n",
       "min       0.000000     0.000000\n",
       "25%      19.000000   868.000000\n",
       "50%      46.000000  1736.000000\n",
       "75%      76.000000  2604.000000\n",
       "max     327.000000  3474.000000"
      ]
     },
     "execution_count": 114,
     "metadata": {},
     "output_type": "execute_result"
    }
   ],
   "source": [
    "df10.describe()"
   ]
  },
  {
   "cell_type": "code",
   "execution_count": 115,
   "id": "e84b9ee4",
   "metadata": {},
   "outputs": [
    {
     "name": "stdout",
     "output_type": "stream",
     "text": [
      "<class 'pandas.core.frame.DataFrame'>\n",
      "RangeIndex: 3473 entries, 0 to 3472\n",
      "Data columns (total 3 columns):\n",
      " #   Column  Non-Null Count  Dtype \n",
      "---  ------  --------------  ----- \n",
      " 0   MID     3473 non-null   object\n",
      " 1   GID     3473 non-null   int64 \n",
      " 2   ID      3473 non-null   int64 \n",
      "dtypes: int64(2), object(1)\n",
      "memory usage: 81.5+ KB\n"
     ]
    }
   ],
   "source": [
    "df10.info()"
   ]
  },
  {
   "cell_type": "code",
   "execution_count": 116,
   "id": "9e843f63",
   "metadata": {},
   "outputs": [
    {
     "data": {
      "text/plain": [
       "MID    3473\n",
       "GID     327\n",
       "ID     3473\n",
       "dtype: int64"
      ]
     },
     "execution_count": 116,
     "metadata": {},
     "output_type": "execute_result"
    }
   ],
   "source": [
    "df10.nunique()"
   ]
  },
  {
   "cell_type": "code",
   "execution_count": 117,
   "id": "bdad91cf",
   "metadata": {},
   "outputs": [
    {
     "data": {
      "text/plain": [
       "MID    0\n",
       "GID    0\n",
       "ID     0\n",
       "dtype: int64"
      ]
     },
     "execution_count": 117,
     "metadata": {},
     "output_type": "execute_result"
    }
   ],
   "source": [
    "df10.isna().sum()"
   ]
  },
  {
   "cell_type": "markdown",
   "id": "9e200047",
   "metadata": {},
   "source": [
    "There are no null values"
   ]
  },
  {
   "cell_type": "code",
   "execution_count": 118,
   "id": "a978cd79",
   "metadata": {},
   "outputs": [
    {
     "data": {
      "text/html": [
       "<div>\n",
       "<style scoped>\n",
       "    .dataframe tbody tr th:only-of-type {\n",
       "        vertical-align: middle;\n",
       "    }\n",
       "\n",
       "    .dataframe tbody tr th {\n",
       "        vertical-align: top;\n",
       "    }\n",
       "\n",
       "    .dataframe thead th {\n",
       "        text-align: right;\n",
       "    }\n",
       "</style>\n",
       "<table border=\"1\" class=\"dataframe\">\n",
       "  <thead>\n",
       "    <tr style=\"text-align: right;\">\n",
       "      <th></th>\n",
       "      <th>MID</th>\n",
       "      <th>GID</th>\n",
       "      <th>ID</th>\n",
       "    </tr>\n",
       "  </thead>\n",
       "  <tbody>\n",
       "    <tr>\n",
       "      <th>0</th>\n",
       "      <td>tt2388771</td>\n",
       "      <td>0</td>\n",
       "      <td>0</td>\n",
       "    </tr>\n",
       "    <tr>\n",
       "      <th>1</th>\n",
       "      <td>tt5164214</td>\n",
       "      <td>1</td>\n",
       "      <td>1</td>\n",
       "    </tr>\n",
       "    <tr>\n",
       "      <th>2</th>\n",
       "      <td>tt1365519</td>\n",
       "      <td>2</td>\n",
       "      <td>2</td>\n",
       "    </tr>\n",
       "    <tr>\n",
       "      <th>3</th>\n",
       "      <td>tt0848228</td>\n",
       "      <td>3</td>\n",
       "      <td>3</td>\n",
       "    </tr>\n",
       "    <tr>\n",
       "      <th>4</th>\n",
       "      <td>tt8239946</td>\n",
       "      <td>4</td>\n",
       "      <td>4</td>\n",
       "    </tr>\n",
       "    <tr>\n",
       "      <th>...</th>\n",
       "      <td>...</td>\n",
       "      <td>...</td>\n",
       "      <td>...</td>\n",
       "    </tr>\n",
       "    <tr>\n",
       "      <th>3468</th>\n",
       "      <td>tt0090611</td>\n",
       "      <td>46</td>\n",
       "      <td>3470</td>\n",
       "    </tr>\n",
       "    <tr>\n",
       "      <th>3469</th>\n",
       "      <td>tt0106270</td>\n",
       "      <td>20</td>\n",
       "      <td>3471</td>\n",
       "    </tr>\n",
       "    <tr>\n",
       "      <th>3470</th>\n",
       "      <td>tt0852989</td>\n",
       "      <td>19</td>\n",
       "      <td>3472</td>\n",
       "    </tr>\n",
       "    <tr>\n",
       "      <th>3471</th>\n",
       "      <td>tt0375882</td>\n",
       "      <td>309</td>\n",
       "      <td>3473</td>\n",
       "    </tr>\n",
       "    <tr>\n",
       "      <th>3472</th>\n",
       "      <td>tt0375890</td>\n",
       "      <td>46</td>\n",
       "      <td>3474</td>\n",
       "    </tr>\n",
       "  </tbody>\n",
       "</table>\n",
       "<p>3473 rows × 3 columns</p>\n",
       "</div>"
      ],
      "text/plain": [
       "            MID  GID    ID\n",
       "0     tt2388771    0     0\n",
       "1     tt5164214    1     1\n",
       "2     tt1365519    2     2\n",
       "3     tt0848228    3     3\n",
       "4     tt8239946    4     4\n",
       "...         ...  ...   ...\n",
       "3468  tt0090611   46  3470\n",
       "3469  tt0106270   20  3471\n",
       "3470  tt0852989   19  3472\n",
       "3471  tt0375882  309  3473\n",
       "3472  tt0375890   46  3474\n",
       "\n",
       "[3473 rows x 3 columns]"
      ]
     },
     "execution_count": 118,
     "metadata": {},
     "output_type": "execute_result"
    }
   ],
   "source": [
    "df10.drop_duplicates()"
   ]
  },
  {
   "cell_type": "markdown",
   "id": "f660ce42",
   "metadata": {},
   "source": [
    "There are no duplicate values"
   ]
  },
  {
   "cell_type": "code",
   "execution_count": null,
   "id": "fcbf2af9",
   "metadata": {},
   "outputs": [],
   "source": []
  },
  {
   "cell_type": "markdown",
   "id": "9b5d42de",
   "metadata": {},
   "source": [
    "M_LANGUAGE TABLE"
   ]
  },
  {
   "cell_type": "code",
   "execution_count": 119,
   "id": "6489f68b",
   "metadata": {},
   "outputs": [
    {
     "data": {
      "text/html": [
       "<div>\n",
       "<style scoped>\n",
       "    .dataframe tbody tr th:only-of-type {\n",
       "        vertical-align: middle;\n",
       "    }\n",
       "\n",
       "    .dataframe tbody tr th {\n",
       "        vertical-align: top;\n",
       "    }\n",
       "\n",
       "    .dataframe thead th {\n",
       "        text-align: right;\n",
       "    }\n",
       "</style>\n",
       "<table border=\"1\" class=\"dataframe\">\n",
       "  <thead>\n",
       "    <tr style=\"text-align: right;\">\n",
       "      <th></th>\n",
       "      <th>index</th>\n",
       "      <th>MID</th>\n",
       "      <th>LAID</th>\n",
       "      <th>ID</th>\n",
       "    </tr>\n",
       "  </thead>\n",
       "  <tbody>\n",
       "    <tr>\n",
       "      <th>0</th>\n",
       "      <td>0</td>\n",
       "      <td>tt2388771</td>\n",
       "      <td>0</td>\n",
       "      <td>0</td>\n",
       "    </tr>\n",
       "    <tr>\n",
       "      <th>1</th>\n",
       "      <td>1</td>\n",
       "      <td>tt5164214</td>\n",
       "      <td>0</td>\n",
       "      <td>1</td>\n",
       "    </tr>\n",
       "    <tr>\n",
       "      <th>2</th>\n",
       "      <td>2</td>\n",
       "      <td>tt1365519</td>\n",
       "      <td>0</td>\n",
       "      <td>2</td>\n",
       "    </tr>\n",
       "    <tr>\n",
       "      <th>3</th>\n",
       "      <td>3</td>\n",
       "      <td>tt0848228</td>\n",
       "      <td>0</td>\n",
       "      <td>3</td>\n",
       "    </tr>\n",
       "    <tr>\n",
       "      <th>4</th>\n",
       "      <td>4</td>\n",
       "      <td>tt8239946</td>\n",
       "      <td>1</td>\n",
       "      <td>4</td>\n",
       "    </tr>\n",
       "  </tbody>\n",
       "</table>\n",
       "</div>"
      ],
      "text/plain": [
       "   index        MID  LAID  ID\n",
       "0      0  tt2388771     0   0\n",
       "1      1  tt5164214     0   1\n",
       "2      2  tt1365519     0   2\n",
       "3      3  tt0848228     0   3\n",
       "4      4  tt8239946     1   4"
      ]
     },
     "execution_count": 119,
     "metadata": {},
     "output_type": "execute_result"
    }
   ],
   "source": [
    "df11 = pd.read_sql_query('select * from M_Language',cnx)\n",
    "df11.head()"
   ]
  },
  {
   "cell_type": "code",
   "execution_count": 120,
   "id": "97bcaeec",
   "metadata": {},
   "outputs": [],
   "source": [
    "df11.drop(['index'],axis=1,inplace=True)"
   ]
  },
  {
   "cell_type": "code",
   "execution_count": 121,
   "id": "ab3ecaf6",
   "metadata": {},
   "outputs": [
    {
     "name": "stdout",
     "output_type": "stream",
     "text": [
      "The shape of the M_Language table :  (3473, 3)\n",
      "The columns of the M_Language table :  Index(['MID', 'LAID', 'ID'], dtype='object')\n",
      "The size of the M_Language table :  10419\n"
     ]
    }
   ],
   "source": [
    "#Basic analysis is done on the table .\n",
    "\n",
    "print('The shape of the M_Language table : ',df11.shape)\n",
    "print('The columns of the M_Language table : ',df11.columns)\n",
    "print('The size of the M_Language table : ',df11.size)"
   ]
  },
  {
   "cell_type": "code",
   "execution_count": 122,
   "id": "ee5afeab",
   "metadata": {},
   "outputs": [
    {
     "data": {
      "text/html": [
       "<div>\n",
       "<style scoped>\n",
       "    .dataframe tbody tr th:only-of-type {\n",
       "        vertical-align: middle;\n",
       "    }\n",
       "\n",
       "    .dataframe tbody tr th {\n",
       "        vertical-align: top;\n",
       "    }\n",
       "\n",
       "    .dataframe thead th {\n",
       "        text-align: right;\n",
       "    }\n",
       "</style>\n",
       "<table border=\"1\" class=\"dataframe\">\n",
       "  <thead>\n",
       "    <tr style=\"text-align: right;\">\n",
       "      <th></th>\n",
       "      <th>LAID</th>\n",
       "      <th>ID</th>\n",
       "    </tr>\n",
       "  </thead>\n",
       "  <tbody>\n",
       "    <tr>\n",
       "      <th>count</th>\n",
       "      <td>3473.000000</td>\n",
       "      <td>3473.000000</td>\n",
       "    </tr>\n",
       "    <tr>\n",
       "      <th>mean</th>\n",
       "      <td>2.552836</td>\n",
       "      <td>1736.105096</td>\n",
       "    </tr>\n",
       "    <tr>\n",
       "      <th>std</th>\n",
       "      <td>2.811091</td>\n",
       "      <td>1002.877540</td>\n",
       "    </tr>\n",
       "    <tr>\n",
       "      <th>min</th>\n",
       "      <td>0.000000</td>\n",
       "      <td>0.000000</td>\n",
       "    </tr>\n",
       "    <tr>\n",
       "      <th>25%</th>\n",
       "      <td>2.000000</td>\n",
       "      <td>868.000000</td>\n",
       "    </tr>\n",
       "    <tr>\n",
       "      <th>50%</th>\n",
       "      <td>2.000000</td>\n",
       "      <td>1736.000000</td>\n",
       "    </tr>\n",
       "    <tr>\n",
       "      <th>75%</th>\n",
       "      <td>2.000000</td>\n",
       "      <td>2604.000000</td>\n",
       "    </tr>\n",
       "    <tr>\n",
       "      <th>max</th>\n",
       "      <td>31.000000</td>\n",
       "      <td>3474.000000</td>\n",
       "    </tr>\n",
       "  </tbody>\n",
       "</table>\n",
       "</div>"
      ],
      "text/plain": [
       "              LAID           ID\n",
       "count  3473.000000  3473.000000\n",
       "mean      2.552836  1736.105096\n",
       "std       2.811091  1002.877540\n",
       "min       0.000000     0.000000\n",
       "25%       2.000000   868.000000\n",
       "50%       2.000000  1736.000000\n",
       "75%       2.000000  2604.000000\n",
       "max      31.000000  3474.000000"
      ]
     },
     "execution_count": 122,
     "metadata": {},
     "output_type": "execute_result"
    }
   ],
   "source": [
    "df11.describe()"
   ]
  },
  {
   "cell_type": "code",
   "execution_count": 123,
   "id": "7f3bd61c",
   "metadata": {},
   "outputs": [
    {
     "data": {
      "text/plain": [
       "MID     3473\n",
       "LAID      32\n",
       "ID      3473\n",
       "dtype: int64"
      ]
     },
     "execution_count": 123,
     "metadata": {},
     "output_type": "execute_result"
    }
   ],
   "source": [
    "df11.nunique()"
   ]
  },
  {
   "cell_type": "code",
   "execution_count": 124,
   "id": "dcca7bb4",
   "metadata": {},
   "outputs": [
    {
     "name": "stdout",
     "output_type": "stream",
     "text": [
      "<class 'pandas.core.frame.DataFrame'>\n",
      "RangeIndex: 3473 entries, 0 to 3472\n",
      "Data columns (total 3 columns):\n",
      " #   Column  Non-Null Count  Dtype \n",
      "---  ------  --------------  ----- \n",
      " 0   MID     3473 non-null   object\n",
      " 1   LAID    3473 non-null   int64 \n",
      " 2   ID      3473 non-null   int64 \n",
      "dtypes: int64(2), object(1)\n",
      "memory usage: 81.5+ KB\n"
     ]
    }
   ],
   "source": [
    "df11.info()"
   ]
  },
  {
   "cell_type": "code",
   "execution_count": 125,
   "id": "372d1256",
   "metadata": {},
   "outputs": [
    {
     "data": {
      "text/plain": [
       "MID     0\n",
       "LAID    0\n",
       "ID      0\n",
       "dtype: int64"
      ]
     },
     "execution_count": 125,
     "metadata": {},
     "output_type": "execute_result"
    }
   ],
   "source": [
    "df11.isna().sum()"
   ]
  },
  {
   "cell_type": "markdown",
   "id": "5466cd25",
   "metadata": {},
   "source": [
    "There are no null values"
   ]
  },
  {
   "cell_type": "code",
   "execution_count": 126,
   "id": "3e500dfa",
   "metadata": {},
   "outputs": [
    {
     "data": {
      "text/html": [
       "<div>\n",
       "<style scoped>\n",
       "    .dataframe tbody tr th:only-of-type {\n",
       "        vertical-align: middle;\n",
       "    }\n",
       "\n",
       "    .dataframe tbody tr th {\n",
       "        vertical-align: top;\n",
       "    }\n",
       "\n",
       "    .dataframe thead th {\n",
       "        text-align: right;\n",
       "    }\n",
       "</style>\n",
       "<table border=\"1\" class=\"dataframe\">\n",
       "  <thead>\n",
       "    <tr style=\"text-align: right;\">\n",
       "      <th></th>\n",
       "      <th>MID</th>\n",
       "      <th>LAID</th>\n",
       "      <th>ID</th>\n",
       "    </tr>\n",
       "  </thead>\n",
       "  <tbody>\n",
       "    <tr>\n",
       "      <th>0</th>\n",
       "      <td>tt2388771</td>\n",
       "      <td>0</td>\n",
       "      <td>0</td>\n",
       "    </tr>\n",
       "    <tr>\n",
       "      <th>1</th>\n",
       "      <td>tt5164214</td>\n",
       "      <td>0</td>\n",
       "      <td>1</td>\n",
       "    </tr>\n",
       "    <tr>\n",
       "      <th>2</th>\n",
       "      <td>tt1365519</td>\n",
       "      <td>0</td>\n",
       "      <td>2</td>\n",
       "    </tr>\n",
       "    <tr>\n",
       "      <th>3</th>\n",
       "      <td>tt0848228</td>\n",
       "      <td>0</td>\n",
       "      <td>3</td>\n",
       "    </tr>\n",
       "    <tr>\n",
       "      <th>4</th>\n",
       "      <td>tt8239946</td>\n",
       "      <td>1</td>\n",
       "      <td>4</td>\n",
       "    </tr>\n",
       "    <tr>\n",
       "      <th>...</th>\n",
       "      <td>...</td>\n",
       "      <td>...</td>\n",
       "      <td>...</td>\n",
       "    </tr>\n",
       "    <tr>\n",
       "      <th>3468</th>\n",
       "      <td>tt0090611</td>\n",
       "      <td>2</td>\n",
       "      <td>3470</td>\n",
       "    </tr>\n",
       "    <tr>\n",
       "      <th>3469</th>\n",
       "      <td>tt0106270</td>\n",
       "      <td>2</td>\n",
       "      <td>3471</td>\n",
       "    </tr>\n",
       "    <tr>\n",
       "      <th>3470</th>\n",
       "      <td>tt0852989</td>\n",
       "      <td>2</td>\n",
       "      <td>3472</td>\n",
       "    </tr>\n",
       "    <tr>\n",
       "      <th>3471</th>\n",
       "      <td>tt0375882</td>\n",
       "      <td>2</td>\n",
       "      <td>3473</td>\n",
       "    </tr>\n",
       "    <tr>\n",
       "      <th>3472</th>\n",
       "      <td>tt0375890</td>\n",
       "      <td>2</td>\n",
       "      <td>3474</td>\n",
       "    </tr>\n",
       "  </tbody>\n",
       "</table>\n",
       "<p>3473 rows × 3 columns</p>\n",
       "</div>"
      ],
      "text/plain": [
       "            MID  LAID    ID\n",
       "0     tt2388771     0     0\n",
       "1     tt5164214     0     1\n",
       "2     tt1365519     0     2\n",
       "3     tt0848228     0     3\n",
       "4     tt8239946     1     4\n",
       "...         ...   ...   ...\n",
       "3468  tt0090611     2  3470\n",
       "3469  tt0106270     2  3471\n",
       "3470  tt0852989     2  3472\n",
       "3471  tt0375882     2  3473\n",
       "3472  tt0375890     2  3474\n",
       "\n",
       "[3473 rows x 3 columns]"
      ]
     },
     "execution_count": 126,
     "metadata": {},
     "output_type": "execute_result"
    }
   ],
   "source": [
    "df11.drop_duplicates()"
   ]
  },
  {
   "cell_type": "markdown",
   "id": "aae14c05",
   "metadata": {},
   "source": [
    "There are no duplicate values"
   ]
  },
  {
   "cell_type": "code",
   "execution_count": null,
   "id": "71bb883b",
   "metadata": {},
   "outputs": [],
   "source": []
  },
  {
   "cell_type": "markdown",
   "id": "8df3759f",
   "metadata": {},
   "source": [
    "M_COUNTRY TABLE"
   ]
  },
  {
   "cell_type": "code",
   "execution_count": 127,
   "id": "f4be2878",
   "metadata": {},
   "outputs": [
    {
     "data": {
      "text/html": [
       "<div>\n",
       "<style scoped>\n",
       "    .dataframe tbody tr th:only-of-type {\n",
       "        vertical-align: middle;\n",
       "    }\n",
       "\n",
       "    .dataframe tbody tr th {\n",
       "        vertical-align: top;\n",
       "    }\n",
       "\n",
       "    .dataframe thead th {\n",
       "        text-align: right;\n",
       "    }\n",
       "</style>\n",
       "<table border=\"1\" class=\"dataframe\">\n",
       "  <thead>\n",
       "    <tr style=\"text-align: right;\">\n",
       "      <th></th>\n",
       "      <th>index</th>\n",
       "      <th>MID</th>\n",
       "      <th>CID</th>\n",
       "      <th>ID</th>\n",
       "    </tr>\n",
       "  </thead>\n",
       "  <tbody>\n",
       "    <tr>\n",
       "      <th>0</th>\n",
       "      <td>0</td>\n",
       "      <td>tt2388771</td>\n",
       "      <td>0.0</td>\n",
       "      <td>0</td>\n",
       "    </tr>\n",
       "    <tr>\n",
       "      <th>1</th>\n",
       "      <td>1</td>\n",
       "      <td>tt5164214</td>\n",
       "      <td>1.0</td>\n",
       "      <td>1</td>\n",
       "    </tr>\n",
       "    <tr>\n",
       "      <th>2</th>\n",
       "      <td>2</td>\n",
       "      <td>tt1365519</td>\n",
       "      <td>0.0</td>\n",
       "      <td>2</td>\n",
       "    </tr>\n",
       "    <tr>\n",
       "      <th>3</th>\n",
       "      <td>3</td>\n",
       "      <td>tt0848228</td>\n",
       "      <td>1.0</td>\n",
       "      <td>3</td>\n",
       "    </tr>\n",
       "    <tr>\n",
       "      <th>4</th>\n",
       "      <td>4</td>\n",
       "      <td>tt8239946</td>\n",
       "      <td>2.0</td>\n",
       "      <td>4</td>\n",
       "    </tr>\n",
       "  </tbody>\n",
       "</table>\n",
       "</div>"
      ],
      "text/plain": [
       "   index        MID  CID  ID\n",
       "0      0  tt2388771  0.0   0\n",
       "1      1  tt5164214  1.0   1\n",
       "2      2  tt1365519  0.0   2\n",
       "3      3  tt0848228  1.0   3\n",
       "4      4  tt8239946  2.0   4"
      ]
     },
     "execution_count": 127,
     "metadata": {},
     "output_type": "execute_result"
    }
   ],
   "source": [
    "df12 = pd.read_sql_query('select * from M_Country',cnx)\n",
    "df12.head()"
   ]
  },
  {
   "cell_type": "code",
   "execution_count": 128,
   "id": "9d79b0c2",
   "metadata": {},
   "outputs": [],
   "source": [
    "df12.drop(['index'],axis=1,inplace=True)"
   ]
  },
  {
   "cell_type": "code",
   "execution_count": 129,
   "id": "191c04fc",
   "metadata": {},
   "outputs": [
    {
     "name": "stdout",
     "output_type": "stream",
     "text": [
      "The shape of the M_Country table :  (3473, 3)\n",
      "The columns of the M_Country table :  Index(['MID', 'CID', 'ID'], dtype='object')\n",
      "The size of the M_Country table :  10419\n"
     ]
    }
   ],
   "source": [
    "#Basic analysis is done on the table .\n",
    "\n",
    "print('The shape of the M_Country table : ',df12.shape)\n",
    "print('The columns of the M_Country table : ',df12.columns)\n",
    "print('The size of the M_Country table : ',df12.size)"
   ]
  },
  {
   "cell_type": "code",
   "execution_count": 130,
   "id": "a07fdc8f",
   "metadata": {},
   "outputs": [
    {
     "data": {
      "text/html": [
       "<div>\n",
       "<style scoped>\n",
       "    .dataframe tbody tr th:only-of-type {\n",
       "        vertical-align: middle;\n",
       "    }\n",
       "\n",
       "    .dataframe tbody tr th {\n",
       "        vertical-align: top;\n",
       "    }\n",
       "\n",
       "    .dataframe thead th {\n",
       "        text-align: right;\n",
       "    }\n",
       "</style>\n",
       "<table border=\"1\" class=\"dataframe\">\n",
       "  <thead>\n",
       "    <tr style=\"text-align: right;\">\n",
       "      <th></th>\n",
       "      <th>CID</th>\n",
       "      <th>ID</th>\n",
       "    </tr>\n",
       "  </thead>\n",
       "  <tbody>\n",
       "    <tr>\n",
       "      <th>count</th>\n",
       "      <td>3468.000000</td>\n",
       "      <td>3473.000000</td>\n",
       "    </tr>\n",
       "    <tr>\n",
       "      <th>mean</th>\n",
       "      <td>2.170127</td>\n",
       "      <td>1736.105096</td>\n",
       "    </tr>\n",
       "    <tr>\n",
       "      <th>std</th>\n",
       "      <td>1.927562</td>\n",
       "      <td>1002.877540</td>\n",
       "    </tr>\n",
       "    <tr>\n",
       "      <th>min</th>\n",
       "      <td>0.000000</td>\n",
       "      <td>0.000000</td>\n",
       "    </tr>\n",
       "    <tr>\n",
       "      <th>25%</th>\n",
       "      <td>2.000000</td>\n",
       "      <td>868.000000</td>\n",
       "    </tr>\n",
       "    <tr>\n",
       "      <th>50%</th>\n",
       "      <td>2.000000</td>\n",
       "      <td>1736.000000</td>\n",
       "    </tr>\n",
       "    <tr>\n",
       "      <th>75%</th>\n",
       "      <td>2.000000</td>\n",
       "      <td>2604.000000</td>\n",
       "    </tr>\n",
       "    <tr>\n",
       "      <th>max</th>\n",
       "      <td>33.000000</td>\n",
       "      <td>3474.000000</td>\n",
       "    </tr>\n",
       "  </tbody>\n",
       "</table>\n",
       "</div>"
      ],
      "text/plain": [
       "               CID           ID\n",
       "count  3468.000000  3473.000000\n",
       "mean      2.170127  1736.105096\n",
       "std       1.927562  1002.877540\n",
       "min       0.000000     0.000000\n",
       "25%       2.000000   868.000000\n",
       "50%       2.000000  1736.000000\n",
       "75%       2.000000  2604.000000\n",
       "max      33.000000  3474.000000"
      ]
     },
     "execution_count": 130,
     "metadata": {},
     "output_type": "execute_result"
    }
   ],
   "source": [
    "df12.describe()"
   ]
  },
  {
   "cell_type": "code",
   "execution_count": 131,
   "id": "55304638",
   "metadata": {},
   "outputs": [
    {
     "name": "stdout",
     "output_type": "stream",
     "text": [
      "<class 'pandas.core.frame.DataFrame'>\n",
      "RangeIndex: 3473 entries, 0 to 3472\n",
      "Data columns (total 3 columns):\n",
      " #   Column  Non-Null Count  Dtype  \n",
      "---  ------  --------------  -----  \n",
      " 0   MID     3473 non-null   object \n",
      " 1   CID     3468 non-null   float64\n",
      " 2   ID      3473 non-null   int64  \n",
      "dtypes: float64(1), int64(1), object(1)\n",
      "memory usage: 81.5+ KB\n"
     ]
    }
   ],
   "source": [
    "df12.info()"
   ]
  },
  {
   "cell_type": "code",
   "execution_count": 132,
   "id": "2afe95f2",
   "metadata": {},
   "outputs": [
    {
     "data": {
      "text/plain": [
       "MID    3473\n",
       "CID      33\n",
       "ID     3473\n",
       "dtype: int64"
      ]
     },
     "execution_count": 132,
     "metadata": {},
     "output_type": "execute_result"
    }
   ],
   "source": [
    "df12.nunique()"
   ]
  },
  {
   "cell_type": "code",
   "execution_count": 133,
   "id": "6873d7ad",
   "metadata": {},
   "outputs": [
    {
     "data": {
      "text/plain": [
       "MID    0\n",
       "CID    5\n",
       "ID     0\n",
       "dtype: int64"
      ]
     },
     "execution_count": 133,
     "metadata": {},
     "output_type": "execute_result"
    }
   ],
   "source": [
    "df12.isna().sum()\n"
   ]
  },
  {
   "cell_type": "markdown",
   "id": "a97f80aa",
   "metadata": {},
   "source": [
    "There are 5 null values in CID column, which can be filled using mode value."
   ]
  },
  {
   "cell_type": "code",
   "execution_count": 134,
   "id": "b27b31d9",
   "metadata": {},
   "outputs": [],
   "source": [
    "df12['CID'].fillna(df12['CID'].mode()[0],inplace=True)"
   ]
  },
  {
   "cell_type": "code",
   "execution_count": 135,
   "id": "132580b4",
   "metadata": {},
   "outputs": [
    {
     "data": {
      "text/plain": [
       "MID    0\n",
       "CID    0\n",
       "ID     0\n",
       "dtype: int64"
      ]
     },
     "execution_count": 135,
     "metadata": {},
     "output_type": "execute_result"
    }
   ],
   "source": [
    "df12.isna().sum()"
   ]
  },
  {
   "cell_type": "markdown",
   "id": "62c81e15",
   "metadata": {},
   "source": [
    "There are no null values now"
   ]
  },
  {
   "cell_type": "code",
   "execution_count": 136,
   "id": "cd224b5d",
   "metadata": {},
   "outputs": [
    {
     "data": {
      "text/html": [
       "<div>\n",
       "<style scoped>\n",
       "    .dataframe tbody tr th:only-of-type {\n",
       "        vertical-align: middle;\n",
       "    }\n",
       "\n",
       "    .dataframe tbody tr th {\n",
       "        vertical-align: top;\n",
       "    }\n",
       "\n",
       "    .dataframe thead th {\n",
       "        text-align: right;\n",
       "    }\n",
       "</style>\n",
       "<table border=\"1\" class=\"dataframe\">\n",
       "  <thead>\n",
       "    <tr style=\"text-align: right;\">\n",
       "      <th></th>\n",
       "      <th>MID</th>\n",
       "      <th>CID</th>\n",
       "      <th>ID</th>\n",
       "    </tr>\n",
       "  </thead>\n",
       "  <tbody>\n",
       "    <tr>\n",
       "      <th>0</th>\n",
       "      <td>tt2388771</td>\n",
       "      <td>0.0</td>\n",
       "      <td>0</td>\n",
       "    </tr>\n",
       "    <tr>\n",
       "      <th>1</th>\n",
       "      <td>tt5164214</td>\n",
       "      <td>1.0</td>\n",
       "      <td>1</td>\n",
       "    </tr>\n",
       "    <tr>\n",
       "      <th>2</th>\n",
       "      <td>tt1365519</td>\n",
       "      <td>0.0</td>\n",
       "      <td>2</td>\n",
       "    </tr>\n",
       "    <tr>\n",
       "      <th>3</th>\n",
       "      <td>tt0848228</td>\n",
       "      <td>1.0</td>\n",
       "      <td>3</td>\n",
       "    </tr>\n",
       "    <tr>\n",
       "      <th>4</th>\n",
       "      <td>tt8239946</td>\n",
       "      <td>2.0</td>\n",
       "      <td>4</td>\n",
       "    </tr>\n",
       "    <tr>\n",
       "      <th>...</th>\n",
       "      <td>...</td>\n",
       "      <td>...</td>\n",
       "      <td>...</td>\n",
       "    </tr>\n",
       "    <tr>\n",
       "      <th>3468</th>\n",
       "      <td>tt0090611</td>\n",
       "      <td>2.0</td>\n",
       "      <td>3470</td>\n",
       "    </tr>\n",
       "    <tr>\n",
       "      <th>3469</th>\n",
       "      <td>tt0106270</td>\n",
       "      <td>2.0</td>\n",
       "      <td>3471</td>\n",
       "    </tr>\n",
       "    <tr>\n",
       "      <th>3470</th>\n",
       "      <td>tt0852989</td>\n",
       "      <td>2.0</td>\n",
       "      <td>3472</td>\n",
       "    </tr>\n",
       "    <tr>\n",
       "      <th>3471</th>\n",
       "      <td>tt0375882</td>\n",
       "      <td>2.0</td>\n",
       "      <td>3473</td>\n",
       "    </tr>\n",
       "    <tr>\n",
       "      <th>3472</th>\n",
       "      <td>tt0375890</td>\n",
       "      <td>2.0</td>\n",
       "      <td>3474</td>\n",
       "    </tr>\n",
       "  </tbody>\n",
       "</table>\n",
       "<p>3473 rows × 3 columns</p>\n",
       "</div>"
      ],
      "text/plain": [
       "            MID  CID    ID\n",
       "0     tt2388771  0.0     0\n",
       "1     tt5164214  1.0     1\n",
       "2     tt1365519  0.0     2\n",
       "3     tt0848228  1.0     3\n",
       "4     tt8239946  2.0     4\n",
       "...         ...  ...   ...\n",
       "3468  tt0090611  2.0  3470\n",
       "3469  tt0106270  2.0  3471\n",
       "3470  tt0852989  2.0  3472\n",
       "3471  tt0375882  2.0  3473\n",
       "3472  tt0375890  2.0  3474\n",
       "\n",
       "[3473 rows x 3 columns]"
      ]
     },
     "execution_count": 136,
     "metadata": {},
     "output_type": "execute_result"
    }
   ],
   "source": [
    "df12.drop_duplicates()"
   ]
  },
  {
   "cell_type": "markdown",
   "id": "f3bb52a0",
   "metadata": {},
   "source": [
    "There are no duplicate values"
   ]
  },
  {
   "cell_type": "code",
   "execution_count": null,
   "id": "c2930871",
   "metadata": {},
   "outputs": [],
   "source": []
  },
  {
   "cell_type": "markdown",
   "id": "7a588a60",
   "metadata": {},
   "source": [
    "M_LOCATION TABLE"
   ]
  },
  {
   "cell_type": "code",
   "execution_count": 137,
   "id": "c25b825d",
   "metadata": {},
   "outputs": [
    {
     "data": {
      "text/html": [
       "<div>\n",
       "<style scoped>\n",
       "    .dataframe tbody tr th:only-of-type {\n",
       "        vertical-align: middle;\n",
       "    }\n",
       "\n",
       "    .dataframe tbody tr th {\n",
       "        vertical-align: top;\n",
       "    }\n",
       "\n",
       "    .dataframe thead th {\n",
       "        text-align: right;\n",
       "    }\n",
       "</style>\n",
       "<table border=\"1\" class=\"dataframe\">\n",
       "  <thead>\n",
       "    <tr style=\"text-align: right;\">\n",
       "      <th></th>\n",
       "      <th>index</th>\n",
       "      <th>MID</th>\n",
       "      <th>LID</th>\n",
       "      <th>ID</th>\n",
       "    </tr>\n",
       "  </thead>\n",
       "  <tbody>\n",
       "    <tr>\n",
       "      <th>0</th>\n",
       "      <td>0</td>\n",
       "      <td>tt2388771</td>\n",
       "      <td>0.0</td>\n",
       "      <td>0</td>\n",
       "    </tr>\n",
       "    <tr>\n",
       "      <th>1</th>\n",
       "      <td>1</td>\n",
       "      <td>tt5164214</td>\n",
       "      <td>1.0</td>\n",
       "      <td>1</td>\n",
       "    </tr>\n",
       "    <tr>\n",
       "      <th>2</th>\n",
       "      <td>2</td>\n",
       "      <td>tt1365519</td>\n",
       "      <td>2.0</td>\n",
       "      <td>2</td>\n",
       "    </tr>\n",
       "    <tr>\n",
       "      <th>3</th>\n",
       "      <td>3</td>\n",
       "      <td>tt0848228</td>\n",
       "      <td>3.0</td>\n",
       "      <td>3</td>\n",
       "    </tr>\n",
       "    <tr>\n",
       "      <th>4</th>\n",
       "      <td>4</td>\n",
       "      <td>tt8239946</td>\n",
       "      <td>NaN</td>\n",
       "      <td>4</td>\n",
       "    </tr>\n",
       "  </tbody>\n",
       "</table>\n",
       "</div>"
      ],
      "text/plain": [
       "   index        MID  LID  ID\n",
       "0      0  tt2388771  0.0   0\n",
       "1      1  tt5164214  1.0   1\n",
       "2      2  tt1365519  2.0   2\n",
       "3      3  tt0848228  3.0   3\n",
       "4      4  tt8239946  NaN   4"
      ]
     },
     "execution_count": 137,
     "metadata": {},
     "output_type": "execute_result"
    }
   ],
   "source": [
    "df13 = pd.read_sql_query('select * from M_Location',cnx)\n",
    "df13.head()"
   ]
  },
  {
   "cell_type": "code",
   "execution_count": 138,
   "id": "0d39c379",
   "metadata": {},
   "outputs": [],
   "source": [
    "df13.drop(['index'],axis=1,inplace=True)"
   ]
  },
  {
   "cell_type": "code",
   "execution_count": 139,
   "id": "cd1038bb",
   "metadata": {},
   "outputs": [
    {
     "name": "stdout",
     "output_type": "stream",
     "text": [
      "The shape of the M_Location table :  (3473, 3)\n",
      "The columns of the M_Location table :  Index(['MID', 'LID', 'ID'], dtype='object')\n",
      "The size of the M_Location table :  10419\n"
     ]
    }
   ],
   "source": [
    "#Basic analysis is done on the table .\n",
    "\n",
    "print('The shape of the M_Location table : ',df13.shape)\n",
    "print('The columns of the M_Location table : ',df13.columns)\n",
    "print('The size of the M_Location table : ',df13.size)"
   ]
  },
  {
   "cell_type": "code",
   "execution_count": 140,
   "id": "c68cd3f4",
   "metadata": {},
   "outputs": [
    {
     "data": {
      "text/html": [
       "<div>\n",
       "<style scoped>\n",
       "    .dataframe tbody tr th:only-of-type {\n",
       "        vertical-align: middle;\n",
       "    }\n",
       "\n",
       "    .dataframe tbody tr th {\n",
       "        vertical-align: top;\n",
       "    }\n",
       "\n",
       "    .dataframe thead th {\n",
       "        text-align: right;\n",
       "    }\n",
       "</style>\n",
       "<table border=\"1\" class=\"dataframe\">\n",
       "  <thead>\n",
       "    <tr style=\"text-align: right;\">\n",
       "      <th></th>\n",
       "      <th>LID</th>\n",
       "      <th>ID</th>\n",
       "    </tr>\n",
       "  </thead>\n",
       "  <tbody>\n",
       "    <tr>\n",
       "      <th>count</th>\n",
       "      <td>1849.000000</td>\n",
       "      <td>3473.000000</td>\n",
       "    </tr>\n",
       "    <tr>\n",
       "      <th>mean</th>\n",
       "      <td>166.055706</td>\n",
       "      <td>1736.105096</td>\n",
       "    </tr>\n",
       "    <tr>\n",
       "      <th>std</th>\n",
       "      <td>150.188459</td>\n",
       "      <td>1002.877540</td>\n",
       "    </tr>\n",
       "    <tr>\n",
       "      <th>min</th>\n",
       "      <td>0.000000</td>\n",
       "      <td>0.000000</td>\n",
       "    </tr>\n",
       "    <tr>\n",
       "      <th>25%</th>\n",
       "      <td>35.000000</td>\n",
       "      <td>868.000000</td>\n",
       "    </tr>\n",
       "    <tr>\n",
       "      <th>50%</th>\n",
       "      <td>124.000000</td>\n",
       "      <td>1736.000000</td>\n",
       "    </tr>\n",
       "    <tr>\n",
       "      <th>75%</th>\n",
       "      <td>259.000000</td>\n",
       "      <td>2604.000000</td>\n",
       "    </tr>\n",
       "    <tr>\n",
       "      <th>max</th>\n",
       "      <td>558.000000</td>\n",
       "      <td>3474.000000</td>\n",
       "    </tr>\n",
       "  </tbody>\n",
       "</table>\n",
       "</div>"
      ],
      "text/plain": [
       "               LID           ID\n",
       "count  1849.000000  3473.000000\n",
       "mean    166.055706  1736.105096\n",
       "std     150.188459  1002.877540\n",
       "min       0.000000     0.000000\n",
       "25%      35.000000   868.000000\n",
       "50%     124.000000  1736.000000\n",
       "75%     259.000000  2604.000000\n",
       "max     558.000000  3474.000000"
      ]
     },
     "execution_count": 140,
     "metadata": {},
     "output_type": "execute_result"
    }
   ],
   "source": [
    "df13.describe()"
   ]
  },
  {
   "cell_type": "code",
   "execution_count": 141,
   "id": "9f101584",
   "metadata": {},
   "outputs": [
    {
     "data": {
      "text/plain": [
       "MID    3473\n",
       "LID     559\n",
       "ID     3473\n",
       "dtype: int64"
      ]
     },
     "execution_count": 141,
     "metadata": {},
     "output_type": "execute_result"
    }
   ],
   "source": [
    "df13.nunique()"
   ]
  },
  {
   "cell_type": "code",
   "execution_count": 142,
   "id": "6e293b38",
   "metadata": {},
   "outputs": [
    {
     "name": "stdout",
     "output_type": "stream",
     "text": [
      "<class 'pandas.core.frame.DataFrame'>\n",
      "RangeIndex: 3473 entries, 0 to 3472\n",
      "Data columns (total 3 columns):\n",
      " #   Column  Non-Null Count  Dtype  \n",
      "---  ------  --------------  -----  \n",
      " 0   MID     3473 non-null   object \n",
      " 1   LID     1849 non-null   float64\n",
      " 2   ID      3473 non-null   int64  \n",
      "dtypes: float64(1), int64(1), object(1)\n",
      "memory usage: 81.5+ KB\n"
     ]
    }
   ],
   "source": [
    "df13.info()"
   ]
  },
  {
   "cell_type": "code",
   "execution_count": 143,
   "id": "6a53681f",
   "metadata": {},
   "outputs": [
    {
     "data": {
      "text/plain": [
       "MID       0\n",
       "LID    1624\n",
       "ID        0\n",
       "dtype: int64"
      ]
     },
     "execution_count": 143,
     "metadata": {},
     "output_type": "execute_result"
    }
   ],
   "source": [
    "df13.isna().sum()"
   ]
  },
  {
   "cell_type": "markdown",
   "id": "b8113a23",
   "metadata": {},
   "source": [
    "There are 1624 null values in the 'LID' column, which contribute to  ore than half of the column. So it is filled with the value 'Unavailable'. "
   ]
  },
  {
   "cell_type": "code",
   "execution_count": 144,
   "id": "5f17a714",
   "metadata": {},
   "outputs": [],
   "source": [
    "df13['LID'].fillna('Unavailable',inplace=True)"
   ]
  },
  {
   "cell_type": "code",
   "execution_count": 145,
   "id": "7ee407da",
   "metadata": {
    "scrolled": true
   },
   "outputs": [
    {
     "data": {
      "text/plain": [
       "MID    0\n",
       "LID    0\n",
       "ID     0\n",
       "dtype: int64"
      ]
     },
     "execution_count": 145,
     "metadata": {},
     "output_type": "execute_result"
    }
   ],
   "source": [
    "df13.isna().sum()"
   ]
  },
  {
   "cell_type": "markdown",
   "id": "b20502fb",
   "metadata": {},
   "source": [
    "All the null values are filled"
   ]
  },
  {
   "cell_type": "code",
   "execution_count": 146,
   "id": "6c501d0d",
   "metadata": {},
   "outputs": [
    {
     "data": {
      "text/html": [
       "<div>\n",
       "<style scoped>\n",
       "    .dataframe tbody tr th:only-of-type {\n",
       "        vertical-align: middle;\n",
       "    }\n",
       "\n",
       "    .dataframe tbody tr th {\n",
       "        vertical-align: top;\n",
       "    }\n",
       "\n",
       "    .dataframe thead th {\n",
       "        text-align: right;\n",
       "    }\n",
       "</style>\n",
       "<table border=\"1\" class=\"dataframe\">\n",
       "  <thead>\n",
       "    <tr style=\"text-align: right;\">\n",
       "      <th></th>\n",
       "      <th>MID</th>\n",
       "      <th>LID</th>\n",
       "      <th>ID</th>\n",
       "    </tr>\n",
       "  </thead>\n",
       "  <tbody>\n",
       "    <tr>\n",
       "      <th>0</th>\n",
       "      <td>tt2388771</td>\n",
       "      <td>0.0</td>\n",
       "      <td>0</td>\n",
       "    </tr>\n",
       "    <tr>\n",
       "      <th>1</th>\n",
       "      <td>tt5164214</td>\n",
       "      <td>1.0</td>\n",
       "      <td>1</td>\n",
       "    </tr>\n",
       "    <tr>\n",
       "      <th>2</th>\n",
       "      <td>tt1365519</td>\n",
       "      <td>2.0</td>\n",
       "      <td>2</td>\n",
       "    </tr>\n",
       "    <tr>\n",
       "      <th>3</th>\n",
       "      <td>tt0848228</td>\n",
       "      <td>3.0</td>\n",
       "      <td>3</td>\n",
       "    </tr>\n",
       "    <tr>\n",
       "      <th>4</th>\n",
       "      <td>tt8239946</td>\n",
       "      <td>Unavailable</td>\n",
       "      <td>4</td>\n",
       "    </tr>\n",
       "    <tr>\n",
       "      <th>...</th>\n",
       "      <td>...</td>\n",
       "      <td>...</td>\n",
       "      <td>...</td>\n",
       "    </tr>\n",
       "    <tr>\n",
       "      <th>3468</th>\n",
       "      <td>tt0090611</td>\n",
       "      <td>219.0</td>\n",
       "      <td>3470</td>\n",
       "    </tr>\n",
       "    <tr>\n",
       "      <th>3469</th>\n",
       "      <td>tt0106270</td>\n",
       "      <td>Unavailable</td>\n",
       "      <td>3471</td>\n",
       "    </tr>\n",
       "    <tr>\n",
       "      <th>3470</th>\n",
       "      <td>tt0852989</td>\n",
       "      <td>164.0</td>\n",
       "      <td>3472</td>\n",
       "    </tr>\n",
       "    <tr>\n",
       "      <th>3471</th>\n",
       "      <td>tt0375882</td>\n",
       "      <td>Unavailable</td>\n",
       "      <td>3473</td>\n",
       "    </tr>\n",
       "    <tr>\n",
       "      <th>3472</th>\n",
       "      <td>tt0375890</td>\n",
       "      <td>7.0</td>\n",
       "      <td>3474</td>\n",
       "    </tr>\n",
       "  </tbody>\n",
       "</table>\n",
       "<p>3473 rows × 3 columns</p>\n",
       "</div>"
      ],
      "text/plain": [
       "            MID          LID    ID\n",
       "0     tt2388771          0.0     0\n",
       "1     tt5164214          1.0     1\n",
       "2     tt1365519          2.0     2\n",
       "3     tt0848228          3.0     3\n",
       "4     tt8239946  Unavailable     4\n",
       "...         ...          ...   ...\n",
       "3468  tt0090611        219.0  3470\n",
       "3469  tt0106270  Unavailable  3471\n",
       "3470  tt0852989        164.0  3472\n",
       "3471  tt0375882  Unavailable  3473\n",
       "3472  tt0375890          7.0  3474\n",
       "\n",
       "[3473 rows x 3 columns]"
      ]
     },
     "execution_count": 146,
     "metadata": {},
     "output_type": "execute_result"
    }
   ],
   "source": [
    "df13.drop_duplicates()"
   ]
  },
  {
   "cell_type": "markdown",
   "id": "6648553c",
   "metadata": {},
   "source": [
    "There are no duplicate values"
   ]
  },
  {
   "cell_type": "code",
   "execution_count": null,
   "id": "fddb2032",
   "metadata": {},
   "outputs": [],
   "source": []
  },
  {
   "cell_type": "code",
   "execution_count": 147,
   "id": "de7c2bf9",
   "metadata": {},
   "outputs": [
    {
     "data": {
      "text/html": [
       "<div>\n",
       "<style scoped>\n",
       "    .dataframe tbody tr th:only-of-type {\n",
       "        vertical-align: middle;\n",
       "    }\n",
       "\n",
       "    .dataframe tbody tr th {\n",
       "        vertical-align: top;\n",
       "    }\n",
       "\n",
       "    .dataframe thead th {\n",
       "        text-align: right;\n",
       "    }\n",
       "</style>\n",
       "<table border=\"1\" class=\"dataframe\">\n",
       "  <thead>\n",
       "    <tr style=\"text-align: right;\">\n",
       "      <th></th>\n",
       "      <th>title</th>\n",
       "      <th>year</th>\n",
       "      <th>rating</th>\n",
       "      <th>PID</th>\n",
       "    </tr>\n",
       "  </thead>\n",
       "  <tbody>\n",
       "    <tr>\n",
       "      <th>0</th>\n",
       "      <td>Mowgli</td>\n",
       "      <td>2018</td>\n",
       "      <td>6.6</td>\n",
       "      <td>nm0000288</td>\n",
       "    </tr>\n",
       "    <tr>\n",
       "      <th>1</th>\n",
       "      <td>Mowgli</td>\n",
       "      <td>2018</td>\n",
       "      <td>6.6</td>\n",
       "      <td>nm0000949</td>\n",
       "    </tr>\n",
       "    <tr>\n",
       "      <th>2</th>\n",
       "      <td>Mowgli</td>\n",
       "      <td>2018</td>\n",
       "      <td>6.6</td>\n",
       "      <td>nm0071007</td>\n",
       "    </tr>\n",
       "    <tr>\n",
       "      <th>3</th>\n",
       "      <td>Mowgli</td>\n",
       "      <td>2018</td>\n",
       "      <td>6.6</td>\n",
       "      <td>nm0114132</td>\n",
       "    </tr>\n",
       "    <tr>\n",
       "      <th>4</th>\n",
       "      <td>Mowgli</td>\n",
       "      <td>2018</td>\n",
       "      <td>6.6</td>\n",
       "      <td>nm0324009</td>\n",
       "    </tr>\n",
       "    <tr>\n",
       "      <th>...</th>\n",
       "      <td>...</td>\n",
       "      <td>...</td>\n",
       "      <td>...</td>\n",
       "      <td>...</td>\n",
       "    </tr>\n",
       "    <tr>\n",
       "      <th>82830</th>\n",
       "      <td>Kanoon</td>\n",
       "      <td>1994</td>\n",
       "      <td>3.2</td>\n",
       "      <td>nm0622186</td>\n",
       "    </tr>\n",
       "    <tr>\n",
       "      <th>82831</th>\n",
       "      <td>Kanoon</td>\n",
       "      <td>1994</td>\n",
       "      <td>3.2</td>\n",
       "      <td>nm0664109</td>\n",
       "    </tr>\n",
       "    <tr>\n",
       "      <th>82832</th>\n",
       "      <td>Kanoon</td>\n",
       "      <td>1994</td>\n",
       "      <td>3.2</td>\n",
       "      <td>nm0788861</td>\n",
       "    </tr>\n",
       "    <tr>\n",
       "      <th>82833</th>\n",
       "      <td>Kanoon</td>\n",
       "      <td>1994</td>\n",
       "      <td>3.2</td>\n",
       "      <td>nm1217389</td>\n",
       "    </tr>\n",
       "    <tr>\n",
       "      <th>82834</th>\n",
       "      <td>Kanoon</td>\n",
       "      <td>1994</td>\n",
       "      <td>3.2</td>\n",
       "      <td>nm4468244</td>\n",
       "    </tr>\n",
       "  </tbody>\n",
       "</table>\n",
       "<p>82835 rows × 4 columns</p>\n",
       "</div>"
      ],
      "text/plain": [
       "        title  year  rating         PID\n",
       "0      Mowgli  2018     6.6   nm0000288\n",
       "1      Mowgli  2018     6.6   nm0000949\n",
       "2      Mowgli  2018     6.6   nm0071007\n",
       "3      Mowgli  2018     6.6   nm0114132\n",
       "4      Mowgli  2018     6.6   nm0324009\n",
       "...       ...   ...     ...         ...\n",
       "82830  Kanoon  1994     3.2   nm0622186\n",
       "82831  Kanoon  1994     3.2   nm0664109\n",
       "82832  Kanoon  1994     3.2   nm0788861\n",
       "82833  Kanoon  1994     3.2   nm1217389\n",
       "82834  Kanoon  1994     3.2   nm4468244\n",
       "\n",
       "[82835 rows x 4 columns]"
      ]
     },
     "execution_count": 147,
     "metadata": {},
     "output_type": "execute_result"
    }
   ],
   "source": [
    "df14 = pd.read_sql_query('select distinct Movie.title,Movie.year,Movie.rating,M_Cast.PID from Movie join M_Cast on Movie.MID = M_Cast.MID ',cnx)\n",
    "df14"
   ]
  },
  {
   "cell_type": "code",
   "execution_count": 148,
   "id": "cd87355a",
   "metadata": {},
   "outputs": [],
   "source": [
    "df14.drop_duplicates(inplace=True)"
   ]
  },
  {
   "cell_type": "code",
   "execution_count": 149,
   "id": "61219c24",
   "metadata": {},
   "outputs": [
    {
     "data": {
      "text/plain": [
       " nm0451600    243\n",
       " nm0007106    225\n",
       " nm0000821    204\n",
       " nm0004109    200\n",
       " nm2147526    186\n",
       " nm0712546    177\n",
       " nm0434318    175\n",
       " nm0505323    174\n",
       " nm0455454    174\n",
       " nm0451864    170\n",
       " nm0700875    152\n",
       " nm0700869    152\n",
       " nm0159159    152\n",
       " nm0045119    148\n",
       " nm1566068    138\n",
       " nm0025630    137\n",
       " nm0083238    136\n",
       " nm0318622    135\n",
       " nm0768296    135\n",
       " nm0787462    130\n",
       "Name: PID, dtype: int64"
      ]
     },
     "execution_count": 149,
     "metadata": {},
     "output_type": "execute_result"
    }
   ],
   "source": [
    "df14['PID'].value_counts().head(20)"
   ]
  },
  {
   "cell_type": "code",
   "execution_count": 150,
   "id": "aa9bccda",
   "metadata": {},
   "outputs": [],
   "source": [
    "df14['year'] = df14['year'].str.split(\" \")"
   ]
  },
  {
   "cell_type": "code",
   "execution_count": 151,
   "id": "f4321f05",
   "metadata": {},
   "outputs": [],
   "source": [
    "year = df14['year'].values"
   ]
  },
  {
   "cell_type": "code",
   "execution_count": 152,
   "id": "5f7174b5",
   "metadata": {},
   "outputs": [],
   "source": [
    "y = []\n",
    "for i in year:\n",
    "    if len(i) > 1:\n",
    "        y.append(i[1])\n",
    "    else:\n",
    "        y.append(i[0])"
   ]
  },
  {
   "cell_type": "code",
   "execution_count": 153,
   "id": "30cfbb86",
   "metadata": {},
   "outputs": [],
   "source": [
    "df14['year'] = y"
   ]
  },
  {
   "cell_type": "code",
   "execution_count": 154,
   "id": "a0a86ab7",
   "metadata": {},
   "outputs": [
    {
     "data": {
      "text/plain": [
       "array(['2018', '2012', '2016', '2017', '2008', '2009', '1977', '2013',\n",
       "       '2015', '2007', '2002', '1951', '2014', '2004', '1997', '1983',\n",
       "       '1994', '2011', '1996', '2001', '2010', '2006', '1971', '1958',\n",
       "       '1984', '1987', '2005', '2003', '1995', '1998', '1975', '1939',\n",
       "       '2000', '1988', '1991', '1993', '1981', '1989', '1976', '1959',\n",
       "       '1970', '1979', '1964', '1999', '1990', '1992', '1957', '1980',\n",
       "       '1966', '1967', '1973', '1968', '1969', '1982', '1978', '1965',\n",
       "       '1972', '1956', '1974', '1960', '1985', '1986', '1949', '1955',\n",
       "       '1961', '1962', '1954', '1941', '1963', '1931', '1953', '1948',\n",
       "       '1952', '1947', '1936', '1946', '1943', '1950'], dtype=object)"
      ]
     },
     "execution_count": 154,
     "metadata": {},
     "output_type": "execute_result"
    }
   ],
   "source": [
    "df14['year'].unique()"
   ]
  },
  {
   "cell_type": "code",
   "execution_count": 155,
   "id": "3b00261a",
   "metadata": {},
   "outputs": [
    {
     "data": {
      "text/html": [
       "<div>\n",
       "<style scoped>\n",
       "    .dataframe tbody tr th:only-of-type {\n",
       "        vertical-align: middle;\n",
       "    }\n",
       "\n",
       "    .dataframe tbody tr th {\n",
       "        vertical-align: top;\n",
       "    }\n",
       "\n",
       "    .dataframe thead th {\n",
       "        text-align: right;\n",
       "    }\n",
       "</style>\n",
       "<table border=\"1\" class=\"dataframe\">\n",
       "  <thead>\n",
       "    <tr style=\"text-align: right;\">\n",
       "      <th></th>\n",
       "      <th>year</th>\n",
       "      <th>rating</th>\n",
       "      <th>GID</th>\n",
       "      <th>Name</th>\n",
       "    </tr>\n",
       "  </thead>\n",
       "  <tbody>\n",
       "    <tr>\n",
       "      <th>0</th>\n",
       "      <td>2018</td>\n",
       "      <td>6.6</td>\n",
       "      <td>0</td>\n",
       "      <td>Adventure, Drama, Fantasy</td>\n",
       "    </tr>\n",
       "    <tr>\n",
       "      <th>1</th>\n",
       "      <td>2018</td>\n",
       "      <td>6.2</td>\n",
       "      <td>1</td>\n",
       "      <td>Action, Comedy, Crime</td>\n",
       "    </tr>\n",
       "    <tr>\n",
       "      <th>2</th>\n",
       "      <td>2018</td>\n",
       "      <td>6.4</td>\n",
       "      <td>2</td>\n",
       "      <td>Action, Adventure, Fantasy</td>\n",
       "    </tr>\n",
       "    <tr>\n",
       "      <th>3</th>\n",
       "      <td>2012</td>\n",
       "      <td>8.1</td>\n",
       "      <td>3</td>\n",
       "      <td>Action, Adventure, Sci-Fi</td>\n",
       "    </tr>\n",
       "    <tr>\n",
       "      <th>4</th>\n",
       "      <td>2018</td>\n",
       "      <td>8.5</td>\n",
       "      <td>4</td>\n",
       "      <td>Drama, Horror, Thriller</td>\n",
       "    </tr>\n",
       "    <tr>\n",
       "      <th>...</th>\n",
       "      <td>...</td>\n",
       "      <td>...</td>\n",
       "      <td>...</td>\n",
       "      <td>...</td>\n",
       "    </tr>\n",
       "    <tr>\n",
       "      <th>3468</th>\n",
       "      <td>1986</td>\n",
       "      <td>6.2</td>\n",
       "      <td>46</td>\n",
       "      <td>Action, Drama</td>\n",
       "    </tr>\n",
       "    <tr>\n",
       "      <th>3469</th>\n",
       "      <td>1993</td>\n",
       "      <td>4.7</td>\n",
       "      <td>20</td>\n",
       "      <td>Comedy, Drama, Romance</td>\n",
       "    </tr>\n",
       "    <tr>\n",
       "      <th>3470</th>\n",
       "      <td>2006</td>\n",
       "      <td>5.7</td>\n",
       "      <td>19</td>\n",
       "      <td>Drama</td>\n",
       "    </tr>\n",
       "    <tr>\n",
       "      <th>3471</th>\n",
       "      <td>1939</td>\n",
       "      <td>3.3</td>\n",
       "      <td>309</td>\n",
       "      <td>Null</td>\n",
       "    </tr>\n",
       "    <tr>\n",
       "      <th>3472</th>\n",
       "      <td>1994</td>\n",
       "      <td>3.2</td>\n",
       "      <td>46</td>\n",
       "      <td>Action, Drama</td>\n",
       "    </tr>\n",
       "  </tbody>\n",
       "</table>\n",
       "<p>3473 rows × 4 columns</p>\n",
       "</div>"
      ],
      "text/plain": [
       "      year  rating  GID                                    Name\n",
       "0     2018     6.6    0   Adventure, Drama, Fantasy            \n",
       "1     2018     6.2    1       Action, Comedy, Crime            \n",
       "2     2018     6.4    2  Action, Adventure, Fantasy            \n",
       "3     2012     8.1    3   Action, Adventure, Sci-Fi            \n",
       "4     2018     8.5    4     Drama, Horror, Thriller            \n",
       "...    ...     ...  ...                                     ...\n",
       "3468  1986     6.2   46               Action, Drama            \n",
       "3469  1993     4.7   20      Comedy, Drama, Romance            \n",
       "3470  2006     5.7   19                       Drama            \n",
       "3471  1939     3.3  309                                    Null\n",
       "3472  1994     3.2   46               Action, Drama            \n",
       "\n",
       "[3473 rows x 4 columns]"
      ]
     },
     "execution_count": 155,
     "metadata": {},
     "output_type": "execute_result"
    }
   ],
   "source": [
    "df16 = pd.read_sql_query('select Movie.year,Movie.rating,M_Genre.GID,Genre.Name from Movie join M_Genre on Movie.MID = M_Genre.MID join Genre on Genre.GID = M_Genre.GID',cnx)\n",
    "df16"
   ]
  },
  {
   "cell_type": "code",
   "execution_count": 156,
   "id": "4ef6aa21",
   "metadata": {},
   "outputs": [
    {
     "data": {
      "text/plain": [
       "year  rating  GID  Name                              \n",
       "2016  6.9     19   Drama                                 3\n",
       "2018  5.3     10   Comedy                                3\n",
       "2008  4.0     20   Comedy, Drama, Romance                3\n",
       "2018  7.2     19   Drama                                 3\n",
       "2005  7.2     19   Drama                                 2\n",
       "2010  7.1     19   Drama                                 2\n",
       "2018  6.8     19   Drama                                 2\n",
       "1965  7.8     5    Drama, Romance                        2\n",
       "2005  6.2     20   Comedy, Drama, Romance                2\n",
       "2018  7.2     40   Comedy, Romance                       2\n",
       "2010  7.6     16   Comedy, Drama                         2\n",
       "2014  6.9     20   Comedy, Drama, Romance                2\n",
       "2000  5.1     20   Comedy, Drama, Romance                2\n",
       "2018  7.5     16   Comedy, Drama                         2\n",
       "2014  7.3     19   Drama                                 2\n",
       "2000  4.4     54   Action, Crime, Drama                  2\n",
       "2016  6.7     19   Drama                                 2\n",
       "2005  5.6     20   Comedy, Drama, Romance                2\n",
       "1974  8.2     19   Drama                                 2\n",
       "1988  7.3     19   Drama                                 2\n",
       "dtype: int64"
      ]
     },
     "execution_count": 156,
     "metadata": {},
     "output_type": "execute_result"
    }
   ],
   "source": [
    "df16.sort_values('GID').value_counts().head(20)"
   ]
  },
  {
   "cell_type": "code",
   "execution_count": 157,
   "id": "df317e47",
   "metadata": {},
   "outputs": [
    {
     "data": {
      "text/plain": [
       "<Axes: xlabel='count', ylabel='Name'>"
      ]
     },
     "execution_count": 157,
     "metadata": {},
     "output_type": "execute_result"
    },
    {
     "data": {
      "image/png": "[encoded data removed]",
      "text/plain": [
       "<Figure size 1200x600 with 1 Axes>"
      ]
     },
     "metadata": {},
     "output_type": "display_data"
    }
   ],
   "source": [
    "plt.figure(figsize=(12,6))\n",
    "sns.countplot(data=df16,\n",
    "             y=\"Name\",\n",
    "             order=df16[\"Name\"].value_counts().index[0:20])\n"
   ]
  },
  {
   "cell_type": "code",
   "execution_count": 158,
   "id": "30d3424c",
   "metadata": {},
   "outputs": [
    {
     "data": {
      "text/html": [
       "<div>\n",
       "<style scoped>\n",
       "    .dataframe tbody tr th:only-of-type {\n",
       "        vertical-align: middle;\n",
       "    }\n",
       "\n",
       "    .dataframe tbody tr th {\n",
       "        vertical-align: top;\n",
       "    }\n",
       "\n",
       "    .dataframe thead th {\n",
       "        text-align: right;\n",
       "    }\n",
       "</style>\n",
       "<table border=\"1\" class=\"dataframe\">\n",
       "  <thead>\n",
       "    <tr style=\"text-align: right;\">\n",
       "      <th></th>\n",
       "      <th>title</th>\n",
       "      <th>year</th>\n",
       "      <th>GID</th>\n",
       "      <th>Name</th>\n",
       "    </tr>\n",
       "  </thead>\n",
       "  <tbody>\n",
       "    <tr>\n",
       "      <th>0</th>\n",
       "      <td>Action Jackson</td>\n",
       "      <td>I 2014</td>\n",
       "      <td>112</td>\n",
       "      <td>Action</td>\n",
       "    </tr>\n",
       "    <tr>\n",
       "      <th>1</th>\n",
       "      <td>Thugs of Hindostan</td>\n",
       "      <td>2018</td>\n",
       "      <td>15</td>\n",
       "      <td>Action, Adventure</td>\n",
       "    </tr>\n",
       "    <tr>\n",
       "      <th>2</th>\n",
       "      <td>Around the World in 80 Days</td>\n",
       "      <td>2004</td>\n",
       "      <td>36</td>\n",
       "      <td>Action, Adventure, Comedy</td>\n",
       "    </tr>\n",
       "    <tr>\n",
       "      <th>3</th>\n",
       "      <td>Detective Byomkesh Bakshy!</td>\n",
       "      <td>2015</td>\n",
       "      <td>80</td>\n",
       "      <td>Action, Adventure, Crime</td>\n",
       "    </tr>\n",
       "    <tr>\n",
       "      <th>4</th>\n",
       "      <td>Mohenjo Daro</td>\n",
       "      <td>2016</td>\n",
       "      <td>90</td>\n",
       "      <td>Action, Adventure, Drama</td>\n",
       "    </tr>\n",
       "    <tr>\n",
       "      <th>...</th>\n",
       "      <td>...</td>\n",
       "      <td>...</td>\n",
       "      <td>...</td>\n",
       "      <td>...</td>\n",
       "    </tr>\n",
       "    <tr>\n",
       "      <th>322</th>\n",
       "      <td>Love Games</td>\n",
       "      <td>2016</td>\n",
       "      <td>84</td>\n",
       "      <td>Thriller</td>\n",
       "    </tr>\n",
       "    <tr>\n",
       "      <th>323</th>\n",
       "      <td>Aitbaar</td>\n",
       "      <td>1985</td>\n",
       "      <td>301</td>\n",
       "      <td>Thriller, Action</td>\n",
       "    </tr>\n",
       "    <tr>\n",
       "      <th>324</th>\n",
       "      <td>Bichhoo</td>\n",
       "      <td>2000</td>\n",
       "      <td>276</td>\n",
       "      <td>Thriller, Action, Crime</td>\n",
       "    </tr>\n",
       "    <tr>\n",
       "      <th>325</th>\n",
       "      <td>Bees Saal Baad</td>\n",
       "      <td>1962</td>\n",
       "      <td>197</td>\n",
       "      <td>Thriller, Musical, Mystery</td>\n",
       "    </tr>\n",
       "    <tr>\n",
       "      <th>326</th>\n",
       "      <td>Raaz</td>\n",
       "      <td>1967</td>\n",
       "      <td>286</td>\n",
       "      <td>Thriller, Mystery</td>\n",
       "    </tr>\n",
       "  </tbody>\n",
       "</table>\n",
       "<p>327 rows × 4 columns</p>\n",
       "</div>"
      ],
      "text/plain": [
       "                           title    year  GID  \\\n",
       "0                 Action Jackson  I 2014  112   \n",
       "1             Thugs of Hindostan    2018   15   \n",
       "2    Around the World in 80 Days    2004   36   \n",
       "3     Detective Byomkesh Bakshy!    2015   80   \n",
       "4                   Mohenjo Daro    2016   90   \n",
       "..                           ...     ...  ...   \n",
       "322                   Love Games    2016   84   \n",
       "323                      Aitbaar    1985  301   \n",
       "324                      Bichhoo    2000  276   \n",
       "325               Bees Saal Baad    1962  197   \n",
       "326                         Raaz    1967  286   \n",
       "\n",
       "                                       Name  \n",
       "0                        Action              \n",
       "1             Action, Adventure              \n",
       "2     Action, Adventure, Comedy              \n",
       "3      Action, Adventure, Crime              \n",
       "4      Action, Adventure, Drama              \n",
       "..                                      ...  \n",
       "322                    Thriller              \n",
       "323            Thriller, Action              \n",
       "324     Thriller, Action, Crime              \n",
       "325  Thriller, Musical, Mystery              \n",
       "326           Thriller, Mystery              \n",
       "\n",
       "[327 rows x 4 columns]"
      ]
     },
     "execution_count": 158,
     "metadata": {},
     "output_type": "execute_result"
    }
   ],
   "source": [
    "df17 = pd.read_sql_query('select Movie.title,Movie.year,M_Genre.GID,Genre.Name from Movie join M_Genre on Movie.MID = M_Genre.MID join Genre on M_Genre.GID = Genre.GID group by Genre.Name',cnx)\n",
    "df17"
   ]
  },
  {
   "cell_type": "code",
   "execution_count": 203,
   "id": "81408a37",
   "metadata": {},
   "outputs": [
    {
     "data": {
      "text/html": [
       "<div>\n",
       "<style scoped>\n",
       "    .dataframe tbody tr th:only-of-type {\n",
       "        vertical-align: middle;\n",
       "    }\n",
       "\n",
       "    .dataframe tbody tr th {\n",
       "        vertical-align: top;\n",
       "    }\n",
       "\n",
       "    .dataframe thead th {\n",
       "        text-align: right;\n",
       "    }\n",
       "</style>\n",
       "<table border=\"1\" class=\"dataframe\">\n",
       "  <thead>\n",
       "    <tr style=\"text-align: right;\">\n",
       "      <th></th>\n",
       "      <th>year</th>\n",
       "      <th>Name</th>\n",
       "    </tr>\n",
       "  </thead>\n",
       "  <tbody>\n",
       "    <tr>\n",
       "      <th>0</th>\n",
       "      <td>I 2014</td>\n",
       "      <td>Action</td>\n",
       "    </tr>\n",
       "    <tr>\n",
       "      <th>1</th>\n",
       "      <td>2018</td>\n",
       "      <td>Action</td>\n",
       "    </tr>\n",
       "    <tr>\n",
       "      <th>2</th>\n",
       "      <td>2018</td>\n",
       "      <td>Adventure</td>\n",
       "    </tr>\n",
       "    <tr>\n",
       "      <th>3</th>\n",
       "      <td>2004</td>\n",
       "      <td>Action</td>\n",
       "    </tr>\n",
       "    <tr>\n",
       "      <th>4</th>\n",
       "      <td>2004</td>\n",
       "      <td>Adventure</td>\n",
       "    </tr>\n",
       "  </tbody>\n",
       "</table>\n",
       "</div>"
      ],
      "text/plain": [
       "     year                    Name\n",
       "0  I 2014      Action            \n",
       "1    2018                  Action\n",
       "2    2018   Adventure            \n",
       "3    2004                  Action\n",
       "4    2004               Adventure"
      ]
     },
     "execution_count": 203,
     "metadata": {},
     "output_type": "execute_result"
    }
   ],
   "source": [
    "constraint2=df17['Name'].apply(lambda x: str(x).split(',')).tolist()\n",
    "df_new2=pd.DataFrame(constraint2,index=df17['year'])\n",
    "df_new2=df_new2.stack()\n",
    "df_new2=pd.DataFrame(df_new2.reset_index())\n",
    "df_new2.rename(columns={0:'Name'},inplace=True)\n",
    "df_new2.drop(['level_1'],axis=1,inplace=True)\n",
    "df_new2.head()"
   ]
  },
  {
   "cell_type": "code",
   "execution_count": 204,
   "id": "e05a1855",
   "metadata": {},
   "outputs": [],
   "source": [
    "df_new2['year'] = df_new2['year'].str.split(\" \")"
   ]
  },
  {
   "cell_type": "code",
   "execution_count": 205,
   "id": "e6a8f28b",
   "metadata": {},
   "outputs": [],
   "source": [
    "year = df_new2['year'].values"
   ]
  },
  {
   "cell_type": "code",
   "execution_count": 206,
   "id": "573c0b83",
   "metadata": {},
   "outputs": [],
   "source": [
    "y = []\n",
    "for i in year:\n",
    "    if len(i) > 1:\n",
    "        y.append(i[1])\n",
    "    else:\n",
    "        y.append(i[0])"
   ]
  },
  {
   "cell_type": "code",
   "execution_count": 207,
   "id": "1c1536c3",
   "metadata": {},
   "outputs": [],
   "source": [
    "df_new2['year'] = y"
   ]
  },
  {
   "cell_type": "code",
   "execution_count": 208,
   "id": "168f90ff",
   "metadata": {},
   "outputs": [
    {
     "data": {
      "text/plain": [
       "array(['2014', '2018', '2004', '2015', '2016', '1980', '1953', '2013',\n",
       "       '2012', '1983', '2017', '2008', '2007', '2001', '1970', '2009',\n",
       "       '2011', '1984', '1982', '1989', '1988', '1977', '1979', '1994',\n",
       "       '1992', '1964', '1998', '2000', '1995', '1972', '1997', '1959',\n",
       "       '1996', '1957', '2005', '2010', '1999', '2006', '1936', '1946',\n",
       "       '1962', '2002', '1993', '1941', '1971', '2003', '1987', '1958',\n",
       "       '1976', '1981', '1985', '1960', '1990', '1949', '1973', '1966',\n",
       "       '1969', '1948', '1967', '1954', '1963'], dtype=object)"
      ]
     },
     "execution_count": 208,
     "metadata": {},
     "output_type": "execute_result"
    }
   ],
   "source": [
    "df_new2['year'].unique()"
   ]
  },
  {
   "cell_type": "code",
   "execution_count": 209,
   "id": "449c2830",
   "metadata": {},
   "outputs": [
    {
     "data": {
      "text/html": [
       "<div>\n",
       "<style scoped>\n",
       "    .dataframe tbody tr th:only-of-type {\n",
       "        vertical-align: middle;\n",
       "    }\n",
       "\n",
       "    .dataframe tbody tr th {\n",
       "        vertical-align: top;\n",
       "    }\n",
       "\n",
       "    .dataframe thead th {\n",
       "        text-align: right;\n",
       "    }\n",
       "</style>\n",
       "<table border=\"1\" class=\"dataframe\">\n",
       "  <thead>\n",
       "    <tr style=\"text-align: right;\">\n",
       "      <th></th>\n",
       "      <th>year</th>\n",
       "      <th>Name</th>\n",
       "    </tr>\n",
       "  </thead>\n",
       "  <tbody>\n",
       "    <tr>\n",
       "      <th>0</th>\n",
       "      <td>2014</td>\n",
       "      <td>Action</td>\n",
       "    </tr>\n",
       "    <tr>\n",
       "      <th>1</th>\n",
       "      <td>2018</td>\n",
       "      <td>Action</td>\n",
       "    </tr>\n",
       "    <tr>\n",
       "      <th>2</th>\n",
       "      <td>2018</td>\n",
       "      <td>Adventure</td>\n",
       "    </tr>\n",
       "    <tr>\n",
       "      <th>3</th>\n",
       "      <td>2004</td>\n",
       "      <td>Action</td>\n",
       "    </tr>\n",
       "    <tr>\n",
       "      <th>4</th>\n",
       "      <td>2004</td>\n",
       "      <td>Adventure</td>\n",
       "    </tr>\n",
       "    <tr>\n",
       "      <th>...</th>\n",
       "      <td>...</td>\n",
       "      <td>...</td>\n",
       "    </tr>\n",
       "    <tr>\n",
       "      <th>868</th>\n",
       "      <td>1962</td>\n",
       "      <td>Thriller</td>\n",
       "    </tr>\n",
       "    <tr>\n",
       "      <th>869</th>\n",
       "      <td>1962</td>\n",
       "      <td>Musical</td>\n",
       "    </tr>\n",
       "    <tr>\n",
       "      <th>870</th>\n",
       "      <td>1962</td>\n",
       "      <td>Mystery</td>\n",
       "    </tr>\n",
       "    <tr>\n",
       "      <th>871</th>\n",
       "      <td>1967</td>\n",
       "      <td>Thriller</td>\n",
       "    </tr>\n",
       "    <tr>\n",
       "      <th>872</th>\n",
       "      <td>1967</td>\n",
       "      <td>Mystery</td>\n",
       "    </tr>\n",
       "  </tbody>\n",
       "</table>\n",
       "<p>873 rows × 2 columns</p>\n",
       "</div>"
      ],
      "text/plain": [
       "     year                    Name\n",
       "0    2014      Action            \n",
       "1    2018                  Action\n",
       "2    2018   Adventure            \n",
       "3    2004                  Action\n",
       "4    2004               Adventure\n",
       "..    ...                     ...\n",
       "868  1962                Thriller\n",
       "869  1962                 Musical\n",
       "870  1962     Mystery            \n",
       "871  1967                Thriller\n",
       "872  1967     Mystery            \n",
       "\n",
       "[873 rows x 2 columns]"
      ]
     },
     "execution_count": 209,
     "metadata": {},
     "output_type": "execute_result"
    }
   ],
   "source": [
    "df_new2"
   ]
  },
  {
   "cell_type": "code",
   "execution_count": 210,
   "id": "6b513f84",
   "metadata": {},
   "outputs": [
    {
     "data": {
      "text/plain": [
       "year    0\n",
       "Name    0\n",
       "dtype: int64"
      ]
     },
     "execution_count": 210,
     "metadata": {},
     "output_type": "execute_result"
    }
   ],
   "source": [
    "df_new2.isna().sum()"
   ]
  },
  {
   "cell_type": "code",
   "execution_count": 211,
   "id": "62a55201",
   "metadata": {},
   "outputs": [
    {
     "name": "stdout",
     "output_type": "stream",
     "text": [
      "<class 'pandas.core.frame.DataFrame'>\n",
      "RangeIndex: 873 entries, 0 to 872\n",
      "Data columns (total 2 columns):\n",
      " #   Column  Non-Null Count  Dtype \n",
      "---  ------  --------------  ----- \n",
      " 0   year    873 non-null    object\n",
      " 1   Name    873 non-null    object\n",
      "dtypes: object(2)\n",
      "memory usage: 13.8+ KB\n"
     ]
    }
   ],
   "source": [
    "df_new2.info()"
   ]
  },
  {
   "cell_type": "code",
   "execution_count": 212,
   "id": "18cac680",
   "metadata": {},
   "outputs": [
    {
     "data": {
      "text/plain": [
       "year    61\n",
       "Name    65\n",
       "dtype: int64"
      ]
     },
     "execution_count": 212,
     "metadata": {},
     "output_type": "execute_result"
    }
   ],
   "source": [
    "df_new2.nunique()"
   ]
  },
  {
   "cell_type": "code",
   "execution_count": 213,
   "id": "e052fc2e",
   "metadata": {},
   "outputs": [
    {
     "data": {
      "text/plain": [
       "0         Action\n",
       "1         Action\n",
       "2      Adventure\n",
       "3         Action\n",
       "4      Adventure\n",
       "         ...    \n",
       "868     Thriller\n",
       "869      Musical\n",
       "870      Mystery\n",
       "871     Thriller\n",
       "872      Mystery\n",
       "Name: Name, Length: 873, dtype: object"
      ]
     },
     "execution_count": 213,
     "metadata": {},
     "output_type": "execute_result"
    }
   ],
   "source": [
    "df_new2['Name'].str.strip()"
   ]
  },
  {
   "cell_type": "code",
   "execution_count": 214,
   "id": "573f5ef7",
   "metadata": {},
   "outputs": [
    {
     "data": {
      "text/html": [
       "<div>\n",
       "<style scoped>\n",
       "    .dataframe tbody tr th:only-of-type {\n",
       "        vertical-align: middle;\n",
       "    }\n",
       "\n",
       "    .dataframe tbody tr th {\n",
       "        vertical-align: top;\n",
       "    }\n",
       "\n",
       "    .dataframe thead th {\n",
       "        text-align: right;\n",
       "    }\n",
       "</style>\n",
       "<table border=\"1\" class=\"dataframe\">\n",
       "  <thead>\n",
       "    <tr style=\"text-align: right;\">\n",
       "      <th></th>\n",
       "      <th>year</th>\n",
       "      <th>Name</th>\n",
       "    </tr>\n",
       "  </thead>\n",
       "  <tbody>\n",
       "    <tr>\n",
       "      <th>1</th>\n",
       "      <td>2018</td>\n",
       "      <td>Action</td>\n",
       "    </tr>\n",
       "    <tr>\n",
       "      <th>3</th>\n",
       "      <td>2004</td>\n",
       "      <td>Action</td>\n",
       "    </tr>\n",
       "    <tr>\n",
       "      <th>6</th>\n",
       "      <td>2015</td>\n",
       "      <td>Action</td>\n",
       "    </tr>\n",
       "    <tr>\n",
       "      <th>9</th>\n",
       "      <td>2016</td>\n",
       "      <td>Action</td>\n",
       "    </tr>\n",
       "    <tr>\n",
       "      <th>12</th>\n",
       "      <td>1980</td>\n",
       "      <td>Action</td>\n",
       "    </tr>\n",
       "    <tr>\n",
       "      <th>...</th>\n",
       "      <td>...</td>\n",
       "      <td>...</td>\n",
       "    </tr>\n",
       "    <tr>\n",
       "      <th>847</th>\n",
       "      <td>1966</td>\n",
       "      <td>Romance</td>\n",
       "    </tr>\n",
       "    <tr>\n",
       "      <th>850</th>\n",
       "      <td>1963</td>\n",
       "      <td>Romance</td>\n",
       "    </tr>\n",
       "    <tr>\n",
       "      <th>853</th>\n",
       "      <td>1982</td>\n",
       "      <td>Romance</td>\n",
       "    </tr>\n",
       "    <tr>\n",
       "      <th>856</th>\n",
       "      <td>1964</td>\n",
       "      <td>Romance</td>\n",
       "    </tr>\n",
       "    <tr>\n",
       "      <th>859</th>\n",
       "      <td>2001</td>\n",
       "      <td>Romance</td>\n",
       "    </tr>\n",
       "  </tbody>\n",
       "</table>\n",
       "<p>204 rows × 2 columns</p>\n",
       "</div>"
      ],
      "text/plain": [
       "     year     Name\n",
       "1    2018   Action\n",
       "3    2004   Action\n",
       "6    2015   Action\n",
       "9    2016   Action\n",
       "12   1980   Action\n",
       "..    ...      ...\n",
       "847  1966  Romance\n",
       "850  1963  Romance\n",
       "853  1982  Romance\n",
       "856  1964  Romance\n",
       "859  2001  Romance\n",
       "\n",
       "[204 rows x 2 columns]"
      ]
     },
     "execution_count": 214,
     "metadata": {},
     "output_type": "execute_result"
    }
   ],
   "source": [
    "df_new3 = df_new2[df_new2['Name'].isin(['Action','Drama','Crime','Romance','Comedy'])]\n",
    "df_new3"
   ]
  },
  {
   "cell_type": "code",
   "execution_count": 220,
   "id": "d1386b94",
   "metadata": {},
   "outputs": [
    {
     "data": {
      "text/plain": [
       "<Axes: ylabel='year,Name'>"
      ]
     },
     "execution_count": 220,
     "metadata": {},
     "output_type": "execute_result"
    },
    {
     "data": {
      "image/png": "[encoded data removed]",
      "text/plain": [
       "<Figure size 1500x2000 with 1 Axes>"
      ]
     },
     "metadata": {},
     "output_type": "display_data"
    }
   ],
   "source": [
    "df_new3.groupby(['year','Name'])['year'].count()[20:].plot(kind='barh', figsize=(15, 20))"
   ]
  },
  {
   "cell_type": "code",
   "execution_count": null,
   "id": "ca494d1b",
   "metadata": {},
   "outputs": [],
   "source": []
  },
  {
   "cell_type": "code",
   "execution_count": 160,
   "id": "bd441e88",
   "metadata": {},
   "outputs": [
    {
     "data": {
      "text/html": [
       "<div>\n",
       "<style scoped>\n",
       "    .dataframe tbody tr th:only-of-type {\n",
       "        vertical-align: middle;\n",
       "    }\n",
       "\n",
       "    .dataframe tbody tr th {\n",
       "        vertical-align: top;\n",
       "    }\n",
       "\n",
       "    .dataframe thead th {\n",
       "        text-align: right;\n",
       "    }\n",
       "</style>\n",
       "<table border=\"1\" class=\"dataframe\">\n",
       "  <thead>\n",
       "    <tr style=\"text-align: right;\">\n",
       "      <th></th>\n",
       "      <th>Producer</th>\n",
       "      <th>number_of_movies</th>\n",
       "    </tr>\n",
       "  </thead>\n",
       "  <tbody>\n",
       "    <tr>\n",
       "      <th>0</th>\n",
       "      <td>Ronnie Screwvala</td>\n",
       "      <td>60</td>\n",
       "    </tr>\n",
       "    <tr>\n",
       "      <th>1</th>\n",
       "      <td>Aditya Chopra</td>\n",
       "      <td>54</td>\n",
       "    </tr>\n",
       "    <tr>\n",
       "      <th>2</th>\n",
       "      <td>Yogiraj Shetty</td>\n",
       "      <td>53</td>\n",
       "    </tr>\n",
       "    <tr>\n",
       "      <th>3</th>\n",
       "      <td>Mukesh Bhatt</td>\n",
       "      <td>53</td>\n",
       "    </tr>\n",
       "    <tr>\n",
       "      <th>4</th>\n",
       "      <td>Siddharth Roy Kapur</td>\n",
       "      <td>47</td>\n",
       "    </tr>\n",
       "    <tr>\n",
       "      <th>...</th>\n",
       "      <td>...</td>\n",
       "      <td>...</td>\n",
       "    </tr>\n",
       "    <tr>\n",
       "      <th>161</th>\n",
       "      <td>Dipa De Motwane</td>\n",
       "      <td>10</td>\n",
       "    </tr>\n",
       "    <tr>\n",
       "      <th>162</th>\n",
       "      <td>Shah Rukh Khan</td>\n",
       "      <td>10</td>\n",
       "    </tr>\n",
       "    <tr>\n",
       "      <th>163</th>\n",
       "      <td>Keshu Ramsay</td>\n",
       "      <td>10</td>\n",
       "    </tr>\n",
       "    <tr>\n",
       "      <th>164</th>\n",
       "      <td>Nasir Hussain</td>\n",
       "      <td>10</td>\n",
       "    </tr>\n",
       "    <tr>\n",
       "      <th>165</th>\n",
       "      <td>C. Ashwini Dutt</td>\n",
       "      <td>10</td>\n",
       "    </tr>\n",
       "  </tbody>\n",
       "</table>\n",
       "<p>166 rows × 2 columns</p>\n",
       "</div>"
      ],
      "text/plain": [
       "                 Producer  number_of_movies\n",
       "0        Ronnie Screwvala                60\n",
       "1           Aditya Chopra                54\n",
       "2          Yogiraj Shetty                53\n",
       "3            Mukesh Bhatt                53\n",
       "4     Siddharth Roy Kapur                47\n",
       "..                    ...               ...\n",
       "161       Dipa De Motwane                10\n",
       "162        Shah Rukh Khan                10\n",
       "163          Keshu Ramsay                10\n",
       "164         Nasir Hussain                10\n",
       "165       C. Ashwini Dutt                10\n",
       "\n",
       "[166 rows x 2 columns]"
      ]
     },
     "execution_count": 160,
     "metadata": {},
     "output_type": "execute_result"
    }
   ],
   "source": [
    "#Producer with most number of movies.\n",
    "\n",
    "top_prod = pd.read_sql_query(\"SELECT DISTINCT p.Name Producer,COUNT(*) number_of_movies FROM Person p \\\n",
    "                          JOIN M_Producer d on TRIM(p.PID) = TRIM(d.PID) \\\n",
    "                          GROUP BY TRIM(d.PID) HAVING COUNT(*) >=10 ORDER BY number_of_movies DESC\",cnx)\n",
    "top_prod"
   ]
  },
  {
   "cell_type": "code",
   "execution_count": 233,
   "id": "28635cd7",
   "metadata": {},
   "outputs": [
    {
     "data": {
      "text/html": [
       "<div>\n",
       "<style scoped>\n",
       "    .dataframe tbody tr th:only-of-type {\n",
       "        vertical-align: middle;\n",
       "    }\n",
       "\n",
       "    .dataframe tbody tr th {\n",
       "        vertical-align: top;\n",
       "    }\n",
       "\n",
       "    .dataframe thead th {\n",
       "        text-align: right;\n",
       "    }\n",
       "</style>\n",
       "<table border=\"1\" class=\"dataframe\">\n",
       "  <thead>\n",
       "    <tr style=\"text-align: right;\">\n",
       "      <th></th>\n",
       "      <th>Director</th>\n",
       "      <th>number_of_movies</th>\n",
       "    </tr>\n",
       "  </thead>\n",
       "  <tbody>\n",
       "    <tr>\n",
       "      <th>0</th>\n",
       "      <td>David Dhawan</td>\n",
       "      <td>39</td>\n",
       "    </tr>\n",
       "    <tr>\n",
       "      <th>1</th>\n",
       "      <td>Mahesh Bhatt</td>\n",
       "      <td>35</td>\n",
       "    </tr>\n",
       "    <tr>\n",
       "      <th>2</th>\n",
       "      <td>Ram Gopal Varma</td>\n",
       "      <td>30</td>\n",
       "    </tr>\n",
       "    <tr>\n",
       "      <th>3</th>\n",
       "      <td>Priyadarshan</td>\n",
       "      <td>30</td>\n",
       "    </tr>\n",
       "    <tr>\n",
       "      <th>4</th>\n",
       "      <td>Vikram Bhatt</td>\n",
       "      <td>29</td>\n",
       "    </tr>\n",
       "    <tr>\n",
       "      <th>5</th>\n",
       "      <td>Hrishikesh Mukherjee</td>\n",
       "      <td>27</td>\n",
       "    </tr>\n",
       "    <tr>\n",
       "      <th>6</th>\n",
       "      <td>Yash Chopra</td>\n",
       "      <td>21</td>\n",
       "    </tr>\n",
       "    <tr>\n",
       "      <th>7</th>\n",
       "      <td>Shakti Samanta</td>\n",
       "      <td>19</td>\n",
       "    </tr>\n",
       "    <tr>\n",
       "      <th>8</th>\n",
       "      <td>Basu Chatterjee</td>\n",
       "      <td>19</td>\n",
       "    </tr>\n",
       "    <tr>\n",
       "      <th>9</th>\n",
       "      <td>Subhash Ghai</td>\n",
       "      <td>18</td>\n",
       "    </tr>\n",
       "    <tr>\n",
       "      <th>10</th>\n",
       "      <td>Rama Rao Tatineni</td>\n",
       "      <td>17</td>\n",
       "    </tr>\n",
       "    <tr>\n",
       "      <th>11</th>\n",
       "      <td>Abbas Alibhai Burmawalla</td>\n",
       "      <td>17</td>\n",
       "    </tr>\n",
       "    <tr>\n",
       "      <th>12</th>\n",
       "      <td>Shyam Benegal</td>\n",
       "      <td>17</td>\n",
       "    </tr>\n",
       "    <tr>\n",
       "      <th>13</th>\n",
       "      <td>Raj N. Sippy</td>\n",
       "      <td>16</td>\n",
       "    </tr>\n",
       "    <tr>\n",
       "      <th>14</th>\n",
       "      <td>Gulzar</td>\n",
       "      <td>16</td>\n",
       "    </tr>\n",
       "    <tr>\n",
       "      <th>15</th>\n",
       "      <td>Manmohan Desai</td>\n",
       "      <td>16</td>\n",
       "    </tr>\n",
       "    <tr>\n",
       "      <th>16</th>\n",
       "      <td>Mahesh Manjrekar</td>\n",
       "      <td>15</td>\n",
       "    </tr>\n",
       "    <tr>\n",
       "      <th>17</th>\n",
       "      <td>Raj Kanwar</td>\n",
       "      <td>15</td>\n",
       "    </tr>\n",
       "    <tr>\n",
       "      <th>18</th>\n",
       "      <td>Rajkumar Santoshi</td>\n",
       "      <td>14</td>\n",
       "    </tr>\n",
       "    <tr>\n",
       "      <th>19</th>\n",
       "      <td>Rahul Rawail</td>\n",
       "      <td>14</td>\n",
       "    </tr>\n",
       "    <tr>\n",
       "      <th>20</th>\n",
       "      <td>Raj Khosla</td>\n",
       "      <td>14</td>\n",
       "    </tr>\n",
       "    <tr>\n",
       "      <th>21</th>\n",
       "      <td>Indra Kumar</td>\n",
       "      <td>14</td>\n",
       "    </tr>\n",
       "    <tr>\n",
       "      <th>22</th>\n",
       "      <td>K. Raghavendra Rao</td>\n",
       "      <td>13</td>\n",
       "    </tr>\n",
       "    <tr>\n",
       "      <th>23</th>\n",
       "      <td>Ananth Narayan Mahadevan</td>\n",
       "      <td>13</td>\n",
       "    </tr>\n",
       "    <tr>\n",
       "      <th>24</th>\n",
       "      <td>Anurag Kashyap</td>\n",
       "      <td>13</td>\n",
       "    </tr>\n",
       "    <tr>\n",
       "      <th>25</th>\n",
       "      <td>Harry Baweja</td>\n",
       "      <td>13</td>\n",
       "    </tr>\n",
       "    <tr>\n",
       "      <th>26</th>\n",
       "      <td>Vijay Anand</td>\n",
       "      <td>13</td>\n",
       "    </tr>\n",
       "    <tr>\n",
       "      <th>27</th>\n",
       "      <td>Dev Anand</td>\n",
       "      <td>13</td>\n",
       "    </tr>\n",
       "    <tr>\n",
       "      <th>28</th>\n",
       "      <td>Rakesh Roshan</td>\n",
       "      <td>13</td>\n",
       "    </tr>\n",
       "    <tr>\n",
       "      <th>29</th>\n",
       "      <td>Rohit Shetty</td>\n",
       "      <td>12</td>\n",
       "    </tr>\n",
       "    <tr>\n",
       "      <th>30</th>\n",
       "      <td>Madhur Bhandarkar</td>\n",
       "      <td>12</td>\n",
       "    </tr>\n",
       "    <tr>\n",
       "      <th>31</th>\n",
       "      <td>Anil Sharma</td>\n",
       "      <td>12</td>\n",
       "    </tr>\n",
       "    <tr>\n",
       "      <th>32</th>\n",
       "      <td>Umesh Mehra</td>\n",
       "      <td>12</td>\n",
       "    </tr>\n",
       "    <tr>\n",
       "      <th>33</th>\n",
       "      <td>Prakash Mehra</td>\n",
       "      <td>12</td>\n",
       "    </tr>\n",
       "    <tr>\n",
       "      <th>34</th>\n",
       "      <td>Nagesh Kukunoor</td>\n",
       "      <td>12</td>\n",
       "    </tr>\n",
       "    <tr>\n",
       "      <th>35</th>\n",
       "      <td>Satish Kaushik</td>\n",
       "      <td>12</td>\n",
       "    </tr>\n",
       "    <tr>\n",
       "      <th>36</th>\n",
       "      <td>Prakash Jha</td>\n",
       "      <td>12</td>\n",
       "    </tr>\n",
       "    <tr>\n",
       "      <th>37</th>\n",
       "      <td>Guddu Dhanoa</td>\n",
       "      <td>12</td>\n",
       "    </tr>\n",
       "    <tr>\n",
       "      <th>38</th>\n",
       "      <td>Anees Bazmee</td>\n",
       "      <td>12</td>\n",
       "    </tr>\n",
       "    <tr>\n",
       "      <th>39</th>\n",
       "      <td>Mohit Suri</td>\n",
       "      <td>11</td>\n",
       "    </tr>\n",
       "    <tr>\n",
       "      <th>40</th>\n",
       "      <td>Govind Nihalani</td>\n",
       "      <td>11</td>\n",
       "    </tr>\n",
       "    <tr>\n",
       "      <th>41</th>\n",
       "      <td>Ketan Mehta</td>\n",
       "      <td>11</td>\n",
       "    </tr>\n",
       "    <tr>\n",
       "      <th>42</th>\n",
       "      <td>Nasir Hussain</td>\n",
       "      <td>11</td>\n",
       "    </tr>\n",
       "    <tr>\n",
       "      <th>43</th>\n",
       "      <td>Sanjay Gupta</td>\n",
       "      <td>11</td>\n",
       "    </tr>\n",
       "    <tr>\n",
       "      <th>44</th>\n",
       "      <td>Pramod Chakravorty</td>\n",
       "      <td>11</td>\n",
       "    </tr>\n",
       "    <tr>\n",
       "      <th>45</th>\n",
       "      <td>Bimal Roy</td>\n",
       "      <td>10</td>\n",
       "    </tr>\n",
       "    <tr>\n",
       "      <th>46</th>\n",
       "      <td>J. Om Prakash</td>\n",
       "      <td>10</td>\n",
       "    </tr>\n",
       "    <tr>\n",
       "      <th>47</th>\n",
       "      <td>Pankaj Parashar</td>\n",
       "      <td>10</td>\n",
       "    </tr>\n",
       "    <tr>\n",
       "      <th>48</th>\n",
       "      <td>K. Muralimohana Rao</td>\n",
       "      <td>10</td>\n",
       "    </tr>\n",
       "    <tr>\n",
       "      <th>49</th>\n",
       "      <td>Sudhir Mishra</td>\n",
       "      <td>10</td>\n",
       "    </tr>\n",
       "    <tr>\n",
       "      <th>50</th>\n",
       "      <td>Hansal Mehta</td>\n",
       "      <td>10</td>\n",
       "    </tr>\n",
       "    <tr>\n",
       "      <th>51</th>\n",
       "      <td>Mehul Kumar</td>\n",
       "      <td>10</td>\n",
       "    </tr>\n",
       "    <tr>\n",
       "      <th>52</th>\n",
       "      <td>J.P. Dutta</td>\n",
       "      <td>10</td>\n",
       "    </tr>\n",
       "    <tr>\n",
       "      <th>53</th>\n",
       "      <td>Tigmanshu Dhulia</td>\n",
       "      <td>10</td>\n",
       "    </tr>\n",
       "    <tr>\n",
       "      <th>54</th>\n",
       "      <td>N. Chandra</td>\n",
       "      <td>10</td>\n",
       "    </tr>\n",
       "    <tr>\n",
       "      <th>55</th>\n",
       "      <td>Vishal Bhardwaj</td>\n",
       "      <td>10</td>\n",
       "    </tr>\n",
       "    <tr>\n",
       "      <th>56</th>\n",
       "      <td>K. Bapaiah</td>\n",
       "      <td>10</td>\n",
       "    </tr>\n",
       "    <tr>\n",
       "      <th>57</th>\n",
       "      <td>Raj Kapoor</td>\n",
       "      <td>10</td>\n",
       "    </tr>\n",
       "  </tbody>\n",
       "</table>\n",
       "</div>"
      ],
      "text/plain": [
       "                     Director  number_of_movies\n",
       "0                David Dhawan                39\n",
       "1                Mahesh Bhatt                35\n",
       "2             Ram Gopal Varma                30\n",
       "3                Priyadarshan                30\n",
       "4                Vikram Bhatt                29\n",
       "5        Hrishikesh Mukherjee                27\n",
       "6                 Yash Chopra                21\n",
       "7              Shakti Samanta                19\n",
       "8             Basu Chatterjee                19\n",
       "9                Subhash Ghai                18\n",
       "10          Rama Rao Tatineni                17\n",
       "11   Abbas Alibhai Burmawalla                17\n",
       "12              Shyam Benegal                17\n",
       "13               Raj N. Sippy                16\n",
       "14                     Gulzar                16\n",
       "15             Manmohan Desai                16\n",
       "16           Mahesh Manjrekar                15\n",
       "17                 Raj Kanwar                15\n",
       "18          Rajkumar Santoshi                14\n",
       "19               Rahul Rawail                14\n",
       "20                 Raj Khosla                14\n",
       "21                Indra Kumar                14\n",
       "22         K. Raghavendra Rao                13\n",
       "23   Ananth Narayan Mahadevan                13\n",
       "24             Anurag Kashyap                13\n",
       "25               Harry Baweja                13\n",
       "26                Vijay Anand                13\n",
       "27                  Dev Anand                13\n",
       "28              Rakesh Roshan                13\n",
       "29               Rohit Shetty                12\n",
       "30          Madhur Bhandarkar                12\n",
       "31                Anil Sharma                12\n",
       "32                Umesh Mehra                12\n",
       "33              Prakash Mehra                12\n",
       "34            Nagesh Kukunoor                12\n",
       "35             Satish Kaushik                12\n",
       "36                Prakash Jha                12\n",
       "37               Guddu Dhanoa                12\n",
       "38               Anees Bazmee                12\n",
       "39                 Mohit Suri                11\n",
       "40            Govind Nihalani                11\n",
       "41                Ketan Mehta                11\n",
       "42              Nasir Hussain                11\n",
       "43               Sanjay Gupta                11\n",
       "44         Pramod Chakravorty                11\n",
       "45                  Bimal Roy                10\n",
       "46              J. Om Prakash                10\n",
       "47            Pankaj Parashar                10\n",
       "48        K. Muralimohana Rao                10\n",
       "49              Sudhir Mishra                10\n",
       "50               Hansal Mehta                10\n",
       "51                Mehul Kumar                10\n",
       "52                 J.P. Dutta                10\n",
       "53           Tigmanshu Dhulia                10\n",
       "54                 N. Chandra                10\n",
       "55            Vishal Bhardwaj                10\n",
       "56                 K. Bapaiah                10\n",
       "57                 Raj Kapoor                10"
      ]
     },
     "execution_count": 233,
     "metadata": {},
     "output_type": "execute_result"
    }
   ],
   "source": [
    "#Directors with most number of movies.\n",
    "\n",
    "ans = pd.read_sql_query(\"SELECT DISTINCT p.Name Director,COUNT(*) number_of_movies FROM Person p \\\n",
    "                          JOIN M_Director d on TRIM(p.PID) = TRIM(d.PID) \\\n",
    "                          GROUP BY TRIM(d.PID) HAVING COUNT(*) >=10 ORDER BY number_of_movies DESC\",cnx)\n",
    "ans"
   ]
  },
  {
   "cell_type": "code",
   "execution_count": 235,
   "id": "863e9cbb",
   "metadata": {
    "scrolled": true
   },
   "outputs": [
    {
     "data": {
      "text/html": [
       "<div>\n",
       "<style scoped>\n",
       "    .dataframe tbody tr th:only-of-type {\n",
       "        vertical-align: middle;\n",
       "    }\n",
       "\n",
       "    .dataframe tbody tr th {\n",
       "        vertical-align: top;\n",
       "    }\n",
       "\n",
       "    .dataframe thead th {\n",
       "        text-align: right;\n",
       "    }\n",
       "</style>\n",
       "<table border=\"1\" class=\"dataframe\">\n",
       "  <thead>\n",
       "    <tr style=\"text-align: right;\">\n",
       "      <th></th>\n",
       "      <th>Movie_Name</th>\n",
       "      <th>Cast_Size</th>\n",
       "    </tr>\n",
       "  </thead>\n",
       "  <tbody>\n",
       "    <tr>\n",
       "      <th>0</th>\n",
       "      <td>Ocean's Eight</td>\n",
       "      <td>238</td>\n",
       "    </tr>\n",
       "    <tr>\n",
       "      <th>1</th>\n",
       "      <td>Apaharan</td>\n",
       "      <td>233</td>\n",
       "    </tr>\n",
       "    <tr>\n",
       "      <th>2</th>\n",
       "      <td>Gold</td>\n",
       "      <td>215</td>\n",
       "    </tr>\n",
       "    <tr>\n",
       "      <th>3</th>\n",
       "      <td>My Name Is Khan</td>\n",
       "      <td>213</td>\n",
       "    </tr>\n",
       "    <tr>\n",
       "      <th>4</th>\n",
       "      <td>Captain America: Civil War</td>\n",
       "      <td>191</td>\n",
       "    </tr>\n",
       "    <tr>\n",
       "      <th>...</th>\n",
       "      <td>...</td>\n",
       "      <td>...</td>\n",
       "    </tr>\n",
       "    <tr>\n",
       "      <th>3468</th>\n",
       "      <td>Vaibhav Sethia: Don't</td>\n",
       "      <td>1</td>\n",
       "    </tr>\n",
       "    <tr>\n",
       "      <th>3469</th>\n",
       "      <td>Chaar Sahibzaade 2: Rise of Banda Singh Bahadur</td>\n",
       "      <td>1</td>\n",
       "    </tr>\n",
       "    <tr>\n",
       "      <th>3470</th>\n",
       "      <td>Subah Subah</td>\n",
       "      <td>1</td>\n",
       "    </tr>\n",
       "    <tr>\n",
       "      <th>3471</th>\n",
       "      <td>Return of Hanuman</td>\n",
       "      <td>1</td>\n",
       "    </tr>\n",
       "    <tr>\n",
       "      <th>3472</th>\n",
       "      <td>Kala Jigar</td>\n",
       "      <td>1</td>\n",
       "    </tr>\n",
       "  </tbody>\n",
       "</table>\n",
       "<p>3473 rows × 2 columns</p>\n",
       "</div>"
      ],
      "text/plain": [
       "                                           Movie_Name  Cast_Size\n",
       "0                                       Ocean's Eight        238\n",
       "1                                            Apaharan        233\n",
       "2                                                Gold        215\n",
       "3                                     My Name Is Khan        213\n",
       "4                          Captain America: Civil War        191\n",
       "...                                               ...        ...\n",
       "3468                            Vaibhav Sethia: Don't          1\n",
       "3469  Chaar Sahibzaade 2: Rise of Banda Singh Bahadur          1\n",
       "3470                                      Subah Subah          1\n",
       "3471                                Return of Hanuman          1\n",
       "3472                                       Kala Jigar          1\n",
       "\n",
       "[3473 rows x 2 columns]"
      ]
     },
     "execution_count": 235,
     "metadata": {},
     "output_type": "execute_result"
    }
   ],
   "source": [
    "#Movies with largest cast\n",
    "\n",
    "larg_cst = pd.read_sql_query(\"SELECT m.title Movie_Name,count(distinct(c.PID)) Cast_Size FROM Movie m JOIN M_Cast c \\\n",
    "                            ON c.MID = m.MID GROUP BY m.MID ORDER BY Cast_Size desc\",cnx)\n",
    "larg_cst"
   ]
  },
  {
   "cell_type": "code",
   "execution_count": 236,
   "id": "085d710a",
   "metadata": {},
   "outputs": [
    {
     "data": {
      "text/html": [
       "<div>\n",
       "<style scoped>\n",
       "    .dataframe tbody tr th:only-of-type {\n",
       "        vertical-align: middle;\n",
       "    }\n",
       "\n",
       "    .dataframe tbody tr th {\n",
       "        vertical-align: top;\n",
       "    }\n",
       "\n",
       "    .dataframe thead th {\n",
       "        text-align: right;\n",
       "    }\n",
       "</style>\n",
       "<table border=\"1\" class=\"dataframe\">\n",
       "  <thead>\n",
       "    <tr style=\"text-align: right;\">\n",
       "      <th></th>\n",
       "      <th>Start</th>\n",
       "      <th>End</th>\n",
       "      <th>no_of_films</th>\n",
       "    </tr>\n",
       "  </thead>\n",
       "  <tbody>\n",
       "    <tr>\n",
       "      <th>0</th>\n",
       "      <td>2008</td>\n",
       "      <td>2017</td>\n",
       "      <td>1126</td>\n",
       "    </tr>\n",
       "  </tbody>\n",
       "</table>\n",
       "</div>"
      ],
      "text/plain": [
       "  Start   End  no_of_films\n",
       "0  2008  2017         1126"
      ]
     },
     "execution_count": 236,
     "metadata": {},
     "output_type": "execute_result"
    }
   ],
   "source": [
    "#Decade with most number of movies\n",
    "\n",
    "mst_num_mov = pd.read_sql_query(\"SELECT d.year Start, d.year+9 End, count(*) no_of_films FROM \\\n",
    "                            (SELECT DISTINCT year from Movie) d JOIN Movie m ON m.year >= Start and m.year<= End \\\n",
    "                            GROUP BY End ORDER BY no_of_films desc LIMIT 1\",cnx)\n",
    "mst_num_mov"
   ]
  },
  {
   "cell_type": "code",
   "execution_count": 237,
   "id": "3617836b",
   "metadata": {},
   "outputs": [
    {
     "data": {
      "text/html": [
       "<div>\n",
       "<style scoped>\n",
       "    .dataframe tbody tr th:only-of-type {\n",
       "        vertical-align: middle;\n",
       "    }\n",
       "\n",
       "    .dataframe tbody tr th {\n",
       "        vertical-align: top;\n",
       "    }\n",
       "\n",
       "    .dataframe thead th {\n",
       "        text-align: right;\n",
       "    }\n",
       "</style>\n",
       "<table border=\"1\" class=\"dataframe\">\n",
       "  <thead>\n",
       "    <tr style=\"text-align: right;\">\n",
       "      <th></th>\n",
       "      <th>Actor</th>\n",
       "    </tr>\n",
       "  </thead>\n",
       "  <tbody>\n",
       "    <tr>\n",
       "      <th>0</th>\n",
       "      <td>Rishi Kapoor</td>\n",
       "    </tr>\n",
       "    <tr>\n",
       "      <th>1</th>\n",
       "      <td>Amitabh Bachchan</td>\n",
       "    </tr>\n",
       "    <tr>\n",
       "      <th>2</th>\n",
       "      <td>Asrani</td>\n",
       "    </tr>\n",
       "    <tr>\n",
       "      <th>3</th>\n",
       "      <td>Zohra Sehgal</td>\n",
       "    </tr>\n",
       "    <tr>\n",
       "      <th>4</th>\n",
       "      <td>Parikshat Sahni</td>\n",
       "    </tr>\n",
       "    <tr>\n",
       "      <th>...</th>\n",
       "      <td>...</td>\n",
       "    </tr>\n",
       "    <tr>\n",
       "      <th>213</th>\n",
       "      <td>Miss Firoza</td>\n",
       "    </tr>\n",
       "    <tr>\n",
       "      <th>214</th>\n",
       "      <td>Dube</td>\n",
       "    </tr>\n",
       "    <tr>\n",
       "      <th>215</th>\n",
       "      <td>Dolly</td>\n",
       "    </tr>\n",
       "    <tr>\n",
       "      <th>216</th>\n",
       "      <td>Jamila Massey</td>\n",
       "    </tr>\n",
       "    <tr>\n",
       "      <th>217</th>\n",
       "      <td>Sethi</td>\n",
       "    </tr>\n",
       "  </tbody>\n",
       "</table>\n",
       "<p>218 rows × 1 columns</p>\n",
       "</div>"
      ],
      "text/plain": [
       "                 Actor\n",
       "0         Rishi Kapoor\n",
       "1     Amitabh Bachchan\n",
       "2               Asrani\n",
       "3         Zohra Sehgal\n",
       "4      Parikshat Sahni\n",
       "..                 ...\n",
       "213        Miss Firoza\n",
       "214               Dube\n",
       "215              Dolly\n",
       "216      Jamila Massey\n",
       "217              Sethi\n",
       "\n",
       "[218 rows x 1 columns]"
      ]
     },
     "execution_count": 237,
     "metadata": {},
     "output_type": "execute_result"
    }
   ],
   "source": [
    "#List all the actors who acted in a film before 1970 and in a film after 1990.\n",
    "\n",
    "actrs_cnt = pd.read_sql_query(\"SELECT name Actor FROM Person WHERE TRIM(PID) IN \\\n",
    "                          (SELECT TRIM(PID) FROM M_Cast WHERE MID IN \\\n",
    "                          (SELECT MID FROM Movie m WHERE m.year > 2000) \\\n",
    "                          AND PID IN (SELECT PID FROM M_Cast WHERE MID IN \\\n",
    "                          (SELECT MID FROM Movie n WHERE n.year < 1970)))\",cnx)\n",
    "actrs_cnt"
   ]
  },
  {
   "cell_type": "code",
   "execution_count": 238,
   "id": "680e0567",
   "metadata": {},
   "outputs": [
    {
     "data": {
      "text/html": [
       "<div>\n",
       "<style scoped>\n",
       "    .dataframe tbody tr th:only-of-type {\n",
       "        vertical-align: middle;\n",
       "    }\n",
       "\n",
       "    .dataframe tbody tr th {\n",
       "        vertical-align: top;\n",
       "    }\n",
       "\n",
       "    .dataframe thead th {\n",
       "        text-align: right;\n",
       "    }\n",
       "</style>\n",
       "<table border=\"1\" class=\"dataframe\">\n",
       "  <thead>\n",
       "    <tr style=\"text-align: right;\">\n",
       "      <th></th>\n",
       "      <th>Actor</th>\n",
       "    </tr>\n",
       "  </thead>\n",
       "  <tbody>\n",
       "    <tr>\n",
       "      <th>0</th>\n",
       "      <td>Christian Bale</td>\n",
       "    </tr>\n",
       "    <tr>\n",
       "      <th>1</th>\n",
       "      <td>Cate Blanchett</td>\n",
       "    </tr>\n",
       "    <tr>\n",
       "      <th>2</th>\n",
       "      <td>Benedict Cumberbatch</td>\n",
       "    </tr>\n",
       "    <tr>\n",
       "      <th>3</th>\n",
       "      <td>Naomie Harris</td>\n",
       "    </tr>\n",
       "    <tr>\n",
       "      <th>4</th>\n",
       "      <td>Andy Serkis</td>\n",
       "    </tr>\n",
       "    <tr>\n",
       "      <th>...</th>\n",
       "      <td>...</td>\n",
       "    </tr>\n",
       "    <tr>\n",
       "      <th>37561</th>\n",
       "      <td>Kamika Verma</td>\n",
       "    </tr>\n",
       "    <tr>\n",
       "      <th>37562</th>\n",
       "      <td>Dhorairaj Bhagavan</td>\n",
       "    </tr>\n",
       "    <tr>\n",
       "      <th>37563</th>\n",
       "      <td>Nasir Shaikh</td>\n",
       "    </tr>\n",
       "    <tr>\n",
       "      <th>37564</th>\n",
       "      <td>Kannan</td>\n",
       "    </tr>\n",
       "    <tr>\n",
       "      <th>37565</th>\n",
       "      <td>Adrian Fulle</td>\n",
       "    </tr>\n",
       "  </tbody>\n",
       "</table>\n",
       "<p>37566 rows × 1 columns</p>\n",
       "</div>"
      ],
      "text/plain": [
       "                       Actor\n",
       "0             Christian Bale\n",
       "1             Cate Blanchett\n",
       "2       Benedict Cumberbatch\n",
       "3              Naomie Harris\n",
       "4                Andy Serkis\n",
       "...                      ...\n",
       "37561           Kamika Verma\n",
       "37562     Dhorairaj Bhagavan\n",
       "37563           Nasir Shaikh\n",
       "37564                 Kannan\n",
       "37565           Adrian Fulle\n",
       "\n",
       "[37566 rows x 1 columns]"
      ]
     },
     "execution_count": 238,
     "metadata": {},
     "output_type": "execute_result"
    }
   ],
   "source": [
    "#Actors that were never unemployed for more than 3 years at a stretch.\n",
    "\n",
    "actrs_res = pd.read_sql_query(\"select Name as Actor from Person \\\n",
    " where PID not in (select distinct(PID) from M_Cast as \\\n",
    " c1 natural join Movie as m1 \\\n",
    " where exists(select MID from M_Cast as c2 natural join Movie as m2 \\\n",
    " where c1.PID=c2.PID and (m2.year-3)> m1.year \\\n",
    " and not exists (select MID from M_Cast as c3 natural join Movie as m3 \\\n",
    " where c1.PID=c3.PID and m1.year<m3.year and m3.year<m2.year)))\",cnx)\n",
    "actrs_res"
   ]
  },
  {
   "cell_type": "code",
   "execution_count": null,
   "id": "8abcadf8",
   "metadata": {},
   "outputs": [],
   "source": []
  }
 ],
 "metadata": {
  "kernelspec": {
   "display_name": "Python 3",
   "language": "python",
   "name": "python3"
  },
  "language_info": {
   "codemirror_mode": {
    "name": "ipython",
    "version": 3
   },
   "file_extension": ".py",
   "mimetype": "text/x-python",
   "name": "python",
   "nbconvert_exporter": "python",
   "pygments_lexer": "ipython3",
   "version": "3.10.9"
  }
 },
 "nbformat": 4,
 "nbformat_minor": 5
}
